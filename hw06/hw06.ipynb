{
 "cells": [
  {
   "cell_type": "markdown",
   "metadata": {},
   "source": [
    "# Hw06 Coding: Debugging and MSTs\n",
    "In this notebook, we'll introduce some debugging techniques that can help you diagnose and fix errors in your code, and then we'll apply these techniques to debug an implementation of Kruskal's algorithm.\n",
    "\n",
    "*Note: We hope to give you a formal exposition of debugging techniques that you can use to diagnose and fix errors in your code, both in this course and beyond. However, do note that the tips mentioned here are not exhaustive and are tailored to the context of this course. Please refer to the resources mentioned at the end of this notebook if you'd like to learn more.*"
   ]
  },
  {
   "cell_type": "markdown",
   "metadata": {},
   "source": [
    "### If you're using Datahub:\n",
    "* Run the cell below **and restart the kernel if needed**\n",
    "\n",
    "### If you're running locally:\n",
    "You'll need to perform some extra setup.\n",
    "#### First-time setup\n",
    "* Install Anaconda following the instructions here: https://www.anaconda.com/products/distribution \n",
    "* Create a conda environment: `conda create -n cs170 python=3.8`\n",
    "* Activate the environment: `conda activate cs170`\n",
    "    * See for more details on creating conda environments https://conda.io/projects/conda/en/latest/user-guide/tasks/manage-environments.html\n",
    "* Install pip: `conda install pip`\n",
    "* Install jupyter: `conda install jupyter`\n",
    "\n",
    "#### Every time you want to work\n",
    "* Make sure you've activated the conda environment: `conda activate cs170`\n",
    "* Launch jupyter: `jupyter notebook` or `jupyter lab` \n",
    "* Run the cell below **and restart the kernel if needed**"
   ]
  },
  {
   "cell_type": "code",
   "execution_count": null,
   "metadata": {},
   "outputs": [],
   "source": [
    "# Install dependencies\n",
    "!pip install -r requirements.txt --quiet"
   ]
  },
  {
   "cell_type": "code",
   "execution_count": null,
   "metadata": {},
   "outputs": [],
   "source": [
    "import otter\n",
    "\n",
    "assert (otter.__version__ >= \"4.4.1\"), \"Please reinstall the requirements and restart your kernel.\"\n",
    "\n",
    "grader = otter.Notebook(\"hw06.ipynb\")\n",
    "import numpy as np\n",
    "from numpy.random import randint\n",
    "from time import time\n",
    "import tqdm\n",
    "import networkx as nx\n",
    "import matplotlib.pyplot as plt\n",
    "import numpy.random as random\n",
    "\n",
    "rng_seed = 0"
   ]
  },
  {
   "cell_type": "markdown",
   "metadata": {},
   "source": [
    "## Representing Graphs in Code (Part 3!!)\n",
    "We'll use a similar weighted adjacency list representation to last week. However, in this assignment, our graphs are undirected. Practically speaking, this means that in our adjacency list, each undirected edge is represented by two directed edges.\n",
    "\n",
    "So we can represent the undirected edge $(u, v)$ with weight $w$ by storing the tuple `(v, w)`  in `adj_list[u]` *and* the tuple `(u, w)` in `adj_list[v]`."
   ]
  },
  {
   "cell_type": "code",
   "execution_count": null,
   "metadata": {},
   "outputs": [],
   "source": [
    "# Do not modify the next three functions!\n",
    "def generate_adj_list(n, edge_list):\n",
    "    \"\"\"\n",
    "    args:\n",
    "        n:int = number of nodes in the graph. The nodes are labelled with integers 0 through n-1\n",
    "        edge_list:List[Tuple[int,int,int]] = edge list where each tuple (u,v,w) represents the undirected \n",
    "            and weighted edge (u,v,w) in the graph\n",
    "    return:\n",
    "        A List[List[Tuple[int, int]]] representing the adjacency list \n",
    "    \"\"\"\n",
    "    adj_list = [[] for i in range(n)] \n",
    "    for u, v, w in edge_list:\n",
    "        adj_list[u].append((v, w))\n",
    "        adj_list[v].append((u, w))\n",
    "    for nodes in adj_list:\n",
    "        nodes.sort()\n",
    "    return adj_list\n",
    "\n",
    "def adj_list_to_nx(adj_list):\n",
    "    \"\"\"Creates a networkx graph from an adjacency list\n",
    "\n",
    "    args:\n",
    "        adj_list (List[List[Tuple[int, int]]]): the adjacency list of a graph\n",
    "    returns:\n",
    "        nx.Graph: a networkx graph. Expects weights to be represented using the 'weight' attribute on edges\n",
    "    \"\"\"\n",
    "    G = nx.Graph()\n",
    "    for u in range(len(adj_list)):\n",
    "        for v, w in adj_list[u]:\n",
    "            G.add_edge(u, v, weight=w)\n",
    "    return G\n",
    "\n",
    "def nx_to_adj_list(G):\n",
    "    \"\"\"Creates an adjacency list from a networkx graph\n",
    "\n",
    "    args:\n",
    "        G (nx.Graph): a networkx graph. Expects weights to be represented using the 'weight' attribute on edges\n",
    "    returns:\n",
    "        List[List[Tuple[int, int]]]: the adjacency list of G\n",
    "    \"\"\"\n",
    "    return generate_adj_list(G.number_of_nodes(), G.edges.data('weight'))\n",
    "\n",
    "# Feel free to modify anything below this line\n",
    "def draw_graph(adj_list):\n",
    "    \"\"\"Utility method for visualizing undirected graphs\n",
    "\n",
    "    args:\n",
    "        adj_list (List[List[Tuple[int, int]]]): adjacency list of the graph given by generate_adj_list\n",
    "    \"\"\"\n",
    "    G = adj_list_to_nx(adj_list)\n",
    "\n",
    "    pos = nx.spring_layout(G)\n",
    "    nx.draw_networkx_edge_labels(G, pos, edge_labels=nx.get_edge_attributes(G, 'weight'), verticalalignment='top')\n",
    "    nx.draw(G, pos, with_labels=True)"
   ]
  },
  {
   "cell_type": "markdown",
   "metadata": {},
   "source": [
    "## The Task\n",
    "Consider the following task:\n",
    "\n",
    "Now it is time to implement Kruskal's algorithm! Implement the following function which returns a list of edges representing a minimum spanning tree. If the graph is not connected, you should return the empty list `[]`.\n",
    "\n",
    "Note that nodes in the graph are labelled with integers between 0 and n-1.\n",
    "\n",
    "You may not use any built in libraries or modules to compute the MST."
   ]
  },
  {
   "cell_type": "markdown",
   "metadata": {},
   "source": [
    "Now, suppose your friend wrote the following code to implement Union Find and Kruskal's algorithm:\n",
    "\n",
    "**Note: do not assume the correctness of any of the following code or comments as they may contain bugs.** Instead, go off of the task description provided above and use your own tests/debugging procedures to locate errors."
   ]
  },
  {
   "cell_type": "code",
   "execution_count": null,
   "metadata": {},
   "outputs": [],
   "source": [
    "class UnionFind:\n",
    "    def __init__(self, n):\n",
    "        '''\n",
    "        args:\n",
    "            n:int = number of nodes in the union find data structures. Nodes are index \n",
    "                by integers between 0 and n-1\n",
    "        '''\n",
    "        self.n = n\n",
    "        self.parents = [i for i in range(n)]\n",
    "        self.rank = [1]*n\n",
    "    \n",
    "    def find(self, i):\n",
    "        '''\n",
    "        args:\n",
    "            i:int = index of some node\n",
    "        returns:\n",
    "            an integer representing the root of the set in which node i belongs\n",
    "        '''\n",
    "        assert i >= 0 and i <= self.n-1, f\"Node {i} is not in the data structure. Only nodes {0} through {self.n-1} exist.\"\n",
    "        if i != self.parents[i]:\n",
    "            self.parents[i] = self.find(self.parents[i])\n",
    "        return self.parents[i]\n",
    "    \n",
    "    def union(self, pi, pj):\n",
    "        '''\n",
    "        args:\n",
    "            pi:int = index of some parent node\n",
    "            pj:int = index of some parent node    \n",
    "        '''\n",
    "        assert pi >= 0 and pi <= self.n-1, f\"Node {pi} is not in the data structure. Only nodes {0} through {self.n-1} exist.\"\n",
    "        assert pj >= 0 and pj <= self.n-1, f\"Node {pj} is not in the data structure. Only nodes {0} through {self.n-1} exist.\"\n",
    "\n",
    "        if pi != pj:\n",
    "            if self.rank[pi] < self.rank[pj]:\n",
    "                self.parents[pi] = pj\n",
    "            elif self.rank[pi] > self.rank[pj]:\n",
    "                self.parents[pi] = pi\n",
    "            else:\n",
    "                self.parents[pi] = pj\n",
    "                self.rank[pi] += 1\n",
    "                "
   ]
  },
  {
   "cell_type": "code",
   "execution_count": null,
   "metadata": {},
   "outputs": [],
   "source": [
    "def kruskal(G):\n",
    "    \"\"\"\n",
    "    args:\n",
    "        G:List[List[Tuple[int,int]]] = The input graph G is represented as a list of n lists, where \n",
    "            each element of the list G[u] (where u is an integer between 0 and n-1) is a tuple with \n",
    "            2 elements: (v, w) means there's an edge $(u,v)$ of weight $w$.\n",
    "            \n",
    "            You can assume that we will only feed simple graphs G to your implementation as input. \n",
    "            Also G is undirected, so if an edge (u,v) exists it will be found in both G[u] and G[v].\n",
    "    \n",
    "    returns:\n",
    "        List[Tuple[int,int]] = a list of edges belonging to an MST or [] if the graph is not connected\n",
    "    \"\"\"\n",
    "    # creates an adjacency list and sorts it\n",
    "    T = []\n",
    "    edges = []\n",
    "    \n",
    "    for u in range(len(G)):\n",
    "        for w, v in G[u]:\n",
    "            edges.append((w, u, v))\n",
    "    edges.sort()\n",
    "    \n",
    "    UF = UnionFind(len(G))\n",
    "                         \n",
    "    for e in edges:\n",
    "                         \n",
    "        # addes edges that aren't in the same connected component\n",
    "        u,v = e[1],e[2]\n",
    "        if UF.find(u) != UF.find(v):\n",
    "            UF.union(u,v)\n",
    "            T.append((u,v))\n",
    "\n",
    "    if len(T) != len(G) - 1:\n",
    "        return []\n",
    "\n",
    "    return T"
   ]
  },
  {
   "cell_type": "markdown",
   "metadata": {},
   "source": [
    "However, this code doesn't work quite right. Now, we'll look at a systematic way to isolate and debug the issues."
   ]
  },
  {
   "cell_type": "markdown",
   "metadata": {},
   "source": [
    "## 1: Reproduce the error\n",
    "Before we start debugging, it helps to diagnose the issue so we know where to start looking.\n",
    "Let's try to come up with some small test cases to determine why the code isn't working. Let's start by trying to come up with a small graph where the code fails to give the right answer.\n",
    "\n",
    "It may help to try and draw some graphs on paper, or if you are familiar with [Networkx](https://networkx.org/documentation/stable/tutorial.html), you can use Networkx methods and convert the graph to an adjacency list using `nx_to_adj_list` provided above.\n",
    "\n",
    "Sometimes, you can use intuition to come up with a test case that might expose certain edge cases. Otherwise, constructing random inputs until you find one that breaks the code can also work. Networkx and NumPy can be helpful for generating random inputs.\n",
    "\n",
    "> **Task 1:** Come up with a small graph where the code fails to give the right answer. You can represent the graph as an adjacency list. Your graph should have at most 10 vertices."
   ]
  },
  {
   "cell_type": "code",
   "execution_count": null,
   "metadata": {
    "tags": []
   },
   "outputs": [],
   "source": [
    "# TODO: construct your graph here\n",
    "\n",
    "test_graph = ..."
   ]
  },
  {
   "cell_type": "markdown",
   "metadata": {},
   "source": [
    "### Testing the algorithm using your test case\n",
    "You can use the following cell to visualize your graph."
   ]
  },
  {
   "cell_type": "code",
   "execution_count": null,
   "metadata": {},
   "outputs": [],
   "source": [
    "draw_graph(test_graph)"
   ]
  },
  {
   "cell_type": "markdown",
   "metadata": {},
   "source": [
    "Additionally, we provide the following helper code to check whether an MST is correct."
   ]
  },
  {
   "cell_type": "code",
   "execution_count": null,
   "metadata": {},
   "outputs": [],
   "source": [
    "def check_mst(adj_list, T):\n",
    "    '''Verifies whether T is a minimum spanning tree of G\n",
    "    args:\n",
    "        adj_list:List[List[Tuple[int, int]]] = adjacency list of the graph\n",
    "        T:List[Tuple[int, int]] = list of edges in the MST\n",
    "    '''\n",
    "    G = adj_list_to_nx(adj_list)\n",
    "    \n",
    "    nx_tree = nx.Graph()\n",
    "    nx_tree.add_nodes_from(G.nodes)\n",
    "\n",
    "    for u, v in T:\n",
    "        nx_tree.add_edge(u, v)\n",
    "\n",
    "    if not nx.is_connected(G) and T != []:\n",
    "        return False\n",
    "    \n",
    "    if not nx.is_tree(nx_tree):\n",
    "        return False\n",
    "    \n",
    "    if nx_tree.number_of_edges() != G.number_of_nodes() - 1:\n",
    "        return False\n",
    "    \n",
    "    mst = nx.minimum_spanning_tree(G)\n",
    "\n",
    "    T_weight = sum([G[u][v]['weight'] for u, v, in G.edges() if (u, v) in T or (v, u) in T])\n",
    "    mst_weight = sum([w for u, v, w in mst.edges(data='weight')])\n",
    "\n",
    "    return T_weight == mst_weight"
   ]
  },
  {
   "cell_type": "markdown",
   "metadata": {},
   "source": [
    "Now, verify that the buggy code fails on your test case below.\n",
    "\n",
    "_Points:_ 1"
   ]
  },
  {
   "cell_type": "code",
   "execution_count": null,
   "metadata": {
    "deletable": false,
    "editable": false
   },
   "outputs": [],
   "source": [
    "grader.check(\"q1\")"
   ]
  },
  {
   "cell_type": "markdown",
   "metadata": {},
   "source": [
    "## 2. Isolating the Issue\n",
    "Now that we have some inputs that we can use to reproduce the error, we can try to isolate the issue and determine where the bug is. To do this, we probably want to use some method to figure out what the code is doing. We can use print statements, or we can use a debugger.\n",
    "\n",
    "### Using print statements\n",
    "We can add print statements to our code at specific points to figure out certain things about the program state. We might want to know the specific values of certain variables, or whether certain branches of an if-else statement are being executed. It's usually a good idea to ensure print statements are descriptive enough to help you know what's going on, (e.g. label variables if you print multiple things at once), and to think about where you put print statements so you don't get overwhelmed with output.\n",
    "\n",
    "Advantages of print statement debugging:\n",
    "* Pretty much always works, regardless of language/IDE\n",
    "* Doesn't require any setup\n",
    "\n",
    "Disadvantages of print statement debugging:\n",
    "* Requires modification of the code\n",
    "* Output can become overwhelming quickly\n",
    "* Can slow down the program\n",
    "* Printing too much can cause the kernel to crash\n",
    "* Need to remember to remove print statements when you're done\n",
    "\n",
    "### Using a debugger\n",
    "If you use JupyterLab, you can use the built-in debugger (see [this tutorial](https://jupyterlab.readthedocs.io/en/latest/user/debugger.html)). \n",
    "VSCode and other IDEs also tend to have good debuggers. See [this tutorial](https://code.visualstudio.com/docs/datascience/jupyter-notebooks#_debug-a-jupyter-notebook) for how to use the VSCode debugger with Jupyter notebooks. If you use another IDE, you can find out more by checking the documentation for your IDE.\n",
    "\n",
    "Generally, we want to add breakpoints at important points in our code and then step through our code line-by-line and verify that the program state is what we expect it to be. We can also inspect the values of variables at each step.\n",
    "\n",
    "Advantages of using a debugger:\n",
    "* Can step through code line-by-line\n",
    "* Can inspect the values of variables at each step\n",
    "* Can check *any* variable value at *any* point in the program, and can stop and examine outputs *wherever you want*. This is extremely powerful!\n",
    "\n",
    "Using a debugger might take some time to get used to, but it's very helpful in debugging effectively.\n",
    "\n",
    "As stated in the MIT 6.031 course notes:\n",
    "> **A debugger is a powerful tool that rewards the effort put into learning how to use it.**"
   ]
  },
  {
   "cell_type": "markdown",
   "metadata": {},
   "source": [
    "<!-- BEGIN QUESTION -->\n",
    "\n",
    "Now that we have the tools to check the program output at every step, return to the function above and use these tools to debug the function. In this case, let's try to pinpoint the first time the function adds an incorrect edge to the MST. We'd like you to use some debugging or probing method to figure out what's going on, rather than just reading through the code and guessing where the bug is.\n",
    "\n",
    "> **Task 2 (manually graded):** Briefly describe (1-2 sentences) what method you used to debug the function, and write down the first incorrect edge that the function added to the tree.\n",
    "\n",
    "\n",
    "_Points:_ 2"
   ]
  },
  {
   "cell_type": "markdown",
   "metadata": {},
   "source": [
    "_Type your answer here, replacing this text._"
   ]
  },
  {
   "cell_type": "markdown",
   "metadata": {},
   "source": [
    "<!-- END QUESTION -->\n",
    "\n",
    "<!-- BEGIN QUESTION -->\n",
    "\n",
    "## 3. Figuring out the cause of the error\n",
    "Now that we've found the exact moment where the code starts to fail, we can investigate the root cause of the issue. This might involve a **divide and conquer** (heh) approach, where we try to isolate the issue to a specific part of the code. The debugging techniques we used in step 2 can be helpful here.\n",
    "\n",
    "Some questions to ask yourself:\n",
    "* When the code makes the wrong move, what are the variables involved? Are they what you expect them to be?\n",
    "* If some variables are wrong, where are these variables computed? Are they calculated correctly? (you can investigate this by using the debugging techniques from step 2)"
   ]
  },
  {
   "cell_type": "markdown",
   "metadata": {},
   "source": [
    "> **Task 3 (manually graded):** Briefly mention any variables that were incorrect when the code made the wrong move, and describe what was wrong with them. Then, describe how you might fix this issue (1 sentence).\n",
    "\n",
    "\n",
    "_Points:_ 1"
   ]
  },
  {
   "cell_type": "markdown",
   "metadata": {},
   "source": [
    "_Type your answer here, replacing this text._"
   ]
  },
  {
   "cell_type": "markdown",
   "metadata": {},
   "source": [
    "<!-- END QUESTION -->\n",
    "\n",
    "<!-- BEGIN QUESTION -->\n",
    "\n",
    "## 4. Make the fix\n",
    "Now that we've pinpointed the problem, we can attempt a fix. When we fix things, it's important to be systematic and change **one thing at a time**. It can also be useful to maintain a record of what you changed and why, in case your fix doesn't work and you need to go back to a previous version."
   ]
  },
  {
   "cell_type": "markdown",
   "metadata": {},
   "source": [
    "> **Task 4 (manually graded):** (1 sentence). Implement a fix in the code below Task 5. Describe the one thing you changed in the code to fix the issue you identified in Task 3.\n",
    "\n",
    "\n",
    "_Points:_ 1"
   ]
  },
  {
   "cell_type": "markdown",
   "metadata": {},
   "source": [
    "_Type your answer here, replacing this text._"
   ]
  },
  {
   "cell_type": "markdown",
   "metadata": {},
   "source": [
    "<!-- END QUESTION -->\n",
    "\n",
    "## 5. Repeat\n",
    "After making a fix, it's important to test the code again to ensure that the fix worked. If the fix didn't work, we can go back to step 3 and try to figure out what went wrong, and repeat the process until the code works as expected."
   ]
  },
  {
   "cell_type": "markdown",
   "metadata": {},
   "source": [
    "> **Task 5a:** Implement your fix from part 4 on the code below and repeat this process until the code works as expected. \n",
    "\n",
    "We will not provide formal local tests for this task, but we will check your new function for correctness on Gradescope. \n",
    "\n",
    "**We will be imposing a rate limit of 1 submission every 10 minutes on Gradescope, so you should verify correctness locally on your own before submitting.**\n",
    "\n",
    "*Hint: it may be helpful to come up with a few handmade test cases and a large number of randomly generated test cases to ensure your implementation is correct.*"
   ]
  },
  {
   "cell_type": "code",
   "execution_count": null,
   "metadata": {
    "tags": []
   },
   "outputs": [],
   "source": [
    "class UnionFind:\n",
    "    def __init__(self, n):\n",
    "        '''\n",
    "        args:\n",
    "            n:int = number of nodes in the union find data structures. Nodes are index \n",
    "                by integers between 0 and n-1\n",
    "        '''\n",
    "        self.n = n\n",
    "        self.parents = [i for i in range(n)]\n",
    "        self.rank = [1]*n\n",
    "    \n",
    "    def find(self, i):\n",
    "        '''\n",
    "        args:\n",
    "            i:int = index of some node\n",
    "        returns:\n",
    "            an integer representing the root of the set in which node i belongs\n",
    "        '''\n",
    "        assert i >= 0 and i <= self.n-1, f\"Node {i} is not in the data structure. Only nodes {0} through {self.n-1} exist.\"\n",
    "        if i != self.parents[i]:\n",
    "            self.parents[i] = self.find(self.parents[i])\n",
    "        return self.parents[i]\n",
    "    \n",
    "    def union(self, pi, pj):\n",
    "        '''\n",
    "        args:\n",
    "            pi:int = index of some parent node\n",
    "            pj:int = index of some parent node    \n",
    "        '''\n",
    "        assert pi >= 0 and pi <= self.n-1, f\"Node {pi} is not in the data structure. Only nodes {0} through {self.n-1} exist.\"\n",
    "        assert pj >= 0 and pj <= self.n-1, f\"Node {pj} is not in the data structure. Only nodes {0} through {self.n-1} exist.\"\n",
    "\n",
    "        if pi != pj:\n",
    "            if self.rank[pi] < self.rank[pj]:\n",
    "                self.parents[pi] = pj\n",
    "            elif self.rank[pi] > self.rank[pj]:\n",
    "                self.parents[pi] = pi\n",
    "            else:\n",
    "                self.parents[pi] = pj\n",
    "                self.rank[pi] += 1\n",
    "\n",
    "                "
   ]
  },
  {
   "cell_type": "code",
   "execution_count": null,
   "metadata": {
    "tags": []
   },
   "outputs": [],
   "source": [
    "def kruskal(G):\n",
    "    \"\"\"\n",
    "    args:\n",
    "        G:List[List[Tuple[int,int]]] = The input graph G is represented as a list of n lists, where \n",
    "            each element of the list G[u] (where u is an integer between 0 and n-1) is a tuple with \n",
    "            2 elements: (v, w) means there's an edge $(u,v)$ of weight $w$.\n",
    "            \n",
    "            You can assume that we will only feed simple graphs G to your implementation as input. \n",
    "            Also G is undirected, so if an edge (u,v) exists it will be found in both G[u] and G[v].\n",
    "    \n",
    "    returns:\n",
    "        List[Tuple[int,int]] = a list of edges belonging to an MST or [] if the graph is not connected\n",
    "    \"\"\"\n",
    "    # creates an adjacency list and sorts it\n",
    "    T = []\n",
    "    edges = []\n",
    "    \n",
    "    for u in range(len(G)):\n",
    "        for w, v in G[u]:\n",
    "            edges.append((w, u, v))\n",
    "    edges.sort()\n",
    "    \n",
    "    UF = UnionFind(len(G))\n",
    "                         \n",
    "    for e in edges:\n",
    "                         \n",
    "        # addes edges that aren't in the same connected component\n",
    "        u,v = e[1],e[2]\n",
    "        if UF.find(u) != UF.find(v):\n",
    "            UF.union(u,v)\n",
    "            T.append((u,v))\n",
    "\n",
    "    if len(T) != len(G) - 1:\n",
    "        return []\n",
    "\n",
    "    return T\n"
   ]
  },
  {
   "cell_type": "markdown",
   "metadata": {},
   "source": [
    "### Testing Locally\n",
    "Before submitting to Gradescope, you should probably test your implementation to make sure it works. You can use the following cell to do so. Any test cases you write here will not be graded.\n",
    "\n",
    "*Hint: feel free to copy/paste code from anywhere in this notebook or even from previous weeks' notebooks to help you test your code.*\n",
    "\n",
    "_Points:_ 2"
   ]
  },
  {
   "cell_type": "code",
   "execution_count": null,
   "metadata": {},
   "outputs": [],
   "source": [
    "# TODO: test your implementation here"
   ]
  },
  {
   "cell_type": "code",
   "execution_count": null,
   "metadata": {
    "deletable": false,
    "editable": false
   },
   "outputs": [],
   "source": [
    "grader.check(\"q5a\")"
   ]
  },
  {
   "cell_type": "markdown",
   "metadata": {},
   "source": [
    "<!-- BEGIN QUESTION -->\n",
    "\n",
    "> **Task 5b (manually graded):** If you noticed additional issues after making the fix in part 4, briefly describe them here and what you did to fix them (2-3 sentences per additional issue/fix).\n",
    "\n",
    "_Points:_ 2"
   ]
  },
  {
   "cell_type": "markdown",
   "metadata": {},
   "source": [
    "_Type your answer here, replacing this text._"
   ]
  },
  {
   "cell_type": "markdown",
   "metadata": {},
   "source": [
    "<!-- END QUESTION -->\n",
    "\n",
    "# References\n",
    "[1] MIT 6.031: Software Construction, Spring 2022. Reading 13: Debugging. https://web.mit.edu/6.031/www/sp22/classes/13-debugging/\n",
    "\n",
    "[2] <u>Debugging: The Nine Indispensable Rules for Finding Even the Most Elusive Software and Hardware Problems</u> by David Agans. "
   ]
  },
  {
   "cell_type": "markdown",
   "metadata": {
    "deletable": false,
    "editable": false
   },
   "source": [
    "## Submission\n",
    "\n",
    "Make sure you have run all cells in your notebook in order before running the cell below, so that all images/graphs appear in the output. The cell below will generate a zip file for you to submit."
   ]
  },
  {
   "cell_type": "code",
   "execution_count": null,
   "metadata": {
    "deletable": false,
    "editable": false
   },
   "outputs": [],
   "source": [
    "grader.export(pdf=False, force_save=True, run_tests=True)"
   ]
  },
  {
   "cell_type": "markdown",
   "metadata": {},
   "source": [
    " "
   ]
  }
 ],
 "metadata": {
  "kernelspec": {
   "display_name": "cs170-fa23",
   "language": "python",
   "name": "python3"
  },
  "language_info": {
   "codemirror_mode": {
    "name": "ipython",
    "version": 3
   },
   "file_extension": ".py",
   "mimetype": "text/x-python",
   "name": "python",
   "nbconvert_exporter": "python",
   "pygments_lexer": "ipython3",
   "version": "3.8.18"
  },
  "otter": {
   "OK_FORMAT": false,
   "assignment_name": "hw06",
   "tests": {
    "q1": "from otter.test_files import test_case\n\nOK_FORMAT = False\n\nname = \"q1\"\npoints = 1\n\n@test_case(points=None, hidden=False)\ndef test_q1(test_graph, nx, check_mst, adj_list_to_nx, nx_to_adj_list):\n    # replicate the graph algorithms in case students prematurely try to \"fix\" them\n    class UnionFind:\n        def __init__(self, n):\n            '''\n            args:\n                n:int = number of nodes in the union find data structures. Nodes are index \n                    by integers between 0 and n-1\n            '''\n            self.n = n\n            self.parents = [i for i in range(n)]\n            self.rank = [1]*n\n        \n        def find(self, i):\n            '''\n            args:\n                i:int = index of some node\n            returns:\n                an integer representing the root of the set in which node i belongs\n            '''\n            assert i >= 0 and i <= self.n-1, f\"Node {i} is not in the data structure. Only nodes {0} through {self.n-1} exist.\"\n            if i != self.parents[i]:\n                self.parents[i] = self.find(self.parents[i])\n            return self.parents[i]\n        \n        def union(self, pi, pj):\n            '''\n            args:\n                pi:int = index of some parent node\n                pj:int = index of some parent node    \n            '''\n            assert pi >= 0 and pi <= self.n-1, f\"Node {pi} is not in the data structure. Only nodes {0} through {self.n-1} exist.\"\n            assert pj >= 0 and pj <= self.n-1, f\"Node {pj} is not in the data structure. Only nodes {0} through {self.n-1} exist.\"\n\n            if pi != pj:\n                if self.rank[pi] < self.rank[pj]:\n                    self.parents[pi] = pj\n                elif self.rank[pi] > self.rank[pj]:\n                    self.parents[pi] = pi\n                else:\n                    self.parents[pi] = pj\n                    self.rank[pi] += 1\n                \n    \n    def buggy_kruskal(G):\n        # creates an adjacency list and sorts it\n        T = []\n        edges = []\n        \n        for u in range(len(G)):\n            for e in G[u]:\n                edges.append((u, e[0], e[1]))\n        edges.sort()\n        \n        UF = UnionFind(len(G))\n                            \n        for e in edges:\n                            \n            # addes edges that aren't in the same connected component\n            u,v = e[0],e[1]\n            if UF.find(u) != UF.find(v):\n                UF.union(u,v)\n                T.append((u,v))\n\n        if len(T) != len(G) - 1:\n            return []\n\n        return T\n\n    assert not check_mst(test_graph, buggy_kruskal(test_graph)), \"The buggy kruskal algorithm produces the correct result for the given test_graph\"\n\n",
    "q5a": "from otter.test_files import test_case\n\nOK_FORMAT = False\n\nname = \"q5a\"\npoints = 2\n\n@test_case(points=None, hidden=False)\ndef test_q5(kruskal, nx, np, rng_seed, check_mst, tqdm, nx_to_adj_list, adj_list_to_nx):\n    rng = np.random.default_rng(rng_seed)\n\n    import signal\n    def timeout_handler(num, stack):\n        raise Exception(\"Your solution timed out.\")\n    if hasattr(signal, 'SIGALRM') and hasattr(signal, 'alarm'):\n        signal.signal(signal.SIGALRM, timeout_handler)\n        signal.alarm(300) # tests can take a long time, doesn't matter since they won't be run locally\n\n    try:\n        for n in tqdm.tqdm(range(20,1001,10), desc=\"Testing correctness\"):\n            # (slightly less) nice value to ensure graph is almost surely connected\n            # but big graphs are not too dense (slow)\n            p = 2*np.log(n) / n\n            random_graph = nx.fast_gnp_random_graph(n, p, directed=False, seed=rng_seed+n)\n\n            for u, v in random_graph.edges:\n                random_graph[u][v]['weight'] = rng.integers(1, n)\n\n            # note that the graph (and the adjacency list) is directed\n            adj_list_graph = nx_to_adj_list(random_graph)\n\n            # bans networkx\n            nxall = nx\n            def error(*args, **kwargs):\n                nx = nxall\n                raise Exception(\"You may not call any graph libraries, modules, or functions.\")\n            nx = error\n\n            try:\n                mst = kruskal(adj_list_graph)\n            finally: \n                nx = nxall \n\n            if not nx.is_connected(random_graph):\n                assert mst == [], \"Your algorithm should return an empty list for disconnected graphs\"\n            else:\n                assert check_mst(adj_list_graph, mst), \"Your algorithm did not return a correct minimum spanning tree\"\n\n    finally:\n        if hasattr(signal, 'SIGALRM') and hasattr(signal, 'alarm'):\n            signal.alarm(0)\n\n"
   }
  }
 },
 "nbformat": 4,
 "nbformat_minor": 2
}
