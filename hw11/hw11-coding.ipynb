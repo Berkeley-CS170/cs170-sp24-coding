{
 "cells": [
  {
   "cell_type": "markdown",
   "id": "a9601a93",
   "metadata": {},
   "source": [
    "# Approximation Algorithms\n",
    "\n",
    "In the last notebook, we saw one algorithm to solve the Traveling Salesperson Problem. This time, we'll implement some algorithms which will give us approximate solutions to the TSP problem in polynomial time."
   ]
  },
  {
   "cell_type": "markdown",
   "id": "dfa8d797",
   "metadata": {},
   "source": [
    "### If you're using Datahub:\n",
    "* Run the cell below **and restart the kernel if needed**\n",
    "\n",
    "### If you're running locally:\n",
    "You'll need to perform some extra setup.\n",
    "#### First-time setup\n",
    "* Install Anaconda following the instructions here: https://www.anaconda.com/products/distribution \n",
    "* Create a conda environment: `conda create -n cs170 python=3.8`\n",
    "* Activate the environment: `conda activate cs170`\n",
    "    * See for more details on creating conda environments https://conda.io/projects/conda/en/latest/user-guide/tasks/manage-environments.html\n",
    "* Install pip: `conda install pip`\n",
    "* Install jupyter: `conda install jupyter`\n",
    "\n",
    "#### Every time you want to work\n",
    "* Make sure you've activated the conda environment: `conda activate cs170`\n",
    "* Launch jupyter: `jupyter notebook` or `jupyter lab` \n",
    "* Run the cell below **and restart the kernel if needed**"
   ]
  },
  {
   "cell_type": "code",
   "execution_count": null,
   "id": "ae7439cb",
   "metadata": {},
   "outputs": [],
   "source": [
    "# Install dependencies\n",
    "!pip install -r requirements.txt --quiet"
   ]
  },
  {
   "cell_type": "code",
   "execution_count": null,
   "id": "990e30be",
   "metadata": {},
   "outputs": [],
   "source": [
    "import otter\n",
    "assert (otter.__version__ >= \"5.4.1\"), \"Please reinstall the requirements and restart your kernel.\"\n",
    "\n",
    "grader = otter.Notebook(\"hw11-coding.ipynb\")\n",
    "import networkx as nx\n",
    "import pickle\n",
    "\n",
    "with open('tests_1.pkl', 'rb') as f:\n",
    "    test_data = pickle.load(f)\n",
    "\n",
    "rng_seed = 0"
   ]
  },
  {
   "cell_type": "markdown",
   "id": "f30c8c46",
   "metadata": {},
   "source": [
    "# The Traveling Salesperson Problem\n",
    "\n",
    "In this notebook, we will revisit the Traveling Salesperson Problem, which asks the following question: _Given a list of cities and the distances between each pair of cities, what is the shortest possible route that visits each city exactly once and returns to the origin city?_\n",
    "\n",
    "The problem can be formally defined as follows:\n",
    "\n",
    "```\n",
    "Input: An n x n matrix of distances, where M[i, j] corresponds to the distance from city i to city j.\n",
    "Output: An ordered list of cities [c1, c2, ... cn] that defines the shortest tour which passes through all the cities, starting and ending at the same city.\n",
    "```\n",
    "\n",
    "TSP is an NP-complete problem, and unless P=NP, there is no polynomial-time algorithm that finds exact solutions to the problem. You may remember that the Dynamic Programming algorithm we implemented in the last homework was very slow :)\n",
    "\n",
    "This time, we will focus on efficient ways to find approximate solutions. \n",
    "\n",
    "We have provided a convenience function that, given an input matrix and a list of cities, evaluates the length of the path that passes through all of the cities in the list in order."
   ]
  },
  {
   "cell_type": "code",
   "execution_count": null,
   "id": "b1c1c27f",
   "metadata": {},
   "outputs": [],
   "source": [
    "def validate_tour(tour, dist_arr):\n",
    "    \"\"\"Returns the length of the tour if it is valid, -1 otherwise\n",
    "    \"\"\"\n",
    "    n = len(tour)\n",
    "    cost = 0\n",
    "    for i in range(n):\n",
    "        if dist_arr[tour[i-1]][tour[i]] == float('inf'):\n",
    "            return -1\n",
    "        cost += dist_arr[tour[i-1]][tour[i]]\n",
    "    return cost"
   ]
  },
  {
   "cell_type": "markdown",
   "id": "f0f298ea",
   "metadata": {},
   "source": [
    "### Q1a) Greedy Solution from Designated Home\n",
    "Implement a greedy solution, which starts at city `home` and greedily chooses the closest city that has not been visited yet, until all cities have been visited. Return the path as a list of cities on that path, starting and ending at `path[0]`. **For example, to represent the cycle `0 -> 1 -> 2 -> 3 -> 0`, return the list `[0, 1, 2, 3]`.**  You may break ties arbitrarily."
   ]
  },
  {
   "cell_type": "code",
   "execution_count": null,
   "id": "ce98c07e",
   "metadata": {
    "tags": []
   },
   "outputs": [],
   "source": [
    "def tsp_greedy(matrix, home):\n",
    "    \"\"\"\n",
    "    A greedy implementation of TSP, starting and ending at home.\n",
    "    \n",
    "    Args:\n",
    "        matrix: List[List[float]]\n",
    "            An n x n matrix of distances, where M[i, j] corresponds to the distance from city i to city j.\n",
    "        home: int\n",
    "            The index of the city to start and end at.\n",
    "    \n",
    "    Returns:\n",
    "        path: List[int] \n",
    "            A list corresponding to the order in which to visit cities, starting from path[0] and ending \n",
    "            at path[-1] before returning to path[0]. path[0] should be home.    \n",
    "    \"\"\"\n",
    "    ..."
   ]
  },
  {
   "cell_type": "code",
   "execution_count": null,
   "id": "ae5fe384",
   "metadata": {
    "deletable": false,
    "editable": false
   },
   "outputs": [],
   "source": [
    "grader.check(\"q1a\")"
   ]
  },
  {
   "cell_type": "markdown",
   "id": "b6dd138b",
   "metadata": {},
   "source": [
    "### Q1b) Greedy Solution \n",
    "An easy way to improve over the original greedy solution is to try your greedy solution on all of the possible starting locations and choose the best one. Implement a general greedy solution, which runs the Q1a implementation on all possible home locations, and returns the best overall path.\n",
    "\n",
    "_Your solution should take around 8 lines of code.__"
   ]
  },
  {
   "cell_type": "code",
   "execution_count": null,
   "id": "79b97339",
   "metadata": {
    "tags": []
   },
   "outputs": [],
   "source": [
    "def tsp_greedy_general(matrix):\n",
    "    \"\"\"\n",
    "    A generalized greedy implementation of TSP.\n",
    "    \n",
    "    Args:\n",
    "        matrix: List[List[float]]\n",
    "            An n x n matrix of distances, where M[i, j] corresponds to the distance from city i to city j.\n",
    "    \n",
    "    Returns:\n",
    "        path: List[int] \n",
    "            A list corresponding to the order in which to visit cities, starting from path[0] and ending \n",
    "            at path[-1] before returning to path[0].  \n",
    "    \"\"\"\n",
    "    ..."
   ]
  },
  {
   "cell_type": "code",
   "execution_count": null,
   "id": "4a6da5b4",
   "metadata": {
    "deletable": false,
    "editable": false
   },
   "outputs": [],
   "source": [
    "grader.check(\"q1b\")"
   ]
  },
  {
   "cell_type": "markdown",
   "id": "f6ff578b",
   "metadata": {},
   "source": [
    "### Q2) Approximation Algorithm for Metric TSP\n",
    "\n",
    "When NP-complete problems are given specific constraints, they are sometimes easier to approximate. For this question, we will focus on a special variant of TSP called the **metric TSP**, where distances satisfy the following three properties:\n",
    "1. Distances are non-negative: $d(i, j) \\geq 0$\n",
    "2. Distances are symmetric: $d(i, j) = d(j, i)$\n",
    "3. Distances satisfy the following inequality:\n",
    "\n",
    "$$ \\forall i, j, k \\in V,\\; d(i, k) \\leq d(i, j) + d(j, k)$$\n",
    "\n",
    "_(This is called the triangle inequality, and all mathematical distance metrics obey it, which is why this is called the metric TSP!)_\n",
    "\n",
    "In other words, the graph is complete and the shortest path from one city to another city is always the direct path.\n",
    "\n",
    "The Metric TSP problem is still NP-complete, but the following approximation returns a path that is guaranteed to be **at most twice the length of the optimal path**:\n",
    "\n",
    "* Generate a minimum spanning tree of the graph.\n",
    "* Run depth-first search on the minimum spanning tree.\n",
    "* Return the nodes in the order that you found them with depth first search (i.e. by preorder number).\n",
    "\n",
    "See DPV Section 9.2 for more details: https://people.eecs.berkeley.edu/~vazirani/algorithms/chap9.pdf#page=12\n",
    "\n",
    "Implement this approximation algorithm below.\n",
    "\n",
    "**For this problem, run depth-first search starting at node 0, and explore neighbors in numerical order.** \n",
    "\n",
    "_Feel free to reuse code from previous coding homework assignments, but please don't use any external library imports for this part. If you want to reuse your Kruskal's code to generate an MST, you should reconfigure it to take in an adjacency matrix instead of an adjacency list._"
   ]
  },
  {
   "cell_type": "code",
   "execution_count": null,
   "id": "a69dc865",
   "metadata": {
    "tags": []
   },
   "outputs": [],
   "source": [
    "def metric_tsp_approximation(matrix):\n",
    "    \"\"\"\n",
    "    An algorithm for solving the Metric TSP using minimum spanning trees and depth first search.\n",
    "    \n",
    "    Args:\n",
    "        matrix: List[List[float]]\n",
    "            An n x n matrix of distances, where M[i, j] corresponds to the distance from city i to city j.\n",
    "    \n",
    "    Returns:\n",
    "        path: List[int] \n",
    "            A list corresponding to the order in which to visit cities, starting from path[0] and ending \n",
    "            at path[-1] before returning to path[0].  \n",
    "    \"\"\"\n",
    "    ..."
   ]
  },
  {
   "cell_type": "code",
   "execution_count": null,
   "id": "68ef020a",
   "metadata": {
    "deletable": false,
    "editable": false
   },
   "outputs": [],
   "source": [
    "grader.check(\"q2\")"
   ]
  },
  {
   "cell_type": "markdown",
   "id": "da24e969",
   "metadata": {
    "deletable": false,
    "editable": false
   },
   "source": [
    "## Submission\n",
    "\n",
    "Make sure you have run all cells in your notebook in order before running the cell below, so that all images/graphs appear in the output. The cell below will generate a zip file for you to submit."
   ]
  },
  {
   "cell_type": "code",
   "execution_count": null,
   "id": "34d6a092",
   "metadata": {
    "deletable": false,
    "editable": false
   },
   "outputs": [],
   "source": [
    "grader.export(pdf=False, force_save=True)"
   ]
  },
  {
   "cell_type": "markdown",
   "id": "3520fb88",
   "metadata": {},
   "source": [
    " "
   ]
  }
 ],
 "metadata": {
  "kernelspec": {
   "display_name": "Python 3",
   "language": "python",
   "name": "python3"
  },
  "language_info": {
   "codemirror_mode": {
    "name": "ipython",
    "version": 3
   },
   "file_extension": ".py",
   "mimetype": "text/x-python",
   "name": "python",
   "nbconvert_exporter": "python",
   "pygments_lexer": "ipython3",
   "version": "3.8.18"
  },
  "otter": {
   "OK_FORMAT": false,
   "assignment_name": "hw11-coding",
   "tests": {
    "q1a": "from otter.test_files import test_case\n\nOK_FORMAT = False\n\nname = \"q1a\"\npoints = 2.0\n\n@test_case(points=None, hidden=False)\ndef test_q1a(tsp_greedy):\n    import random\n    \n    def matrix_to_string(matrix):\n        return \"\".join([f\"{row}\\n\" for row in matrix])\n                   \n    def verify_basic(matrix, path):\n        \"\"\"Verify that the proposed solution is valid.\"\"\"\n        assert len(path) == len(matrix), f\"There are {len(matrix)} cities but your path only has {len(path)} cities!\"\n        assert sorted(path) == list(range(len(path))), f\"Your path is not a permutation of cities (ints from 0 to {len(path)-1})\"\n\n    def verify_greedy(matrix, path):\n        \"\"\"Verify that the proposed solution is a valid greedy solution at each step (except the last one).\"\"\"\n        weights = [matrix[path[i]][path[i+1]] for i in range(len(path) - 1)]\n        for i in range(len(weights)):\n            available_options = [matrix[path[i]][path[j]] for j in range(i+1, (len(path)))]\n            assert weights[i] == min(available_options), (\n                f\"At time {i}, you could've chosen an edge of weight {min(available_options)}, \"\n                f\"but instead you chose an edge of weight {weights[i]}!\\n\\n\"\n\n                f\"The matrix: \\n{matrix_to_string(matrix)}\\n\"\n                f\"The path you returned: \\n{path}\")\n    \n    matrix_sizes = [5, 10, 20, 40, 100]\n    for size in matrix_sizes:\n        print(f\"Testing on {size} cities...\")\n        for it in range(20):\n            matrix = [[random.randint(0, size * 2) for _ in range(size)] for _ in range(size)]\n            home = random.randint(0, size-1)\n            path = tsp_greedy(matrix, home)\n            assert path[0] == home, f\"Your path should start at {home} but it starts at {path[0]}\"\n            verify_basic(matrix, path)\n            verify_greedy(matrix, path)\n    print(f\"All test cases passed!\")\n\n",
    "q1b": "from otter.test_files import test_case\n\nOK_FORMAT = False\n\nname = \"q1b\"\npoints = 1.0\n\n@test_case(points=None, hidden=False)\ndef test_q1b(tsp_greedy_general, tsp_greedy, validate_tour):\n    import random\n    \n    def matrix_to_string(matrix):\n        return \"\".join([f\"{row}\\n\" for row in matrix])\n                   \n    def verify_basic(matrix, path):\n        \"\"\"Verify that the proposed solution is valid.\"\"\"\n        assert len(path) == len(matrix), f\"There are {len(matrix)} cities but your path only has {len(path)} cities!\"\n        assert sorted(path) == list(range(len(path))), f\"Your path is not a permutation of cities (ints from 0 to {len(path)-1})\"\n\n    def verify_greedy(matrix, path):\n        \"\"\"Verify that the proposed solution is a valid greedy solution at each step (except the last one).\"\"\"\n        weights = [matrix[path[i]][path[i+1]] for i in range(len(path) - 1)]\n        for i in range(len(weights)):\n            available_options = [matrix[path[i]][path[j]] for j in range(i+1, (len(path)))]\n            assert weights[i] == min(available_options), (\n                f\"At time {i}, you could've chosen an edge of weight {min(available_options)}, \"\n                f\"but instead you chose an edge of weight {weights[i]}!\\n\\n\"\n\n                f\"The matrix: \\n{matrix_to_string(matrix)}\\n\"\n                f\"The path you returned: \\n{path}\")\n    \n    matrix_sizes = [5, 10, 20, 40, 100]\n    for size in matrix_sizes:\n        print(f\"Testing on {size} cities...\")\n        for it in range(20):\n            matrix = [[random.randint(0, size * 2) for _ in range(size)] for _ in range(size)]\n            home = random.randint(0, size-1)\n            path = tsp_greedy_general(matrix)\n            verify_basic(matrix, path)\n            verify_greedy(matrix, path)\n            \n            path_length = validate_tour(path, matrix)\n            for home in range(size):\n                assert path_length <= validate_tour(tsp_greedy(matrix, home), matrix)\n    print(f\"All test cases passed!\")\n\n",
    "q2": "from otter.test_files import test_case\n\nOK_FORMAT = False\n\nname = \"q2\"\npoints = 3.0\n\n@test_case(points=1.0, hidden=False)\n\ndef test_q2a(metric_tsp_approximation):\n    import pickle as pkl\n    import os\n    \n    def matrix_to_string(matrix):\n        return \"\".join([f\"{row}\\n\" for row in matrix])\n                   \n    def verify_basic(matrix, path):\n        \"\"\"Verify that the proposed solution is valid.\"\"\"\n        assert len(path) == len(matrix), f\"There are {len(matrix)} cities but your path only has {len(path)} cities!\"\n        assert sorted(path) == list(range(len(path))), f\"Your path is not a permutation of cities (ints from 0 to {len(path)-1})\"\n\n    \n    with open('tests_1.pkl', 'rb') as f:\n        cases = pkl.load(f)\n\n    for m, s in cases:\n        student_sol = metric_tsp_approximation(m)\n        verify_basic(m, student_sol)\n        assert student_sol == s, (\n            f\"Your solution returned the incorrect path!\"\n            \n            f\"The matrix: \\n{matrix_to_string(m)}\\n\"\n            f\"The path you returned: \\n{student_sol}\"\n            f\"The correct path: \\n{s}\")\n    print(\"All test cases passed!\")\n\n@test_case(points=2.0, hidden=False)\n\ndef test_q2b(metric_tsp_approximation):\n    import pickle as pkl\n    import os\n    \n    def matrix_to_string(matrix):\n        return \"\".join([f\"{row}\\n\" for row in matrix])\n                   \n    def verify_basic(matrix, path):\n        \"\"\"Verify that the proposed solution is valid.\"\"\"\n        assert len(path) == len(matrix), f\"There are {len(matrix)} cities but your path only has {len(path)} cities!\"\n        assert sorted(path) == list(range(len(path))), f\"Your path is not a permutation of cities (ints from 0 to {len(path)-1})\"\n    \n    with open('tests_2.pkl', 'rb') as f:\n        cases = pkl.load(f)\n    \n    for m, s in cases:\n        student_sol = metric_tsp_approximation(m)\n        verify_basic(m, student_sol)\n        assert student_sol == s, (\n            f\"Your solution returned the incorrect path!\"\n            \n            f\"The matrix: \\n{matrix_to_string(m)}\\n\"\n            f\"The path you returned: \\n{student_sol}\"\n            f\"The correct path: \\n{s}\")\n    print(\"All test cases passed!\")\n\n"
   }
  }
 },
 "nbformat": 4,
 "nbformat_minor": 5
}
