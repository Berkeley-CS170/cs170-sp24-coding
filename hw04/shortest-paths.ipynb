{
 "cells": [
  {
   "cell_type": "markdown",
   "metadata": {},
   "source": [
    "# Dijkstra's and Bellman-Ford\n",
    "\n",
    "Here, you will implement the two closely-related shortest-path algorithms that we've seen in class."
   ]
  },
  {
   "cell_type": "markdown",
   "metadata": {},
   "source": [
    "### If you're using Datahub:\n",
    "* Run the cell below **and restart the kernel if needed**\n",
    "\n",
    "### If you're running locally:\n",
    "You'll need to perform some extra setup.\n",
    "#### First-time setup\n",
    "* Install Anaconda following the instructions here: https://www.anaconda.com/products/distribution \n",
    "* Create a conda environment: `conda create -n cs170 python=3.8`\n",
    "* Activate the environment: `conda activate cs170`\n",
    "    * See for more details on creating conda environments https://conda.io/projects/conda/en/latest/user-guide/tasks/manage-environments.html\n",
    "* Install pip: `conda install pip`\n",
    "* Install jupyter: `conda install jupyter`\n",
    "\n",
    "#### Every time you want to work\n",
    "* Make sure you've activated the conda environment: `conda activate cs170`\n",
    "* Launch jupyter: `jupyter notebook` or `jupyter lab` \n",
    "* Run the cell below **and restart the kernel if needed**"
   ]
  },
  {
   "cell_type": "code",
   "execution_count": null,
   "metadata": {},
   "outputs": [],
   "source": [
    "# Install dependencies\n",
    "!pip install -r requirements.txt --quiet"
   ]
  },
  {
   "cell_type": "code",
   "execution_count": null,
   "metadata": {},
   "outputs": [],
   "source": [
    "import otter\n",
    "\n",
    "assert (otter.__version__ >= \"4.4.1\"), \"Please reinstall the requirements and restart your kernel.\"\n",
    "\n",
    "grader = otter.Notebook(\"shortest-paths.ipynb\")\n",
    "import numpy as np\n",
    "from numpy.random import randint\n",
    "from time import time\n",
    "import heapq\n",
    "import tqdm\n",
    "import networkx as nx\n",
    "import matplotlib.pyplot as plt\n",
    "import numpy.random as random\n",
    "\n",
    "rng_seed = 0"
   ]
  },
  {
   "cell_type": "markdown",
   "metadata": {},
   "source": [
    "### Representing graphs in code (Part 2!!!)\n",
    "Unlike last week's assignment, our graphs are now weighted, so we'll need to store weights alongside the edge information. Using an edge list representation, we can represent directed edges $(u, v)$ with weight $w$ by creating a list of tuples `(u, v, w)`.\n",
    "\n",
    "However, like last week, we'd like to represent our graph using adjacency lists. We can represent the directed edge $(u, v)$ with weight $w$ by storing the tuple `(v, w)`  in `adj_list[u]`."
   ]
  },
  {
   "cell_type": "code",
   "execution_count": null,
   "metadata": {},
   "outputs": [],
   "source": [
    "def generate_adj_list(n, edge_list):\n",
    "    \"\"\"\n",
    "    args:\n",
    "        n:int = number of nodes in the graph. The nodes are labelled with integers 0 through n-1\n",
    "        edge_list:List[Tuple[int,int,int]] = edge list where each tuple (u,v,w) represents the directed \n",
    "            and weighted edge (u,v,w) in the graph\n",
    "    return:\n",
    "        A List[List[Tuple[int, int]]] representing the adjacency list \n",
    "    \"\"\"\n",
    "    adj_list = [[] for i in range(n)] \n",
    "    for u, v, w in edge_list:\n",
    "        adj_list[u].append((v, w))\n",
    "    for nodes in adj_list:\n",
    "        nodes.sort()\n",
    "    return adj_list\n",
    "\n",
    "def draw_graph(adj_list):\n",
    "    \"\"\"Utility method for visualizing graphs\n",
    "\n",
    "    args:\n",
    "        adj_list (List[List[Tuple[int, int]]]): adjacency list of the graph given by generate_adj_list\n",
    "    \"\"\"\n",
    "    G = nx.DiGraph()\n",
    "    for u in range(len(adj_list)):\n",
    "        for v, w in adj_list[u]:\n",
    "            G.add_edge(u, v, weight=w)\n",
    "    nx.draw(G, with_labels=True)"
   ]
  },
  {
   "cell_type": "markdown",
   "metadata": {},
   "source": [
    "### Priority Queues in Python\n",
    "For simplicity, we've given you the following implementation of a priority queue, which uses the `heapq` module under the hood. Our implementation implements `insert` and `deleteMin` as described in DPV, but does not include the `decreaseKey` operation since it's not supported by Python's `heapq` module. However, it turns out that we don't need `decreaseKey` to implement any of the algorithms in this assignment - we'll discuss this more in the relevant sections.\n",
    "\n",
    "You don't have to understand our implementation, but if you're curious to learn more, the `heapq` module documentation is available here: https://docs.python.org/3/library/heapq.html\n",
    "\n",
    "You may modify this implementation as you see fit, but if you do so, ensure that your modified implementation is correct and efficient. **A priority queue implementation which is slower than ours may result in your code timing out during grading.**"
   ]
  },
  {
   "cell_type": "code",
   "execution_count": null,
   "metadata": {},
   "outputs": [],
   "source": [
    "class PriorityQueue:\n",
    "    def __init__(self):\n",
    "        self.queue = []\n",
    "\n",
    "    def insert(self, priority, item):\n",
    "        heapq.heappush(self.queue, (priority, item))\n",
    "\n",
    "    def deleteMin(self):\n",
    "        return heapq.heappop(self.queue)[1]\n",
    "\n",
    "    def __len__(self):\n",
    "        return len(self.queue)    "
   ]
  },
  {
   "cell_type": "markdown",
   "metadata": {},
   "source": [
    "The operations `insert` and `deleteMin` work as follows:"
   ]
  },
  {
   "cell_type": "code",
   "execution_count": null,
   "metadata": {},
   "outputs": [],
   "source": [
    "pq = PriorityQueue()\n",
    "\n",
    "for i in range(10):\n",
    "    pq.insert(-i, i)\n",
    "\n",
    "# should print 9, 8, 7\n",
    "print(pq.deleteMin())\n",
    "print(pq.deleteMin())\n",
    "print(pq.deleteMin())"
   ]
  },
  {
   "cell_type": "markdown",
   "metadata": {},
   "source": [
    "### Q0: The `update` function (Optional)\n",
    "As described in section 4.6.1. of DPV, we can implement a subroutine `update` to update vertex distances in our graph. Bellman-Ford can be thought of as a applying a sequence of `update` operations, as described in DPV, but it turns out that Djikstra's algorithm can too! In this part, you may implement the `update` function which can be used in both algorithms.\n",
    "\n",
    "Since later on, we will ask you to reconstruct the actual shortest path, it may be useful to keep track of the predecessor of each vertex when updating an edge. \n",
    "\n",
    "If you'd like, you can safely skip this part, as it's not worth any points. \n",
    "\n",
    "_Points:_ 0.0"
   ]
  },
  {
   "cell_type": "code",
   "execution_count": null,
   "metadata": {
    "tags": []
   },
   "outputs": [],
   "source": [
    "def update(u, v, w, dists, prev=None):\n",
    "    \"\"\"Updates the distance dists[v] in the dists array based on the\n",
    "    update procedure described in DPV.\n",
    "\n",
    "    Args:\n",
    "        u (int): starting node of th eedge (u, v)\n",
    "        v (int): ending node of the edge (u, v)\n",
    "        w (int): weight of the edge (u, v)\n",
    "        dists (List[int]): The distance array used in our shortest-path algorithm. The source node\n",
    "            s actually does not need to be specified here, but it will be needed in the \n",
    "            shortest-path algorithm.\n",
    "        prev (List[int]): Array keeping track of the previous node along the shortest path\n",
    "    \"\"\"\n",
    "    # TODO: your code here!\n",
    "    pass"
   ]
  },
  {
   "cell_type": "markdown",
   "metadata": {},
   "source": [
    "### Q1: Dijkstra's Algorithm\n",
    "If you need a refresher on how the algorithm works, check out pp.120-121 from DPV: https://people.eecs.berkeley.edu/~vazirani/algorithms/chap4.pdf\n",
    "\n",
    "Unlike the implementation in DPV, we don't have access to the `decreaseKey` operation, so we'll make the following modification: Instead of calling `decreaseKey`, we'll just insert a new copy of the vertex with the updated distance into the priority queue, and not worry about removing the old copy. This could result in multiple copies of the same vertex in the priority queue, but should not affect the correctness of the algorithm. \n",
    "\n",
    "> **Task 1:** Compute a shortest path from $s$ to $t$ using Dijkstra's algorithm and return the path as a list of nodes on that path. \n",
    "\n",
    "For example, the path ${s \\to a \\to b \\to c \\to t}$ corresponds to the list `[s, a, b, c, t]`. \n",
    "\n",
    "All edge weights are non-negative. If no path exists, return the empty list `[]`. If multiple shortest paths exist, you may return any of them.\n",
    "\n",
    "_Points:_ 3"
   ]
  },
  {
   "cell_type": "code",
   "execution_count": null,
   "metadata": {
    "tags": []
   },
   "outputs": [],
   "source": [
    "def dijkstra(G, s, t):\n",
    "    \"\"\"Implements Dijkstra's algorithm to find the shortest weighted path from s to t.\n",
    "\n",
    "    Args:\n",
    "        G (List[List[Tuple[int, int]]]): The weighted adjacency list of the graph\n",
    "        s (int): The source node\n",
    "        t (int): The target node\n",
    "\n",
    "    Returns:\n",
    "        List[int]: A list of nodes starting with s and ending with t representing the\n",
    "        shortest weighted s to t path if it exists. Returns an empty list otherwise.\n",
    "    \"\"\"\n",
    "    ..."
   ]
  },
  {
   "cell_type": "code",
   "execution_count": null,
   "metadata": {
    "deletable": false,
    "editable": false
   },
   "outputs": [],
   "source": [
    "grader.check(\"q1\")"
   ]
  },
  {
   "cell_type": "markdown",
   "metadata": {},
   "source": [
    "### Q2: Bellman-Ford\n",
    "If you need a refresher on how the algorithm works, check out pp.122-124 from DPV: https://people.eecs.berkeley.edu/~vazirani/algorithms/chap4.pdf\n",
    "\n",
    "> **Task 2:** Compute a shortest path from $s$ to $t$ using Dijkstra's algorithm and return the path as a list of nodes on that path. \n",
    "\n",
    "For example, the path ${s \\to a \\to b \\to c \\to t}$ corresponds to the list `[s, a, b, c, t]`. \n",
    "\n",
    "If no $s \\to t$ path exists, or if the graph has a negative cycle, return the empty list `[]`. If multiple shortest paths exist, you may return any of them.\n",
    "\n",
    "_Points:_ 3"
   ]
  },
  {
   "cell_type": "code",
   "execution_count": null,
   "metadata": {
    "tags": []
   },
   "outputs": [],
   "source": [
    "def bellman_ford(G, s, t):\n",
    "    \"\"\"Implements the Bellman-Ford algorithm for single-source shortest paths.\n",
    "\n",
    "    Args:\n",
    "        G (List[List[Tuple[int, int]]]): The weighted adjacency list of the graph\n",
    "        s (int): The source node\n",
    "        t (int): The target node\n",
    "\n",
    "    Returns:\n",
    "        List[int]: A list of nodes starting with s and ending with t representing the\n",
    "        shortest weighted s to t path if it exists. Returns an empty list otherwise.\n",
    "    \"\"\"\n",
    "    ..."
   ]
  },
  {
   "cell_type": "code",
   "execution_count": null,
   "metadata": {
    "deletable": false,
    "editable": false
   },
   "outputs": [],
   "source": [
    "grader.check(\"q2\")"
   ]
  },
  {
   "cell_type": "markdown",
   "metadata": {
    "deletable": false,
    "editable": false
   },
   "source": [
    "## Submission\n",
    "\n",
    "Make sure you have run all cells in your notebook in order before running the cell below, so that all images/graphs appear in the output. The cell below will generate a zip file for you to submit."
   ]
  },
  {
   "cell_type": "code",
   "execution_count": null,
   "metadata": {
    "deletable": false,
    "editable": false
   },
   "outputs": [],
   "source": [
    "grader.export(pdf=False, force_save=True, run_tests=True)"
   ]
  },
  {
   "cell_type": "markdown",
   "metadata": {},
   "source": [
    " "
   ]
  }
 ],
 "metadata": {
  "kernelspec": {
   "display_name": "cs170-fa23",
   "language": "python",
   "name": "python3"
  },
  "language_info": {
   "codemirror_mode": {
    "name": "ipython",
    "version": 3
   },
   "file_extension": ".py",
   "mimetype": "text/x-python",
   "name": "python",
   "nbconvert_exporter": "python",
   "pygments_lexer": "ipython3",
   "version": "3.8.18"
  },
  "otter": {
   "OK_FORMAT": false,
   "assignment_name": "shortest-paths",
   "tests": {
    "q1": "from otter.test_files import test_case\n\nOK_FORMAT = False\n\nname = \"q1\"\npoints = 3.0\n\n@test_case(points=None, hidden=False)\ndef test_q1(dijkstra, nx, tqdm, np, generate_adj_list, time, PriorityQueue, rng_seed):\n    rng = np.random.default_rng(rng_seed)\n\n    import signal\n    def timeout_handler(num, stack):\n        raise Exception(\"Your solution timed out.\")\n    if hasattr(signal, 'SIGALRM') and hasattr(signal, 'alarm'):\n        signal.signal(signal.SIGALRM, timeout_handler)\n        signal.alarm(90)\n    \n    try:\n        for n in tqdm.tqdm(range(20,10001,100), desc=\"Testing correctness\"):\n            # nice value to ensure graph is probably connected but\n            # big graphs are not too dense (slow)\n            p = np.log(n) / n\n            random_graph = nx.fast_gnp_random_graph(n, p, directed=True, seed=rng_seed+n)\n\n            for u, v in random_graph.edges:\n                random_graph[u][v]['weight'] = rng.integers(1, n)\n\n            # note that the graph (and the adjacency list) is directed\n            adj_list_graph = generate_adj_list(n, random_graph.edges(data='weight'))\n\n            s = rng.integers(n)\n            t = rng.integers(n)\n\n            # bans networkx\n            nxall = nx\n            def error(*args, **kwargs):\n                nx = nxall\n                raise Exception(\"You may not call any graph libraries, modules, or functions.\")\n            nx = error\n\n            try:\n                path = dijkstra(adj_list_graph, s, t)\n            finally: \n                nx = nxall \n\n            if not nx.has_path(random_graph,s,t):\n                assert len(path) == 0, f\"your algorithm found an s-t path when there isn't one.\"\n            else:\n                # checks that the path returned is a real path in the graph and that it starts and ends \n                # at the right vertices\n                assert nx.is_simple_path(random_graph, path), f\"your algorithm did not return a valid simple path\"\n                assert path[0] == s, f\"your algorithm returned a valid simple path, but it does not start at node s\"\n                assert path[-1] == t, f\"your algorithm returned a valid simple path, but it does not end at node t\"\n\n                # checks that the path returned is the shortest path\n                path_length = nx.shortest_path_length(random_graph, s, t, weight='weight')\n                assert sum(random_graph[path[i]][path[i+1]]['weight'] for i in range(len(path)-1)) == path_length, f\"your algorithm did not return the shortest path\"\n\n        student_time = 0\n        reference_time = 0\n        slowdown_factor = 25\n        for n in tqdm.tqdm(range(20,10001,200), desc=\"Testing speed\"):\n            p = np.log(n) / n\n            random_graph = nx.fast_gnp_random_graph(n, p, directed=True, seed=rng_seed+n)\n\n            for u, v in random_graph.edges:\n                random_graph[u][v]['weight'] = rng.integers(1, n)\n\n            adj_list_graph = generate_adj_list(n, random_graph.edges(data='weight'))\n\n            s = rng.integers(n)\n            t = rng.integers(n)\n\n            start = time()\n            dijkstra(adj_list_graph, s, t)\n            student_time += time() - start\n\n            start = time()\n            pq = PriorityQueue()\n            dummy_set = set()\n            for i in range(random_graph.number_of_edges() + random_graph.number_of_nodes()):\n                pq.insert(i, i)\n            for i in range(random_graph.number_of_nodes()):\n                pq.deleteMin()\n                dummy_set.add(i)\n            reference_time += time() - start    \n\n        assert student_time < reference_time * slowdown_factor, f\"Your solution is too slow. It ran in {student_time:.2f}s, but needs to run in {reference_time * slowdown_factor:.2f}s.\"\n\n    finally:\n        if hasattr(signal, 'SIGALRM') and hasattr(signal, 'alarm'):\n            signal.alarm(0)\n\n\n\n",
    "q2": "from otter.test_files import test_case\n\nOK_FORMAT = False\n\nname = \"q2\"\npoints = 3.0\n\n@test_case(points=None, hidden=False)\ndef test_q2(bellman_ford, nx, tqdm, np, generate_adj_list, time, rng_seed):\n    rng = np.random.default_rng(rng_seed)\n\n    import signal\n    def timeout_handler(num, stack):\n        raise Exception(\"Your solution timed out.\")\n    if hasattr(signal, 'SIGALRM') and hasattr(signal, 'alarm'):\n        signal.signal(signal.SIGALRM, timeout_handler)\n        signal.alarm(60)\n    \n    try:\n        # correctness tests\n        for n in tqdm.tqdm(range(20,501,5), desc=\"Testing correctness\"):\n            # nice value to ensure graph is probably connected but\n            # big graphs are not too dense (slow)\n            p = np.log(n) / n\n            random_graph = nx.fast_gnp_random_graph(n, p, directed=True, seed=rng_seed+n)\n\n            for u, v in random_graph.edges:\n                random_graph[u][v]['weight'] = rng.integers(-n, n)\n\n            # note that the graph (and the adjacency list) is directed\n            adj_list_graph = generate_adj_list(n, random_graph.edges(data='weight'))\n\n            s = rng.integers(n)\n            t = rng.integers(n)\n\n            # bans networkx\n            nxall = nx\n            def error(*args, **kwargs):\n                nx = nxall\n                raise Exception(\"You may not call any graph libraries, modules, or functions.\")\n            nx = error\n\n            try:\n                path = bellman_ford(adj_list_graph, s, t)\n            finally: \n                nx = nxall \n\n            if not nx.has_path(random_graph,s,t):\n                assert len(path) == 0, f\"your algorithm found an s-t path when there isn't one.\"\n            if nx.negative_edge_cycle(random_graph):\n                assert len(path) == 0, f\"your algorithm failed to detect a negative cycle\"\n\n            else:\n                # checks that the path returned is a real path in the graph and that it starts and ends \n                # at the right vertices\n                assert nx.is_simple_path(random_graph, path), f\"your algorithm did not return a valid simple path\"\n                assert path[0] == s, f\"your algorithm returned a valid simple path, but it does not start at node s\"\n                assert path[-1] == t, f\"your algorithm returned a valid simple path, but it does not end at node t\"\n\n                # checks that the path returned is the shortest path\n                path_length = nx.shortest_path_length(random_graph, s, t, weight='weight', method='bellman-ford')\n                assert sum(random_graph[path[i]][path[i+1]]['weight'] for i in range(len(path)-1)) == path_length, f\"your algorithm did not return the shortest path\"\n\n    finally:\n        if hasattr(signal, 'SIGALRM') and hasattr(signal, 'alarm'):\n            signal.alarm(0)\n\n"
   }
  }
 },
 "nbformat": 4,
 "nbformat_minor": 2
}
