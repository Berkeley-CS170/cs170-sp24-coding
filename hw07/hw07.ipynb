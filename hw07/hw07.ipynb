{
 "cells": [
  {
   "cell_type": "markdown",
   "metadata": {},
   "source": [
    "# Hw07 Coding: Dynamic Programming\n",
    "\n",
    "In this notebook, we'll work through the Global Alignment (Edit Distance) problem using dynamic programming and will see how backtracing can be used to reconstruct solutions from the DP table."
   ]
  },
  {
   "cell_type": "markdown",
   "metadata": {},
   "source": [
    "### If you're using Datahub:\n",
    "* Run the cell below **and restart the kernel if needed**\n",
    "\n",
    "### If you're running locally:\n",
    "You'll need to perform some extra setup.\n",
    "#### First-time setup\n",
    "* Install Anaconda following the instructions here: https://www.anaconda.com/products/distribution \n",
    "* Create a conda environment: `conda create -n cs170 python=3.8`\n",
    "* Activate the environment: `conda activate cs170`\n",
    "    * See for more details on creating conda environments https://conda.io/projects/conda/en/latest/user-guide/tasks/manage-environments.html\n",
    "* Install pip: `conda install pip`\n",
    "* Install jupyter: `conda install jupyter`\n",
    "\n",
    "#### Every time you want to work\n",
    "* Make sure you've activated the conda environment: `conda activate cs170`\n",
    "* Launch jupyter: `jupyter notebook` or `jupyter lab` \n",
    "* Run the cell below **and restart the kernel if needed**"
   ]
  },
  {
   "cell_type": "code",
   "execution_count": null,
   "metadata": {},
   "outputs": [],
   "source": [
    "# Install dependencies\n",
    "!pip install -r requirements.txt --quiet"
   ]
  },
  {
   "cell_type": "code",
   "execution_count": null,
   "metadata": {},
   "outputs": [],
   "source": [
    "import otter\n",
    "assert (otter.__version__ >= \"4.4.1\"), \"Please reinstall the requirements and restart your kernel.\"\n",
    "\n",
    "grader = otter.Notebook(\"hw07.ipynb\")\n",
    "import numpy.random as random\n",
    "import string\n",
    "import random\n",
    "import pylev\n",
    "import tqdm\n",
    "import time\n",
    "from inputs1 import all_arrs, all_sols\n",
    "\n",
    "rng_seed = 0"
   ]
  },
  {
   "cell_type": "markdown",
   "metadata": {},
   "source": [
    "## 1. Global Alignment (Edit Distance)\n",
    "\n",
    "The edit distance problem finds the minimal number of insertions, deletions and substitutions of characters required to transform one word into another. A big application of this problem is finding the global alignment between two strings, which is often used in computational biology. \n",
    "\n",
    "As described in the textbook https://people.eecs.berkeley.edu/~vazirani/algorithms/chap6.pdf#page=6.\n",
    "\n",
    "> A natural measure of the distance between two strings is the extent to which they can be aligned, or matched up. Technically, an alignment is simply a way of writing the strings one above the other. For instance, here are two possible alignments of SNOWY and SUNNY:\n",
    "\n",
    ">    S−NOWY  |  −SNOW−Y <br />\n",
    ">    SUNN−Y   &nbsp;|  SUN−−NY <br />\n",
    ">    Cost: 3  &nbsp;&nbsp;&nbsp;&nbsp;| Cost: 5\n",
    "\n",
    ">The “−” indicates a “gap”; any number of these can be placed in either string. The cost of an alignment is the number of columns in which the letters differ. And the edit distance between two strings is the cost of their best possible alignment. \n",
    "\n",
    "In this problem, you will implement an algorithm to compute the alignment between two strings $x$ and $y$, specifically, your algorithm should return the global alignment (as shown above), not just an integer value denoting the edit distance. "
   ]
  },
  {
   "cell_type": "markdown",
   "metadata": {},
   "source": [
    "### The following section will walk you through how to implement this algorithm.  \n",
    "#### **This section contains ungraded multiple choice questions to test your understanding. If you like, you may skip to the last question which is the only graded question.**\n",
    "\n",
    "Inputs: \n",
    "- x:string = length n string\n",
    "- y:string = length m string\n",
    "\n",
    "Algorithm Sketch:\n",
    "1. Compute the dp subproblems as described in class and the textbook\n",
    "2. Using the memoized subproblems from step 1, reconstructing the optimal global alignment \n",
    "\n",
    "\n",
    "Step 1 can be computed by simply implementing the pseudocode described in the textbook. \n",
    "\n",
    "Step 2 can be computed using an approach called backtracking which we walk through here. Recall that all DP have underlying DAG's where nodes represent subproblems. See https://people.eecs.berkeley.edu/~vazirani/algorithms/chap6.pdf#page=9. On this DAG, the DP algorithm finds the shortest path from `(0,0)` to `(n,m)`. The length of the shortest path is our edit distance, and the edges in the path correspond to the global alignment. In our back tracking algorithm, we start at `(n,m)` and reconstruct the shortest path to `(0,0)`. Since we start with `(n,m)` and end at `(0,0)`, we are back tracking the computations we did in step 1, hence the name. \n",
    "\n",
    "__Sanity Check (ungraded):__\n",
    "Suppose we computed the DP matrix on the strings `x` and `y` want to find the edit distance between the first `5` characters of `x` and the first `6` characters of `y`. On the underlying DAG, this corresponds to the shortest path from `(0,0)` to which node? Give your answer as a tuple containing 2 integers."
   ]
  },
  {
   "cell_type": "code",
   "execution_count": null,
   "metadata": {
    "tags": []
   },
   "outputs": [],
   "source": [
    "node = ..."
   ]
  },
  {
   "cell_type": "code",
   "execution_count": null,
   "metadata": {
    "deletable": false,
    "editable": false
   },
   "outputs": [],
   "source": [
    "grader.check(\"s1\")"
   ]
  },
  {
   "cell_type": "markdown",
   "metadata": {},
   "source": [
    "Now suppose that we have a way to reconstruct this shortest path, we need to convert the edges on this path into the actual alignment. \n",
    "\n",
    "__Sanity Check (ungraded):__ Suppose that our algorithm backtracks to node `(i,j)` and determines that the edge `(i-1,j)->(i,j)` is in this shortest path. So far, the algorithm computed 2 strings `x_align` and `y_align` based on the path from `(i,j)` to `(n,m)`. These correspond to an alignment of the substrings `x[i:n]` and `y[j:m]`. Given this new edge, what characters should you add to `x_align` and `y_align`? Input your answer choice as list of ints (ie `ans = [1]` or `ans = [1,2]`), where each int represents one of the following choices:\n",
    "\n",
    "1. add a gap to the start of `x_align`\n",
    "2. add a gap to the start of `y_align`\n",
    "3. add `x[i-1]` to the start of `x_align`\n",
    "4. add `y[j-1]` to the start of `y_align`\n",
    "\n",
    "*Hint: a character must be added to both strings since at each step, `len(x_align) == len(y_align)`.*"
   ]
  },
  {
   "cell_type": "code",
   "execution_count": null,
   "metadata": {
    "tags": []
   },
   "outputs": [],
   "source": [
    "ans = ..."
   ]
  },
  {
   "cell_type": "code",
   "execution_count": null,
   "metadata": {
    "deletable": false,
    "editable": false
   },
   "outputs": [],
   "source": [
    "grader.check(\"s2\")"
   ]
  },
  {
   "cell_type": "markdown",
   "metadata": {},
   "source": [
    "__Sanity Check (ungraded):__ Suppose that our algorithm backtracks to node `(i,j)` and determines that the edge `(i,j-1)->(i,j)` is in this shortest path. So far, the algorithm computed 2 strings `x_align` and `y_align` based on the path from `(i,j)` to `(n,m)`. These correspond to an alignment of the substrings `x[i:n]` and `y[j:m]`. Given this new edge, what characters should you add to `x_align` and `y_align`? Input your answer choice as list of ints (ie `ans = [1]` or `ans = [1,2]`), where each int represents one of the following choices:\n",
    "\n",
    "1. add a gap to the start of `x_align`\n",
    "2. add a gap to the start of `y_align`\n",
    "3. add `x[i-1]` to the start of `x_align`\n",
    "4. add `y[j-1]` to the start of `y_align`\n",
    "\n",
    "*Hint: a character must be added to both strings since at each step, `len(x_align) == len(y_align)`.*"
   ]
  },
  {
   "cell_type": "code",
   "execution_count": null,
   "metadata": {
    "tags": []
   },
   "outputs": [],
   "source": [
    "ans = ..."
   ]
  },
  {
   "cell_type": "code",
   "execution_count": null,
   "metadata": {
    "deletable": false,
    "editable": false
   },
   "outputs": [],
   "source": [
    "grader.check(\"s3\")"
   ]
  },
  {
   "cell_type": "markdown",
   "metadata": {},
   "source": [
    "__Sanity Check (ungraded):__ Suppose that our algorithm backtracks to node `(i,j)` and determines that the edge `(i-1,j-1)->(i,j)` is in this shortest path. So far, the algorithm computed 2 strings `x_align` and `y_align` based on the path from `(i,j)` to `(n,m)`. These correspond to an alignment of the substrings `x[i:n]` and `y[j:m]`. Given this new edge, what characters should you add to `x_align` and `y_align`? Input your answer choice as list of ints (ie `ans = [1]` or `ans = [1,2]`), where each int represents one of the following four choices:\n",
    "\n",
    "1. add a gap to the start of `x_align`\n",
    "2. add a gap to the start of `y_align`\n",
    "3. add `x[i-1]` to the start of `x_align`\n",
    "4. add `y[j-1]` to the start of `y_align`\n",
    "\n",
    "*Hint: a character must be added to both strings since at each step, `len(x_align) == len(y_align)`.*"
   ]
  },
  {
   "cell_type": "code",
   "execution_count": null,
   "metadata": {
    "tags": []
   },
   "outputs": [],
   "source": [
    "ans = ..."
   ]
  },
  {
   "cell_type": "code",
   "execution_count": null,
   "metadata": {
    "deletable": false,
    "editable": false
   },
   "outputs": [],
   "source": [
    "grader.check(\"s4\")"
   ]
  },
  {
   "cell_type": "markdown",
   "metadata": {},
   "source": [
    "Since we know how to translate edges into global alignment, we now want to reconstruct the actual path from `(n,m)` to `(0,0)`. If an edge `(a,b)->(c,d)` is part of the shortest path, this means the subproblem `(a,b)` was used to compute the solution to `(c,d)`. For the edit distance problem, we know that the subproblem `(i,j)` is computed from the either `(i-1,j)`, `(i,j-1)`, or `(i-1,j-1)`. Therefore, if the node `(i,j)` is visited in the shortest path, then one of the edges `(i-1,j)->(i,j)`, `(i,j-1)->(i,j)`, or `(i-1,j-1)->(i,j)` is in the shortest path. \n",
    "\n",
    "We can figure out the correct edge based on the values in the dp matrix. Recall the recurrence of edit distance: `dp[i][j] = min(dp[i - 1][j] + 1, dp[i][j - 1] + 1, dp[i - 1][j - 1] + diff(i,j))`. This means that at least one of the three values `dp[i - 1][j] + 1`, `dp[i][j - 1] + 1`, or `dp[i - 1][j - 1] + diff(i,j)` must equal `dp[i][j]`. If the value equals `dp[i][j]`, then that is a possible previous subproblem; otherwise, it is not. If there are multiple possible previous problems, you may back track to any one of them. "
   ]
  },
  {
   "cell_type": "markdown",
   "metadata": {},
   "source": [
    "__Sanity Check (ungraded):__ Suppose you know that `dp[i][j] = 5` and following values in the DP matrix. Which subproblems could be used to compute `dp[i][j]`? Input your answer choice as list of ints (ie `ans = [1]` or `ans = [1,2]`)\n",
    "1. `dp[i-1][j] = 4`\n",
    "2. `dp[i][j-1] = 5`\n",
    "3. `dp[i-1][j-1] = 5, diff(i,j) = 0`"
   ]
  },
  {
   "cell_type": "code",
   "execution_count": null,
   "metadata": {
    "tags": []
   },
   "outputs": [],
   "source": [
    "ans = ..."
   ]
  },
  {
   "cell_type": "code",
   "execution_count": null,
   "metadata": {
    "deletable": false,
    "editable": false
   },
   "outputs": [],
   "source": [
    "grader.check(\"s5\")"
   ]
  },
  {
   "cell_type": "markdown",
   "metadata": {},
   "source": [
    "__Sanity Check (ungraded):__ Suppose you know that `dp[i][j] = 9` and following values in the DP matrix. Which subproblems could be used to compute `dp[i][j]`? Input your answer choice as list of ints (ie `ans = [1]` or `ans = [1,2]`)\n",
    "1. `dp[i-1][j] = 9`\n",
    "2. `dp[i][j-1] = 8`\n",
    "3. `dp[i-1][j-1] = 9, diff(i,j) = 1`"
   ]
  },
  {
   "cell_type": "code",
   "execution_count": null,
   "metadata": {
    "tags": []
   },
   "outputs": [],
   "source": [
    "ans = ..."
   ]
  },
  {
   "cell_type": "code",
   "execution_count": null,
   "metadata": {
    "deletable": false,
    "editable": false
   },
   "outputs": [],
   "source": [
    "grader.check(\"s6\")"
   ]
  },
  {
   "cell_type": "markdown",
   "metadata": {},
   "source": [
    "Following this logic, we start at `(n,m)` and repeatedly find the previous node until we reach `(0,0)`. Each time we backtrack one step, we update the alignment based on the edge we took."
   ]
  },
  {
   "cell_type": "markdown",
   "metadata": {},
   "source": [
    "## Edit Distance (graded)"
   ]
  },
  {
   "cell_type": "code",
   "execution_count": null,
   "metadata": {
    "tags": []
   },
   "outputs": [],
   "source": [
    "def edit_distance(x, y):\n",
    "    \"\"\"\n",
    "    args:\n",
    "        x:string = the first word.\n",
    "        y:string = The second word.\n",
    "    \n",
    "    return:\n",
    "        Tuple[String,String] = the optimum global alignment between x and y. The first string in the \n",
    "        tuple corresponds to x and the second to y. Use hypen's '-' to represent gaps in each string.\n",
    "    \"\"\"\n",
    "    ...\n"
   ]
  },
  {
   "cell_type": "markdown",
   "metadata": {},
   "source": [
    "__Note: your solution should not take inordinate amounts of time to run. If it takes more than 60 seconds to run, it is too slow. The staff solution takes 20 seconds on average.__\n",
    "\n",
    "_Points:_ 6"
   ]
  },
  {
   "cell_type": "code",
   "execution_count": null,
   "metadata": {
    "deletable": false,
    "editable": false
   },
   "outputs": [],
   "source": [
    "grader.check(\"edit_distance\")"
   ]
  },
  {
   "cell_type": "markdown",
   "metadata": {},
   "source": [
    "### Debugging"
   ]
  },
  {
   "cell_type": "markdown",
   "metadata": {},
   "source": [
    "Below, we provide some tests to help you debug your code. Some good test cases to try your algorithm on are:\n",
    "\n",
    "1. Small, handmade test cases, where you can compute the answer by hand to compare against your algorithm's output.\n",
    "2. Randomly generated test cases, to test your algorithm's correctness on a wider range of inputs."
   ]
  },
  {
   "cell_type": "markdown",
   "metadata": {},
   "source": [
    "Below, we provide some small test cases to get started. You can compare your output against the ground-truth answers from DPV: https://people.eecs.berkeley.edu/~vazirani/algorithms/chap6.pdf#page=6 \n",
    "\n",
    "Note that there may be multiple valid solutions!"
   ]
  },
  {
   "cell_type": "code",
   "execution_count": null,
   "metadata": {},
   "outputs": [],
   "source": [
    "case_1_1 = 'snowy'\n",
    "case_1_2 = 'sunny'\n",
    "\n",
    "align_1_1,align_1_2 = edit_distance(case_1_1, case_1_2)\n",
    "\n",
    "print(f\"case 1: {align_1_1} {align_1_2}\")"
   ]
  },
  {
   "cell_type": "code",
   "execution_count": null,
   "metadata": {},
   "outputs": [],
   "source": [
    "case_2_1 = 'polynomial'\n",
    "case_2_2 = 'exponential'\n",
    "\n",
    "align_2_1,align_2_2 = edit_distance(case_2_1, case_2_2)\n",
    "\n",
    "print(f\"case 2: {align_2_1} {align_2_2}\")"
   ]
  },
  {
   "cell_type": "markdown",
   "metadata": {},
   "source": [
    "A simplified verion of the otter tests are pasted here for your convenience. Feel free to add whatever print statements or assertions you'd like when debugging."
   ]
  },
  {
   "cell_type": "code",
   "execution_count": null,
   "metadata": {},
   "outputs": [],
   "source": [
    "start = time.time()\n",
    "def check_word(original, aligned):\n",
    "    ''' checks that the string `aligned` is obtained by only adding gaps to the string `original`'''\n",
    "\n",
    "    assert len(aligned) >= len(original), \"your function returned a string which is shorter than the input string!\"\n",
    "    i,j = 0,0\n",
    "    while i < len(original) and j < len(aligned):\n",
    "        while aligned[j] == '-' and j < len(aligned):\n",
    "            j += 1\n",
    "        assert original[i] == aligned[j], \"your function returned a string which cannot be produced by only adding gaps!\"\n",
    "        i += 1\n",
    "        j += 1\n",
    "    while j < len(aligned):\n",
    "        assert aligned[j] == '-', \"your function returned a string which cannot be produced by only adding gaps!\"\n",
    "        j += 1\n",
    "\n",
    "NUM_TRIALS = 200\n",
    "LETTERS = string.ascii_lowercase\n",
    "MIN_WORD_SIZE = 250\n",
    "MAX_WORD_SIZE = 500\n",
    "\n",
    "letters = string.ascii_lowercase\n",
    "for i in tqdm.tqdm(range(NUM_TRIALS)):\n",
    "    word1_size = random.randint(MIN_WORD_SIZE, MAX_WORD_SIZE)\n",
    "    word2_size = random.randint(MIN_WORD_SIZE, MAX_WORD_SIZE)\n",
    "    word1 = ''.join(random.choice(letters) for i in range(word1_size))\n",
    "    word2 = ''.join(random.choice(letters) for i in range(word2_size))\n",
    "    align1,align2 = edit_distance(word1, word2)\n",
    "\n",
    "    assert len(align1) == len(align2), f\"\"\"a global alignment requires the two strings to be the same \n",
    "        length, your functions returns two strings of length {len(align1)} and {len(align2)}!\"\"\"\n",
    "\n",
    "    check_word(word1, align1)\n",
    "    check_word(word2, align2)\n",
    "\n",
    "    dist = 0\n",
    "    for a,b in zip(align1,align2):\n",
    "        if a != b:\n",
    "            dist += 1\n",
    "    staff_distance = pylev.levenshtein(word1, word2)\n",
    "    assert staff_distance == dist, f\"\"\"the inputs have an edit distance of {staff_distance}, but your\n",
    "        strings have a distance of {dist}.\"\"\"\n",
    "finish = time.time()\n",
    "assert finish - start < 60, \"your solution timed out\"\n",
    "\n",
    "print(\"Simplified tests passed!\")\n"
   ]
  },
  {
   "cell_type": "markdown",
   "metadata": {},
   "source": [
    "In addition to these test cases, it may be helpful to create some additional test cases on your own. Feel free to add additional tests below:"
   ]
  },
  {
   "cell_type": "code",
   "execution_count": null,
   "metadata": {},
   "outputs": [],
   "source": [
    "# TODO: Your tests here!"
   ]
  },
  {
   "cell_type": "markdown",
   "metadata": {
    "deletable": false,
    "editable": false
   },
   "source": [
    "## Submission\n",
    "\n",
    "Make sure you have run all cells in your notebook in order before running the cell below, so that all images/graphs appear in the output. The cell below will generate a zip file for you to submit."
   ]
  },
  {
   "cell_type": "code",
   "execution_count": null,
   "metadata": {
    "deletable": false,
    "editable": false
   },
   "outputs": [],
   "source": [
    "grader.export(pdf=False, force_save=True, run_tests=True)"
   ]
  },
  {
   "cell_type": "markdown",
   "metadata": {},
   "source": [
    " "
   ]
  }
 ],
 "metadata": {
  "history": [
   {
    "code": "import math\nimport cmath",
    "id": "50eb5a609d89476c9e25c74e5f49aecc",
    "idx": 1,
    "time": "2021-01-30T20:23:42.651Z",
    "type": "execution"
   },
   {
    "id": "50eb5a609d89476c9e25c74e5f49aecc",
    "time": "2021-01-30T20:23:42.718Z",
    "type": "completion"
   },
   {
    "code": "def next_power_of_2(n):\n    ret = 1\n    while ret < n:\n        ret *= 2\n    return ret\n\n# note that the sine function is math.sin(x) and the cosine function is math.cos(x)\ndef calc_nth_root(n):\n    theta_n = 2 * math.pi / n\n    a = sin(theta_n)\n    b = cos(theta_n)\n    return a + b * 1j\n\ndef calc_all_nth_roots(n):\n    root = calc_nth_root(n)\n    return [root**k for k in range(n)] \n",
    "id": "1d47483fb6de44a39120a8330831045b",
    "idx": 14,
    "time": "2021-01-30T20:52:07.251Z",
    "type": "execution"
   },
   {
    "id": "1d47483fb6de44a39120a8330831045b",
    "time": "2021-01-30T20:52:07.320Z",
    "type": "completion"
   },
   {
    "code": "root = calc_nth_root(8)\n\nfor i in range(3):\n    print(\"The \" + str(2**(3-i)) + \"-th root of unity is: \" + str(root**i))\n    ",
    "id": "51b8740fc0db4fc2bd5b0d8ac4e87ac2",
    "idx": 16,
    "time": "2021-01-30T20:52:08.466Z",
    "type": "execution"
   },
   {
    "id": "51b8740fc0db4fc2bd5b0d8ac4e87ac2",
    "time": "2021-01-30T20:52:08.589Z",
    "type": "completion"
   },
   {
    "code": "def next_power_of_2(n):\n    ret = 1\n    while ret < n:\n        ret *= 2\n    return ret\n\n# note that the sine function is math.sin(x) and the cosine function is math.cos(x)\ndef calc_nth_root(n):\n    theta_n = 2 * math.pi / n\n    a = math.sin(theta_n)\n    b = math.cos(theta_n)\n    return a + b * 1j\n\ndef calc_all_nth_roots(n):\n    root = calc_nth_root(n)\n    return [root**k for k in range(n)] \n",
    "id": "1d47483fb6de44a39120a8330831045b",
    "idx": 14,
    "time": "2021-01-30T20:52:17.743Z",
    "type": "execution"
   },
   {
    "id": "1d47483fb6de44a39120a8330831045b",
    "time": "2021-01-30T20:52:17.819Z",
    "type": "completion"
   },
   {
    "code": "root = calc_nth_root(8)\n\nfor i in range(3):\n    print(\"The \" + str(2**(3-i)) + \"-th root of unity is: \" + str(root**i))\n    ",
    "id": "51b8740fc0db4fc2bd5b0d8ac4e87ac2",
    "idx": 16,
    "time": "2021-01-30T20:52:18.760Z",
    "type": "execution"
   },
   {
    "id": "51b8740fc0db4fc2bd5b0d8ac4e87ac2",
    "time": "2021-01-30T20:52:18.823Z",
    "type": "completion"
   },
   {
    "code": "root = calc_nth_root(8)\n\nfor i in range(3):\n    print(\"The \" + str(2**(3-i)) + \"-th root of unity is: \" + str(root**(i+1)))\n    ",
    "id": "51b8740fc0db4fc2bd5b0d8ac4e87ac2",
    "idx": 16,
    "time": "2021-01-30T20:52:40.530Z",
    "type": "execution"
   },
   {
    "id": "51b8740fc0db4fc2bd5b0d8ac4e87ac2",
    "time": "2021-01-30T20:52:40.595Z",
    "type": "completion"
   },
   {
    "code": "root = calc_nth_root(8)\n\nfor i in range(3):\n    print(\"The \" + str(2**(3-i)) + \"-th root of unity is: \" + str(root**(2**i)))\n    ",
    "id": "51b8740fc0db4fc2bd5b0d8ac4e87ac2",
    "idx": 16,
    "time": "2021-01-30T20:52:55.220Z",
    "type": "execution"
   },
   {
    "id": "51b8740fc0db4fc2bd5b0d8ac4e87ac2",
    "time": "2021-01-30T20:52:55.284Z",
    "type": "completion"
   },
   {
    "code": "root = calc_nth_root(8)\n\nfor i in range(4):\n    print(\"The \" + str(2**(3-i)) + \"-th root of unity is: \" + str(root**(2**i)))\n    ",
    "id": "51b8740fc0db4fc2bd5b0d8ac4e87ac2",
    "idx": 16,
    "time": "2021-01-30T20:53:11.770Z",
    "type": "execution"
   },
   {
    "id": "51b8740fc0db4fc2bd5b0d8ac4e87ac2",
    "time": "2021-01-30T20:53:11.837Z",
    "type": "completion"
   },
   {
    "code": "root = calc_nth_root(8)\n\nfor i in range(5):\n    print(\"The \" + str(2**(3-i)) + \"-th root of unity is: \" + str(root**(2**i)))\n    ",
    "id": "51b8740fc0db4fc2bd5b0d8ac4e87ac2",
    "idx": 16,
    "time": "2021-01-30T20:53:19.487Z",
    "type": "execution"
   },
   {
    "id": "51b8740fc0db4fc2bd5b0d8ac4e87ac2",
    "time": "2021-01-30T20:53:19.550Z",
    "type": "completion"
   },
   {
    "code": "root = calc_nth_root(8)\n\nfor i in range(8):\n    print(\"The \" + str(2**(3-i)) + \"-th root of unity is: \" + str(root**(2**i)))\n    ",
    "id": "51b8740fc0db4fc2bd5b0d8ac4e87ac2",
    "idx": 16,
    "time": "2021-01-30T20:53:25.045Z",
    "type": "execution"
   },
   {
    "id": "51b8740fc0db4fc2bd5b0d8ac4e87ac2",
    "time": "2021-01-30T20:53:25.109Z",
    "type": "completion"
   },
   {
    "code": "root = calc_nth_root(8)\n\nfor i in range(8):\n    print(root)\n    root **= 2\n    #print(\"The \" + str(2**(3-i)) + \"-th root of unity is: \" + str(root**(2**i)))\n    ",
    "id": "51b8740fc0db4fc2bd5b0d8ac4e87ac2",
    "idx": 16,
    "time": "2021-01-30T20:53:56.547Z",
    "type": "execution"
   },
   {
    "id": "51b8740fc0db4fc2bd5b0d8ac4e87ac2",
    "time": "2021-01-30T20:53:56.610Z",
    "type": "completion"
   },
   {
    "code": "plt.scatter(x, y) \nplt.ylabel('Imaginary') \nplt.xlabel('Real') \nplt.show() ",
    "id": "51b8740fc0db4fc2bd5b0d8ac4e87ac2",
    "idx": 16,
    "time": "2021-01-30T21:01:52.610Z",
    "type": "execution"
   },
   {
    "id": "51b8740fc0db4fc2bd5b0d8ac4e87ac2",
    "time": "2021-01-30T21:01:52.698Z",
    "type": "completion"
   },
   {
    "code": "import math\nimport cmath\nfrom numpy.random import randint\nfrom time import time\nimport matplotlib.pyplot as plt",
    "id": "50eb5a609d89476c9e25c74e5f49aecc",
    "idx": 1,
    "time": "2021-01-30T21:02:08.763Z",
    "type": "execution"
   },
   {
    "id": "50eb5a609d89476c9e25c74e5f49aecc",
    "time": "2021-01-30T21:02:11.889Z",
    "type": "completion"
   },
   {
    "code": "plt.scatter(x, y) \nplt.ylabel('Imaginary') \nplt.xlabel('Real') \nplt.show() ",
    "id": "51b8740fc0db4fc2bd5b0d8ac4e87ac2",
    "idx": 16,
    "time": "2021-01-30T21:02:17.514Z",
    "type": "execution"
   },
   {
    "id": "51b8740fc0db4fc2bd5b0d8ac4e87ac2",
    "time": "2021-01-30T21:02:17.613Z",
    "type": "completion"
   },
   {
    "code": "def next_power_of_2(n):\n    ret = 1\n    while ret < n:\n        ret *= 2\n    return ret\n\n# note that the sine function is math.sin(x) and the cosine function is math.cos(x)\ndef calc_nth_root(n):\n    theta_n = 2 * math.pi / n\n    a = math.sin(theta_n)\n    b = math.cos(theta_n)\n    return a + b * 1j\n\ndef calc_all_nth_roots(n):\n    root = calc_nth_root(n)\n    return [root**k for k in range(n)] \n",
    "id": "1d47483fb6de44a39120a8330831045b",
    "idx": 14,
    "time": "2021-01-30T21:02:20.777Z",
    "type": "execution"
   },
   {
    "id": "1d47483fb6de44a39120a8330831045b",
    "time": "2021-01-30T21:02:20.876Z",
    "type": "completion"
   },
   {
    "code": "plt.scatter(calc_all_nth_roots(8)) \nplt.ylabel('Imaginary') \nplt.xlabel('Real') \nplt.show() ",
    "id": "51b8740fc0db4fc2bd5b0d8ac4e87ac2",
    "idx": 16,
    "time": "2021-01-30T21:02:32.320Z",
    "type": "execution"
   },
   {
    "id": "51b8740fc0db4fc2bd5b0d8ac4e87ac2",
    "time": "2021-01-30T21:02:32.387Z",
    "type": "completion"
   },
   {
    "code": "N = 8 # feel free to change this value and observe what happens\nroots = calc_all_nth_roots(N)\nplt.scatter([r.real for r in roots], [r.imaginary for r in roots]) \nplt.ylabel('Imaginary') \nplt.xlabel('Real') \nplt.show() ",
    "id": "51b8740fc0db4fc2bd5b0d8ac4e87ac2",
    "idx": 16,
    "time": "2021-01-30T21:03:36.277Z",
    "type": "execution"
   },
   {
    "id": "51b8740fc0db4fc2bd5b0d8ac4e87ac2",
    "time": "2021-01-30T21:03:36.390Z",
    "type": "completion"
   },
   {
    "code": "N = 8 # feel free to change this value and observe what happens\nroots = calc_all_nth_roots(N)\nplt.scatter([r.real for r in roots], [r.im for r in roots]) \nplt.ylabel('Imaginary') \nplt.xlabel('Real') \nplt.show() ",
    "id": "51b8740fc0db4fc2bd5b0d8ac4e87ac2",
    "idx": 16,
    "time": "2021-01-30T21:03:43.344Z",
    "type": "execution"
   },
   {
    "id": "51b8740fc0db4fc2bd5b0d8ac4e87ac2",
    "time": "2021-01-30T21:03:43.416Z",
    "type": "completion"
   },
   {
    "code": "N = 8 # feel free to change this value and observe what happens\nroots = calc_all_nth_roots(N)\nplt.scatter([r.real for r in roots], [r.imag for r in roots]) \nplt.ylabel('Imaginary') \nplt.xlabel('Real') \nplt.show() ",
    "id": "51b8740fc0db4fc2bd5b0d8ac4e87ac2",
    "idx": 16,
    "time": "2021-01-30T21:04:05.382Z",
    "type": "execution"
   },
   {
    "id": "51b8740fc0db4fc2bd5b0d8ac4e87ac2",
    "time": "2021-01-30T21:04:05.657Z",
    "type": "completion"
   },
   {
    "code": "N = 8 # feel free to change this value and observe what happens\nroots = calc_all_nth_roots(N)\nplt.scatter([r.real for r in roots], [r.imag for r in roots]) \nplt.figure().set_figwidth(4)\nplt.figure().set_figheight(4)\nplt.ylabel('Imaginary') \nplt.xlabel('Real') \nplt.show() ",
    "id": "51b8740fc0db4fc2bd5b0d8ac4e87ac2",
    "idx": 16,
    "time": "2021-01-30T21:05:28.532Z",
    "type": "execution"
   },
   {
    "id": "51b8740fc0db4fc2bd5b0d8ac4e87ac2",
    "time": "2021-01-30T21:05:28.866Z",
    "type": "completion"
   },
   {
    "code": "N = 8 # feel free to change this value and observe what happens\nroots = calc_all_nth_roots(N)\nplt.scatter([r.real for r in roots], [r.imag for r in roots]) \nplt.figure().set_figwidth(4).set_figheight(4)\nplt.ylabel('Imaginary') \nplt.xlabel('Real') \nplt.show() ",
    "id": "51b8740fc0db4fc2bd5b0d8ac4e87ac2",
    "idx": 16,
    "time": "2021-01-30T21:05:55.443Z",
    "type": "execution"
   },
   {
    "id": "51b8740fc0db4fc2bd5b0d8ac4e87ac2",
    "time": "2021-01-30T21:05:55.739Z",
    "type": "completion"
   },
   {
    "code": "N = 8 # feel free to change this value and observe what happens\nroots = calc_all_nth_roots(N)\nplt.scatter([r.real for r in roots], [r.imag for r in roots]) \nf = plt.figure()\nf.set_figwidth(4)\nf.set_figheight(4)\nplt.ylabel('Imaginary') \nplt.xlabel('Real') \nplt.show() ",
    "id": "51b8740fc0db4fc2bd5b0d8ac4e87ac2",
    "idx": 16,
    "time": "2021-01-30T21:06:10.935Z",
    "type": "execution"
   },
   {
    "id": "51b8740fc0db4fc2bd5b0d8ac4e87ac2",
    "time": "2021-01-30T21:06:11.263Z",
    "type": "completion"
   },
   {
    "code": "N = 8 # feel free to change this value and observe what happens\nroots = calc_all_nth_roots(N)\nf = plt.figure()\nf.set_figwidth(4)\nf.set_figheight(4)\nplt.scatter([r.real for r in roots], [r.imag for r in roots]) \nplt.ylabel('Imaginary') \nplt.xlabel('Real') \nplt.show() ",
    "id": "51b8740fc0db4fc2bd5b0d8ac4e87ac2",
    "idx": 16,
    "time": "2021-01-30T21:06:23.130Z",
    "type": "execution"
   },
   {
    "id": "51b8740fc0db4fc2bd5b0d8ac4e87ac2",
    "time": "2021-01-30T21:06:23.345Z",
    "type": "completion"
   },
   {
    "code": "N = 8 # feel free to change this value and observe what happens\nroots = calc_all_nth_roots(N)\nf = plt.figure()\nf.set_figwidth(4)\nf.set_figheight(4)\nplt.scatter([r.real for r in roots], [r.imag for r in roots]) \nplt.ylabel('Imaginary') \nplt.xlabel('Real') \nplt.grid(True)\nplt.show() ",
    "id": "51b8740fc0db4fc2bd5b0d8ac4e87ac2",
    "idx": 16,
    "time": "2021-01-30T21:06:59.304Z",
    "type": "execution"
   },
   {
    "id": "51b8740fc0db4fc2bd5b0d8ac4e87ac2",
    "time": "2021-01-30T21:06:59.514Z",
    "type": "completion"
   },
   {
    "code": "N = 8 # feel free to change this value and observe what happens\nroots = calc_all_nth_roots(N)\nf = plt.figure()\nf.set_figwidth(4)\nf.set_figheight(4)\nplt.scatter([r.real for r in roots], [r.imag for r in roots]) \nplt.ylabel('Imaginary') \nplt.xlabel('Real') \nplt.grid(True)\nplt.axes()\nplt.show() ",
    "id": "51b8740fc0db4fc2bd5b0d8ac4e87ac2",
    "idx": 16,
    "time": "2021-01-30T21:07:34.437Z",
    "type": "execution"
   },
   {
    "id": "51b8740fc0db4fc2bd5b0d8ac4e87ac2",
    "time": "2021-01-30T21:07:34.676Z",
    "type": "completion"
   },
   {
    "code": "N = 8 # feel free to change this value and observe what happens\nroots = calc_all_nth_roots(N)\nf = plt.figure()\nf.set_figwidth(4)\nf.set_figheight(4)\nplt.scatter([r.real for r in roots], [r.imag for r in roots]) \nplt.ylabel('Imaginary') \nplt.xlabel('Real') \nplt.grid(True)\n# set the x-spine (see below for more info on `set_position`)\nax.spines['left'].set_position('zero')\n\n# turn off the right spine/ticks\nax.spines['right'].set_color('none')\nax.yaxis.tick_left()\n\n# set the y-spine\nax.spines['bottom'].set_position('zero')\n\n# turn off the top spine/ticks\nax.spines['top'].set_color('none')\nax.xaxis.tick_bottom()\nplt.show() ",
    "id": "51b8740fc0db4fc2bd5b0d8ac4e87ac2",
    "idx": 16,
    "time": "2021-01-30T21:08:28.391Z",
    "type": "execution"
   },
   {
    "id": "51b8740fc0db4fc2bd5b0d8ac4e87ac2",
    "time": "2021-01-30T21:08:28.617Z",
    "type": "completion"
   },
   {
    "code": "N = 8 # feel free to change this value and observe what happens\nroots = calc_all_nth_roots(N)\nfig, ax = plt.subplots()\nfig.set_figwidth(4)\nfig.set_figheight(4)\nplt.scatter([r.real for r in roots], [r.imag for r in roots]) \nplt.ylabel('Imaginary') \nplt.xlabel('Real') \nplt.grid(True)\n# set the x-spine (see below for more info on `set_position`)\nax.spines['left'].set_position('zero')\n\n# turn off the right spine/ticks\nax.spines['right'].set_color('none')\nax.yaxis.tick_left()\n\n# set the y-spine\nax.spines['bottom'].set_position('zero')\n\n# turn off the top spine/ticks\nax.spines['top'].set_color('none')\nax.xaxis.tick_bottom()\nplt.show() ",
    "id": "51b8740fc0db4fc2bd5b0d8ac4e87ac2",
    "idx": 16,
    "time": "2021-01-30T21:08:52.957Z",
    "type": "execution"
   },
   {
    "id": "51b8740fc0db4fc2bd5b0d8ac4e87ac2",
    "time": "2021-01-30T21:08:53.200Z",
    "type": "completion"
   },
   {
    "code": "N = 8 # feel free to change this value and observe what happens\nroots = calc_all_nth_roots(N)\nfig, ax = plt.subplots()\nfig.set_figwidth(4)\nfig.set_figheight(4)\nplt.scatter([r.real for r in roots], [r.imag for r in roots]) \nplt.grid(True)\n# set the x-spine (see below for more info on `set_position`)\nax.spines['left'].set_position('zero')\n\n# turn off the right spine/ticks\nax.spines['right'].set_color('none')\nax.yaxis.tick_left()\n\n# set the y-spine\nax.spines['bottom'].set_position('zero')\n\n# turn off the top spine/ticks\nax.spines['top'].set_color('none')\nax.xaxis.tick_bottom()\nplt.show() ",
    "id": "51b8740fc0db4fc2bd5b0d8ac4e87ac2",
    "idx": 16,
    "time": "2021-01-30T21:09:03.078Z",
    "type": "execution"
   },
   {
    "id": "51b8740fc0db4fc2bd5b0d8ac4e87ac2",
    "time": "2021-01-30T21:09:03.319Z",
    "type": "completion"
   },
   {
    "code": "N = 8 # feel free to change this value and observe what happens\nroots = calc_all_nth_roots(N)\nfig, ax = plt.subplots()\nfig.set_figwidth(4)\nfig.set_figheight(4)\nplt.scatter([r.real for r in roots], [r.imag for r in roots]) \nplt.grid(True)\n# set the x-spine (see below for more info on `set_position`)\nax.spines['left'].set_position('zero')\n\n# turn off the right spine/ticks\nax.spines['right'].set_color('none')\n\n# set the y-spine\nax.spines['bottom'].set_position('zero')\n\n# turn off the top spine/ticks\nax.spines['top'].set_color('none')\nplt.show() ",
    "id": "51b8740fc0db4fc2bd5b0d8ac4e87ac2",
    "idx": 16,
    "time": "2021-01-30T21:11:12.155Z",
    "type": "execution"
   },
   {
    "id": "51b8740fc0db4fc2bd5b0d8ac4e87ac2",
    "time": "2021-01-30T21:11:12.392Z",
    "type": "completion"
   },
   {
    "code": "N = 8 # feel free to change this value and observe what happens\nroots = calc_all_nth_roots(N)\nf = plt.figure()\nf.set_figwidth(4)\nf.set_figheight(4)\nplt.scatter([r.real for r in roots], [r.imag for r in roots]) \nplt.grid(True)\n# set the x-spine (see below for more info on `set_position`)\nax.spines['left'].set_position('zero')\n\n# turn off the right spine/ticks\nax.spines['right'].set_color('none')\nax.yaxis.tick_left()\n\n# set the y-spine\nax.spines['bottom'].set_position('zero')\n\n# turn off the top spine/ticks\nax.spines['top'].set_color('none')\nax.xaxis.tick_bottom()\nplt.show() ",
    "id": "51b8740fc0db4fc2bd5b0d8ac4e87ac2",
    "idx": 16,
    "time": "2021-01-30T21:16:31.647Z",
    "type": "execution"
   },
   {
    "id": "51b8740fc0db4fc2bd5b0d8ac4e87ac2",
    "time": "2021-01-30T21:16:31.953Z",
    "type": "completion"
   },
   {
    "code": "N = 8 # feel free to change this value and observe what happens\nroots = calc_all_nth_roots(N)\nf = plt.figure()\nf.set_figwidth(4)\nf.set_figheight(4)\nplt.scatter([r.real for r in roots], [r.imag for r in roots]) \nplt.grid(True)\n# set the x-spine (see below for more info on `set_position`)\nax.spines['left'].set_position('zero')\n\n# turn off the right spine/ticks\nax.spines['right'].set_color('none')\nax.yaxis.tick_left()\n\n# set the y-spine\nax.spines['bottom'].set_position('zero')\n\n# turn off the top spine/ticks\nax.spines['top'].set_color('none')\nax.xaxis.tick_bottom()\nplt.show() ",
    "id": "51b8740fc0db4fc2bd5b0d8ac4e87ac2",
    "idx": 16,
    "time": "2021-01-30T21:16:44.406Z",
    "type": "execution"
   },
   {
    "id": "51b8740fc0db4fc2bd5b0d8ac4e87ac2",
    "time": "2021-01-30T21:16:44.648Z",
    "type": "completion"
   },
   {
    "code": "N = 8 # feel free to change this value and observe what happens\nroots = calc_all_nth_roots(N)\nf = plt.figure()\nf.set_figwidth(4)\nf.set_figheight(4)\nplt.scatter([r.real for r in roots], [r.imag for r in roots]) \n# set the x-spine (see below for more info on `set_position`)\nax.spines['left'].set_position('zero')\n\n# turn off the right spine/ticks\nax.spines['right'].set_color('none')\nax.yaxis.tick_left()\n\n# set the y-spine\nax.spines['bottom'].set_position('zero')\n\n# turn off the top spine/ticks\nax.spines['top'].set_color('none')\nax.xaxis.tick_bottom()\nplt.show() ",
    "id": "51b8740fc0db4fc2bd5b0d8ac4e87ac2",
    "idx": 16,
    "time": "2021-01-30T21:17:08.345Z",
    "type": "execution"
   },
   {
    "id": "51b8740fc0db4fc2bd5b0d8ac4e87ac2",
    "time": "2021-01-30T21:17:08.589Z",
    "type": "completion"
   },
   {
    "code": "N = 8 # feel free to change this value and observe what happens\nroots = calc_all_nth_roots(N)\nf,ax = plt.subplot()\nf.set_figwidth(4)\nf.set_figheight(4)\nplt.scatter([r.real for r in roots], [r.imag for r in roots]) \n# set the x-spine (see below for more info on `set_position`)\nax.spines['left'].set_position('zero')\n\n# turn off the right spine/ticks\nax.spines['right'].set_color('none')\nax.yaxis.tick_left()\n\n# set the y-spine\nax.spines['bottom'].set_position('zero')\n\n# turn off the top spine/ticks\nax.spines['top'].set_color('none')\nax.xaxis.tick_bottom()\nplt.show() ",
    "id": "51b8740fc0db4fc2bd5b0d8ac4e87ac2",
    "idx": 16,
    "time": "2021-01-30T21:17:28.766Z",
    "type": "execution"
   },
   {
    "id": "51b8740fc0db4fc2bd5b0d8ac4e87ac2",
    "time": "2021-01-30T21:17:28.940Z",
    "type": "completion"
   },
   {
    "code": "N = 8 # feel free to change this value and observe what happens\nroots = calc_all_nth_roots(N)\nf,ax = plt.subplots()\nf.set_figwidth(4)\nf.set_figheight(4)\nplt.scatter([r.real for r in roots], [r.imag for r in roots]) \n# set the x-spine (see below for more info on `set_position`)\nax.spines['left'].set_position('zero')\n\n# turn off the right spine/ticks\nax.spines['right'].set_color('none')\nax.yaxis.tick_left()\n\n# set the y-spine\nax.spines['bottom'].set_position('zero')\n\n# turn off the top spine/ticks\nax.spines['top'].set_color('none')\nax.xaxis.tick_bottom()\nplt.show() ",
    "id": "51b8740fc0db4fc2bd5b0d8ac4e87ac2",
    "idx": 16,
    "time": "2021-01-30T21:17:33.774Z",
    "type": "execution"
   },
   {
    "id": "51b8740fc0db4fc2bd5b0d8ac4e87ac2",
    "time": "2021-01-30T21:17:33.984Z",
    "type": "completion"
   },
   {
    "code": "N = 8 # feel free to change this value and observe what happens\nroots = calc_all_nth_roots(N)\nf,ax = plt.subplots()\nf.set_figwidth(4)\nf.set_figheight(4)\nplt.scatter([r.real for r in roots], [r.imag for r in roots]) \nax.spines['left'].set_position('zero')\nax.spines['right'].set_color('none')\nax.yaxis.tick_left()\nax.spines['bottom'].set_position('zero')\nax.spines['top'].set_color('none')\nax.xaxis.tick_bottom()\nax.set_xlim([-1.2,1.2])\nax.set_ylim([-1.2,1.2])\nax.set_xticks([-1, -0.5, 0, 0.5, 1])\nax.set_yticks([-1, -0.5, 0, 0.5, 1])\nplt.show() ",
    "id": "51b8740fc0db4fc2bd5b0d8ac4e87ac2",
    "idx": 16,
    "time": "2021-01-30T21:19:55.325Z",
    "type": "execution"
   },
   {
    "id": "51b8740fc0db4fc2bd5b0d8ac4e87ac2",
    "time": "2021-01-30T21:19:55.528Z",
    "type": "completion"
   },
   {
    "code": "N = 8 # feel free to change this value and observe what happens\nroots = calc_all_nth_roots(N)\nf,ax = plt.subplots()\nf.set_figwidth(4)\nf.set_figheight(4)\nplt.scatter([r.real for r in roots], [r.imag for r in roots]) \nax.spines['left'].set_position('zero')\nax.spines['right'].set_color('none')\nax.yaxis.tick_left()\nax.spines['bottom'].set_position('zero')\nax.spines['top'].set_color('none')\n\nax.set_xlim([-1.2,1.2])\nax.set_ylim([-1.2,1.2])\nax.set_xticks([-1, -0.5, 0, 0.5, 1])\nax.set_yticks([-1, -0.5, 0, 0.5, 1])\nax.xaxis.tick_bottom()\nplt.show() ",
    "id": "51b8740fc0db4fc2bd5b0d8ac4e87ac2",
    "idx": 16,
    "time": "2021-01-30T21:20:12.234Z",
    "type": "execution"
   },
   {
    "id": "51b8740fc0db4fc2bd5b0d8ac4e87ac2",
    "time": "2021-01-30T21:20:12.438Z",
    "type": "completion"
   },
   {
    "code": "N = 8 # feel free to change this value and observe what happens\nroots = calc_all_nth_roots(N)\nf,ax = plt.subplots()\nf.set_figwidth(4)\nf.set_figheight(4)\nplt.scatter([r.real for r in roots], [r.imag for r in roots]) \nax.spines['left'].set_position('zero')\nax.spines['right'].set_color('none')\nax.yaxis.tick_left()\nax.spines['bottom'].set_position('zero')\nax.spines['top'].set_color('none')\nax.set_xlim([-1.2,1.2])\nax.set_ylim([-1.2,1.2])\nax.set_xticks([-1, -0.5, 0.5, 1])\nax.set_yticks([-1, -0.5, 0.5, 1])\nax.xaxis.tick_bottom()\nplt.show() ",
    "id": "51b8740fc0db4fc2bd5b0d8ac4e87ac2",
    "idx": 16,
    "time": "2021-01-30T21:20:28.646Z",
    "type": "execution"
   },
   {
    "id": "51b8740fc0db4fc2bd5b0d8ac4e87ac2",
    "time": "2021-01-30T21:20:28.823Z",
    "type": "completion"
   },
   {
    "code": "N = 8 # feel free to change this value and observe what happens\nroots = calc_all_nth_roots(N)\nf,ax = plt.subplots()\nf.set_figwidth(4)\nf.set_figheight(4)\nplt.scatter([r.real for r in roots], [r.imag for r in roots]) \nax.spines['left'].set_position('zero')\nax.spines['right'].set_color('none')\nax.yaxis.tick_left()\nax.spines['bottom'].set_position('zero')\nax.spines['top'].set_color('none')\nax.set_xlim([-1.2,1.2])\nax.set_ylim([-1.2,1.2])\nax.set_xticks([-1, -0.5,0, 0.5, 1])\nax.set_yticks([-1, -0.5, 0.5, 1])\nax.xaxis.tick_bottom()\nplt.show() ",
    "id": "51b8740fc0db4fc2bd5b0d8ac4e87ac2",
    "idx": 16,
    "time": "2021-01-30T21:20:38.052Z",
    "type": "execution"
   },
   {
    "id": "51b8740fc0db4fc2bd5b0d8ac4e87ac2",
    "time": "2021-01-30T21:20:38.234Z",
    "type": "completion"
   },
   {
    "code": "N = 8 # feel free to change this value and observe what happens\nroots = calc_all_nth_roots(N)\nf,ax = plt.subplots()\nf.set_figwidth(4)\nf.set_figheight(4)\nplt.scatter([r.real for r in roots], [r.imag for r in roots]) \nax.spines['left'].set_position('zero')\nax.spines['right'].set_color('none')\nax.yaxis.tick_left()\nax.spines['bottom'].set_position('zero')\nax.spines['top'].set_color('none')\nax.set_xlim([-1.2,1.2])\nax.set_ylim([-1.2,1.2])\nax.set_xticks([-1, -0.5, 0.5, 1])\nax.set_yticks([-1, -0.5, 0, 0.5, 1])\nax.xaxis.tick_bottom()\nplt.show() ",
    "id": "51b8740fc0db4fc2bd5b0d8ac4e87ac2",
    "idx": 16,
    "time": "2021-01-30T21:20:46.524Z",
    "type": "execution"
   },
   {
    "id": "51b8740fc0db4fc2bd5b0d8ac4e87ac2",
    "time": "2021-01-30T21:20:46.700Z",
    "type": "completion"
   },
   {
    "code": "N = 8 # feel free to change this value and observe what happens\nroots = calc_all_nth_roots(N)\nf,ax = plt.subplots()\nf.set_figwidth(4)\nf.set_figheight(4)\nplt.scatter([r.real for r in roots], [r.imag for r in roots]) \nax.spines['left'].set_position('zero')\nax.spines['right'].set_color('none')\nax.yaxis.tick_left()\nax.spines['bottom'].set_position('zero')\nax.spines['top'].set_color('none')\nax.set_xlim([-1.2,1.2])\nax.set_ylim([-1.2,1.2])\nax.set_xticks([-1, -0.5, 0.5, 1])\nax.set_yticks([-1, -0.5, 0.5, 1])\nax.xaxis.tick_bottom()\nplt.show() ",
    "id": "51b8740fc0db4fc2bd5b0d8ac4e87ac2",
    "idx": 16,
    "time": "2021-01-30T21:21:03.422Z",
    "type": "execution"
   },
   {
    "id": "51b8740fc0db4fc2bd5b0d8ac4e87ac2",
    "time": "2021-01-30T21:21:03.636Z",
    "type": "completion"
   },
   {
    "code": "N = 16 # feel free to change this value and observe what happens\nroots = calc_all_nth_roots(N)\n\n# Plot\nf,ax = plt.subplots()\nf.set_figwidth(4)\nf.set_figheight(4)\nplt.scatter([r.real for r in roots], [r.imag for r in roots]) \nax.spines['left'].set_position('zero')\nax.spines['right'].set_color('none')\nax.yaxis.tick_left()\nax.spines['bottom'].set_position('zero')\nax.spines['top'].set_color('none')\nax.set_xlim([-1.2,1.2])\nax.set_ylim([-1.2,1.2])\nax.set_xticks([-1, -0.5, 0.5, 1])\nax.set_yticks([-1, -0.5, 0.5, 1])\nax.xaxis.tick_bottom()\nplt.show() ",
    "id": "51b8740fc0db4fc2bd5b0d8ac4e87ac2",
    "idx": 16,
    "time": "2021-01-30T21:21:37.175Z",
    "type": "execution"
   },
   {
    "id": "51b8740fc0db4fc2bd5b0d8ac4e87ac2",
    "time": "2021-01-30T21:21:37.405Z",
    "type": "completion"
   },
   {
    "code": "N = 8 # feel free to change this value and observe what happens\nroots = calc_all_nth_roots(N)\n\n# Plot\nf,ax = plt.subplots()\nf.set_figwidth(4)\nf.set_figheight(4)\nplt.scatter([r.real for r in roots], [r.imag for r in roots]) \nax.spines['left'].set_position('zero')\nax.spines['right'].set_color('none')\nax.yaxis.tick_left()\nax.spines['bottom'].set_position('zero')\nax.spines['top'].set_color('none')\nax.set_xlim([-1.2,1.2])\nax.set_ylim([-1.2,1.2])\nax.set_xticks([-1, -0.5, 0.5, 1])\nax.set_yticks([-1, -0.5, 0.5, 1])\nax.xaxis.tick_bottom()\nplt.show() ",
    "id": "51b8740fc0db4fc2bd5b0d8ac4e87ac2",
    "idx": 16,
    "time": "2021-01-30T21:21:41.313Z",
    "type": "execution"
   },
   {
    "id": "51b8740fc0db4fc2bd5b0d8ac4e87ac2",
    "time": "2021-01-30T21:21:41.479Z",
    "type": "completion"
   },
   {
    "code": "lst = [1,2,3,4]\nlst[::2]",
    "id": "2026e206803847478334dbf541d56731",
    "idx": 7,
    "time": "2021-01-30T21:25:11.424Z",
    "type": "execution"
   },
   {
    "id": "2026e206803847478334dbf541d56731",
    "time": "2021-01-30T21:25:11.519Z",
    "type": "completion"
   },
   {
    "code": "lst = [1,2,3,4]\nlst[1::2]",
    "id": "2026e206803847478334dbf541d56731",
    "idx": 7,
    "time": "2021-01-30T21:25:15.080Z",
    "type": "execution"
   },
   {
    "id": "2026e206803847478334dbf541d56731",
    "time": "2021-01-30T21:25:15.143Z",
    "type": "completion"
   },
   {
    "code": "def FFT(coeffs, roots):\n    ### YOUR SOLUTION HERE ###\n    if len(coeffs) == 0:\n        return [0]\n    if len(coeffs) == 1:\n        return coeffs\n    odds = FFT(coeffs[1::2], roots[::2])\n    odds = [roots[1] * x for x in odds]\n    return FFT(coeffs[::2], roots[::2]) + odds\n    \n    ",
    "id": "96c336dfe1cb423b9cd56033a92000aa",
    "idx": 6,
    "time": "2021-01-30T21:26:44.824Z",
    "type": "execution"
   },
   {
    "id": "96c336dfe1cb423b9cd56033a92000aa",
    "time": "2021-01-30T21:26:44.893Z",
    "type": "completion"
   },
   {
    "code": "expected = [6, -2+2j, 2, -2-2j]\nactual = FFT([1, 2, 3], [1, 1j, -1, -1j])\nprint(\"expected: {}\".format(expected))\nprint(\"actual:   {}\".format(actual))",
    "id": "6424886cf8f142deb19224ddcfb75344",
    "idx": 10,
    "time": "2021-01-30T21:26:48.705Z",
    "type": "execution"
   },
   {
    "id": "6424886cf8f142deb19224ddcfb75344",
    "time": "2021-01-30T21:26:48.775Z",
    "type": "completion"
   },
   {
    "code": "def FFT(coeffs, roots):\n    ### YOUR SOLUTION HERE ###\n    if len(coeffs) == 0:\n        return [0]\n    if len(coeffs) == 1:\n        return coeffs\n    evens = FFT(coeffs[::2], roots[::2])\n    odds = FFT(coeffs[1::2], roots[::2])\n    print(evens, odds)\n    return FFT(coeffs[::2], roots[::2]) + odds\n    \n    ",
    "id": "96c336dfe1cb423b9cd56033a92000aa",
    "idx": 6,
    "time": "2021-01-30T21:29:14.402Z",
    "type": "execution"
   },
   {
    "id": "96c336dfe1cb423b9cd56033a92000aa",
    "time": "2021-01-30T21:29:14.471Z",
    "type": "completion"
   },
   {
    "code": "expected = [6, -2+2j, 2, -2-2j]\nactual = FFT([1, 2, 3], [1, 1j, -1, -1j])\nprint(\"expected: {}\".format(expected))\nprint(\"actual:   {}\".format(actual))",
    "id": "6424886cf8f142deb19224ddcfb75344",
    "idx": 9,
    "time": "2021-01-30T21:29:17.344Z",
    "type": "execution"
   },
   {
    "id": "6424886cf8f142deb19224ddcfb75344",
    "time": "2021-01-30T21:29:17.409Z",
    "type": "completion"
   },
   {
    "code": "def FFT(coeffs, roots):\n    ### YOUR SOLUTION HERE ###\n    if len(coeffs) == 0:\n        return [0]\n    if len(coeffs) == 1:\n        return coeffs\n    evens = FFT(coeffs[::2], roots[::2])\n    odds = FFT(coeffs[1::2], roots[::2])\n    return [evens[i] + roots[i] * odds[i] for i in range(len(roots)/2)] + [evens[i] - roots[i] * odds[i] for i in range(len(roots)/2)]\n    \n    ",
    "id": "96c336dfe1cb423b9cd56033a92000aa",
    "idx": 6,
    "time": "2021-01-30T21:32:02.299Z",
    "type": "execution"
   },
   {
    "id": "96c336dfe1cb423b9cd56033a92000aa",
    "time": "2021-01-30T21:32:02.364Z",
    "type": "completion"
   },
   {
    "code": "expected = [6, -2+2j, 2, -2-2j]\nactual = FFT([1, 2, 3], [1, 1j, -1, -1j])\nprint(\"expected: {}\".format(expected))\nprint(\"actual:   {}\".format(actual))",
    "id": "6424886cf8f142deb19224ddcfb75344",
    "idx": 9,
    "time": "2021-01-30T21:32:03.637Z",
    "type": "execution"
   },
   {
    "id": "6424886cf8f142deb19224ddcfb75344",
    "time": "2021-01-30T21:32:03.765Z",
    "type": "completion"
   },
   {
    "code": "def FFT(coeffs, roots):\n    ### YOUR SOLUTION HERE ###\n    if len(coeffs) == 0:\n        return [0]\n    if len(coeffs) == 1:\n        return coeffs\n    evens = FFT(coeffs[::2], roots[::2])\n    odds = FFT(coeffs[1::2], roots[::2])\n    return [evens[i] + roots[i] * odds[i] for i in range(len(roots)//2)] + [evens[i] - roots[i] * odds[i] for i in range(len(roots)//2)]\n    \n    ",
    "id": "96c336dfe1cb423b9cd56033a92000aa",
    "idx": 6,
    "time": "2021-01-30T21:32:17.271Z",
    "type": "execution"
   },
   {
    "id": "96c336dfe1cb423b9cd56033a92000aa",
    "time": "2021-01-30T21:32:17.335Z",
    "type": "completion"
   },
   {
    "code": "expected = [6, -2+2j, 2, -2-2j]\nactual = FFT([1, 2, 3], [1, 1j, -1, -1j])\nprint(\"expected: {}\".format(expected))\nprint(\"actual:   {}\".format(actual))",
    "id": "6424886cf8f142deb19224ddcfb75344",
    "idx": 9,
    "time": "2021-01-30T21:32:20.446Z",
    "type": "execution"
   },
   {
    "id": "6424886cf8f142deb19224ddcfb75344",
    "time": "2021-01-30T21:32:20.574Z",
    "type": "completion"
   },
   {
    "code": "def FFT(coeffs, roots):\n    ### YOUR SOLUTION HERE ###\n    if len(coeffs) == 0:\n        return [0]\n    if len(coeffs) == 1:\n        return coeffs\n    print(len(roots))\n    evens = FFT(coeffs[::2], roots[::2])\n    odds = FFT(coeffs[1::2], roots[::2])\n    return [evens[i] + roots[i] * odds[i] for i in range(len(roots)//2)] + [evens[i] - roots[i] * odds[i] for i in range(len(roots)//2)]\n    \n    ",
    "id": "96c336dfe1cb423b9cd56033a92000aa",
    "idx": 6,
    "time": "2021-01-30T21:32:31.414Z",
    "type": "execution"
   },
   {
    "id": "96c336dfe1cb423b9cd56033a92000aa",
    "time": "2021-01-30T21:32:31.478Z",
    "type": "completion"
   },
   {
    "code": "expected = [6, -2+2j, 2, -2-2j]\nactual = FFT([1, 2, 3], [1, 1j, -1, -1j])\nprint(\"expected: {}\".format(expected))\nprint(\"actual:   {}\".format(actual))",
    "id": "6424886cf8f142deb19224ddcfb75344",
    "idx": 9,
    "time": "2021-01-30T21:32:32.664Z",
    "type": "execution"
   },
   {
    "id": "6424886cf8f142deb19224ddcfb75344",
    "time": "2021-01-30T21:32:32.806Z",
    "type": "completion"
   },
   {
    "code": "def FFT(coeffs, roots):\n    ### YOUR SOLUTION HERE ###\n    if len(coeffs) == 0:\n        return [0]\n    if len(coeffs) == 1:\n        return coeffs\n    print(len(roots), len(coeffs))\n    evens = FFT(coeffs[::2], roots[::2])\n    odds = FFT(coeffs[1::2], roots[::2])\n    return [evens[i] + roots[i] * odds[i] for i in range(len(roots)//2)] + [evens[i] - roots[i] * odds[i] for i in range(len(roots)//2)]\n    \n    ",
    "id": "96c336dfe1cb423b9cd56033a92000aa",
    "idx": 6,
    "time": "2021-01-30T21:33:08.675Z",
    "type": "execution"
   },
   {
    "id": "96c336dfe1cb423b9cd56033a92000aa",
    "time": "2021-01-30T21:33:08.748Z",
    "type": "completion"
   },
   {
    "code": "expected = [6, -2+2j, 2, -2-2j]\nactual = FFT([1, 2, 3], [1, 1j, -1, -1j])\nprint(\"expected: {}\".format(expected))\nprint(\"actual:   {}\".format(actual))",
    "id": "6424886cf8f142deb19224ddcfb75344",
    "idx": 9,
    "time": "2021-01-30T21:33:09.709Z",
    "type": "execution"
   },
   {
    "id": "6424886cf8f142deb19224ddcfb75344",
    "time": "2021-01-30T21:33:09.841Z",
    "type": "completion"
   },
   {
    "code": "def FFT(coeffs, roots):\n    ### YOUR SOLUTION HERE ###\n    if len(coeffs) == 0:\n        return [0]\n    if len(coeffs) == 1:\n        return coeffs\n    evens = FFT(coeffs[::2], roots[::2])\n    odds = FFT(coeffs[1::2], roots[::2])\n    print(len(roots), evens, odds)\n    return [evens[i] + roots[i] * odds[i] for i in range(len(roots)//2)] + [evens[i] - roots[i] * odds[i] for i in range(len(roots)//2)]\n    \n    ",
    "id": "96c336dfe1cb423b9cd56033a92000aa",
    "idx": 6,
    "time": "2021-01-30T21:33:51.035Z",
    "type": "execution"
   },
   {
    "id": "96c336dfe1cb423b9cd56033a92000aa",
    "time": "2021-01-30T21:33:51.107Z",
    "type": "completion"
   },
   {
    "code": "expected = [6, -2+2j, 2, -2-2j]\nactual = FFT([1, 2, 3], [1, 1j, -1, -1j])\nprint(\"expected: {}\".format(expected))\nprint(\"actual:   {}\".format(actual))",
    "id": "6424886cf8f142deb19224ddcfb75344",
    "idx": 9,
    "time": "2021-01-30T21:33:52.157Z",
    "type": "execution"
   },
   {
    "id": "6424886cf8f142deb19224ddcfb75344",
    "time": "2021-01-30T21:33:52.288Z",
    "type": "completion"
   },
   {
    "code": "def FFT(coeffs, roots):\n    ### YOUR SOLUTION HERE ###\n    if len(coeffs) == 0:\n        return [0]*len(roots)\n    elif len(roots) == 1:\n        return coeffs\n    evens = FFT(coeffs[::2], roots[::2])\n    odds = FFT(coeffs[1::2], roots[::2])\n    return [evens[i] + roots[i] * odds[i] for i in range(len(roots)//2)] + [evens[i] - roots[i] * odds[i] for i in range(len(roots)//2)]\n    \n    ",
    "id": "96c336dfe1cb423b9cd56033a92000aa",
    "idx": 6,
    "time": "2021-01-30T21:35:35.809Z",
    "type": "execution"
   },
   {
    "id": "96c336dfe1cb423b9cd56033a92000aa",
    "time": "2021-01-30T21:35:35.877Z",
    "type": "completion"
   },
   {
    "code": "expected = [6, -2+2j, 2, -2-2j]\nactual = FFT([1, 2, 3], [1, 1j, -1, -1j])\nprint(\"expected: {}\".format(expected))\nprint(\"actual:   {}\".format(actual))",
    "id": "6424886cf8f142deb19224ddcfb75344",
    "idx": 9,
    "time": "2021-01-30T21:35:37.204Z",
    "type": "execution"
   },
   {
    "id": "6424886cf8f142deb19224ddcfb75344",
    "time": "2021-01-30T21:35:37.272Z",
    "type": "completion"
   },
   {
    "code": "not_expected = [6, 17, 34, 57]\nactual = FFT([1, 2, 3], [1, 2, 3, 4])\nprint(\"NOT expected: {}\".format(not_expected))\nprint(\"actual:       {}\".format(actual))",
    "id": "16e3227c3ad34b138044be970ded5965",
    "idx": 11,
    "time": "2021-01-30T21:35:41.173Z",
    "type": "execution"
   },
   {
    "id": "16e3227c3ad34b138044be970ded5965",
    "time": "2021-01-30T21:35:41.235Z",
    "type": "completion"
   },
   {
    "code": "def next_power_of_2(n):\n    ret = 1\n    while ret < n:\n        ret *= 2\n    return ret\n\n# note that the sine function is math.sin(x) and the cosine function is math.cos(x)\ndef calc_nth_root(n):\n    theta_n = 2 * math.pi / n\n    a = math.sin(theta_n)\n    b = math.cos(theta_n)\n    return a + b * 1j\n\ndef calc_all_nth_roots(n):\n    root = calc_nth_root(n)\n    return [root**k for k in range(n)] \n",
    "id": "1d47483fb6de44a39120a8330831045b",
    "idx": 14,
    "time": "2021-01-30T21:35:47.554Z",
    "type": "execution"
   },
   {
    "id": "1d47483fb6de44a39120a8330831045b",
    "time": "2021-01-30T21:35:47.618Z",
    "type": "completion"
   },
   {
    "code": "N = 8 # feel free to change this value and observe what happens\nroots = calc_all_nth_roots(N)\n\n# Plot\nf,ax = plt.subplots()\nf.set_figwidth(4)\nf.set_figheight(4)\nplt.scatter([r.real for r in roots], [r.imag for r in roots]) \nax.spines['left'].set_position('zero')\nax.spines['right'].set_color('none')\nax.yaxis.tick_left()\nax.spines['bottom'].set_position('zero')\nax.spines['top'].set_color('none')\nax.set_xlim([-1.2,1.2])\nax.set_ylim([-1.2,1.2])\nax.set_xticks([-1, -0.5, 0.5, 1])\nax.set_yticks([-1, -0.5, 0.5, 1])\nax.xaxis.tick_bottom()\nplt.show() ",
    "id": "51b8740fc0db4fc2bd5b0d8ac4e87ac2",
    "idx": 16,
    "time": "2021-01-30T21:35:48.622Z",
    "type": "execution"
   },
   {
    "id": "51b8740fc0db4fc2bd5b0d8ac4e87ac2",
    "time": "2021-01-30T21:35:48.801Z",
    "type": "completion"
   },
   {
    "code": "def poly_multiply(coeffs1, coeffs2):\n    ### YOUR SOLUTION HERE ###",
    "id": "54768a3dcd8b48c899dbb0e838743788",
    "idx": 18,
    "time": "2021-01-30T21:35:49.903Z",
    "type": "execution"
   },
   {
    "id": "54768a3dcd8b48c899dbb0e838743788",
    "time": "2021-01-30T21:35:49.973Z",
    "type": "completion"
   },
   {
    "code": "def next_power_of_2(k):\n    ret = 1\n    while ret < k:\n        ret *= 2\n    return ret\n\n# note that the sine function is math.sin(x) and the cosine function is math.cos(x)\ndef calc_nth_root(n):\n    theta_n = 2 * math.pi / n\n    a = math.sin(theta_n)\n    b = math.cos(theta_n)\n    return a + b * 1j\n\ndef calc_all_nth_roots(n):\n    root = calc_nth_root(n)\n    return [root**k for k in range(n)] \n",
    "id": "1d47483fb6de44a39120a8330831045b",
    "idx": 14,
    "time": "2021-01-30T21:36:29.213Z",
    "type": "execution"
   },
   {
    "id": "1d47483fb6de44a39120a8330831045b",
    "time": "2021-01-30T21:36:29.280Z",
    "type": "completion"
   },
   {
    "code": "N = 8 # feel free to change this value and observe what happens\nroots = calc_all_nth_roots(N)\n\n# Plot\nf,ax = plt.subplots()\nf.set_figwidth(4)\nf.set_figheight(4)\nplt.scatter([r.real for r in roots], [r.imag for r in roots]) \nax.spines['left'].set_position('zero')\nax.spines['right'].set_color('none')\nax.yaxis.tick_left()\nax.spines['bottom'].set_position('zero')\nax.spines['top'].set_color('none')\nax.set_xlim([-1.2,1.2])\nax.set_ylim([-1.2,1.2])\nax.set_xticks([-1, -0.5, 0.5, 1])\nax.set_yticks([-1, -0.5, 0.5, 1])\nax.xaxis.tick_bottom()\nplt.show() ",
    "id": "51b8740fc0db4fc2bd5b0d8ac4e87ac2",
    "idx": 16,
    "time": "2021-01-30T21:36:34.095Z",
    "type": "execution"
   },
   {
    "id": "51b8740fc0db4fc2bd5b0d8ac4e87ac2",
    "time": "2021-01-30T21:36:34.291Z",
    "type": "completion"
   },
   {
    "code": "def poly_multiply(coeffs1, coeffs2):\n    n = next_power_of_2((len(coeffs1) - 1) * (len(coeffs) - 1))\n    roots = calc_all_nth_roots(n)\n    f1 = FFT(coeffs1, roots)\n    f2 = FFT(coeffs2, roots)\n    res = [f1[i] * f2[i] for i in len(f1)]\n    return FFT(res, roots[::-1])",
    "id": "54768a3dcd8b48c899dbb0e838743788",
    "idx": 18,
    "time": "2021-01-30T21:38:57.256Z",
    "type": "execution"
   },
   {
    "id": "54768a3dcd8b48c899dbb0e838743788",
    "time": "2021-01-30T21:38:57.421Z",
    "type": "completion"
   },
   {
    "code": "def round_complex_to_int(lst):\n    return [round(x.real) for x in lst]\n\ndef zero_pop(lst):\n    while lst[-1] == 0:\n        lst.pop()",
    "id": "f140994ab620469f820e9ea6921e1407",
    "idx": 20,
    "time": "2021-01-30T21:39:00.609Z",
    "type": "execution"
   },
   {
    "id": "f140994ab620469f820e9ea6921e1407",
    "time": "2021-01-30T21:39:00.832Z",
    "type": "completion"
   },
   {
    "code": "expected = [4, 13, 22, 15]\nactual = round_complex_to_int(poly_multiply([1, 2, 3], [4, 5]))\nprint(\"expected: {}\".format(expected))\nprint(\"actual:   {}\".format(actual))",
    "id": "ef95116576e149f88e8552bdea139fce",
    "idx": 22,
    "time": "2021-01-30T21:39:01.574Z",
    "type": "execution"
   },
   {
    "id": "ef95116576e149f88e8552bdea139fce",
    "time": "2021-01-30T21:39:02.120Z",
    "type": "completion"
   },
   {
    "code": "def poly_multiply(coeffs1, coeffs2):\n    n = next_power_of_2((len(coeffs1) - 1) * (len(coeffs2) - 1))\n    roots = calc_all_nth_roots(n)\n    f1 = FFT(coeffs1, roots)\n    f2 = FFT(coeffs2, roots)\n    res = [f1[i] * f2[i] for i in len(f1)]\n    return FFT(res, roots[::-1])",
    "id": "54768a3dcd8b48c899dbb0e838743788",
    "idx": 18,
    "time": "2021-01-30T21:39:15.919Z",
    "type": "execution"
   },
   {
    "id": "54768a3dcd8b48c899dbb0e838743788",
    "time": "2021-01-30T21:39:15.994Z",
    "type": "completion"
   },
   {
    "code": "expected = [4, 13, 22, 15]\nactual = round_complex_to_int(poly_multiply([1, 2, 3], [4, 5]))\nprint(\"expected: {}\".format(expected))\nprint(\"actual:   {}\".format(actual))",
    "id": "ef95116576e149f88e8552bdea139fce",
    "idx": 22,
    "time": "2021-01-30T21:39:18.172Z",
    "type": "execution"
   },
   {
    "id": "ef95116576e149f88e8552bdea139fce",
    "time": "2021-01-30T21:39:18.253Z",
    "type": "completion"
   },
   {
    "code": "def poly_multiply(coeffs1, coeffs2):\n    n = next_power_of_2((len(coeffs1) - 1) * (len(coeffs2) - 1))\n    roots = calc_all_nth_roots(n)\n    f1 = FFT(coeffs1, roots)\n    f2 = FFT(coeffs2, roots)\n    res = [f1[i] * f2[i] for i in range(len(f1))]\n    return FFT(res, roots[::-1])",
    "id": "54768a3dcd8b48c899dbb0e838743788",
    "idx": 18,
    "time": "2021-01-30T21:39:29.859Z",
    "type": "execution"
   },
   {
    "id": "54768a3dcd8b48c899dbb0e838743788",
    "time": "2021-01-30T21:39:29.926Z",
    "type": "completion"
   },
   {
    "code": "def round_complex_to_int(lst):\n    return [round(x.real) for x in lst]\n\ndef zero_pop(lst):\n    while lst[-1] == 0:\n        lst.pop()",
    "id": "f140994ab620469f820e9ea6921e1407",
    "idx": 20,
    "time": "2021-01-30T21:39:30.646Z",
    "type": "execution"
   },
   {
    "id": "f140994ab620469f820e9ea6921e1407",
    "time": "2021-01-30T21:39:30.745Z",
    "type": "completion"
   },
   {
    "code": "expected = [4, 13, 22, 15]\nactual = round_complex_to_int(poly_multiply([1, 2, 3], [4, 5]))\nprint(\"expected: {}\".format(expected))\nprint(\"actual:   {}\".format(actual))",
    "id": "ef95116576e149f88e8552bdea139fce",
    "idx": 22,
    "time": "2021-01-30T21:39:31.332Z",
    "type": "execution"
   },
   {
    "id": "ef95116576e149f88e8552bdea139fce",
    "time": "2021-01-30T21:39:31.545Z",
    "type": "completion"
   },
   {
    "code": "def poly_multiply(coeffs1, coeffs2):\n    n = next_power_of_2((len(coeffs1) - 1) * (len(coeffs2) - 1))\n    roots = calc_all_nth_roots(n)\n    f1 = FFT(coeffs1, roots)\n    f2 = FFT(coeffs2, roots)\n    res = [f1[i] * f2[i] for i in range(len(f1))]\n    print(res)\n    return FFT(res, roots[::-1])",
    "id": "54768a3dcd8b48c899dbb0e838743788",
    "idx": 18,
    "time": "2021-01-30T21:40:23.286Z",
    "type": "execution"
   },
   {
    "id": "54768a3dcd8b48c899dbb0e838743788",
    "time": "2021-01-30T21:40:23.517Z",
    "type": "completion"
   },
   {
    "code": "def round_complex_to_int(lst):\n    return [round(x.real) for x in lst]\n\ndef zero_pop(lst):\n    while lst[-1] == 0:\n        lst.pop()",
    "id": "f140994ab620469f820e9ea6921e1407",
    "idx": 20,
    "time": "2021-01-30T21:40:24.007Z",
    "type": "execution"
   },
   {
    "id": "f140994ab620469f820e9ea6921e1407",
    "time": "2021-01-30T21:40:24.145Z",
    "type": "completion"
   },
   {
    "code": "expected = [4, 13, 22, 15]\nactual = round_complex_to_int(poly_multiply([1, 2, 3], [4, 5]))\nprint(\"expected: {}\".format(expected))\nprint(\"actual:   {}\".format(actual))",
    "id": "ef95116576e149f88e8552bdea139fce",
    "idx": 22,
    "time": "2021-01-30T21:40:24.602Z",
    "type": "execution"
   },
   {
    "id": "ef95116576e149f88e8552bdea139fce",
    "time": "2021-01-30T21:40:24.755Z",
    "type": "completion"
   },
   {
    "code": "def poly_multiply(coeffs1, coeffs2):\n    n = next_power_of_2((len(coeffs1) - 1) * (len(coeffs2) - 1))\n    roots = calc_all_nth_roots(n)\n    f1 = FFT(coeffs1, roots)\n    f2 = FFT(coeffs2, roots)\n    res = [f1[i] * f2[i] for i in range(len(f1))]\n    print(n)\n    return FFT(res, roots[::-1])",
    "id": "54768a3dcd8b48c899dbb0e838743788",
    "idx": 18,
    "time": "2021-01-30T21:40:32.244Z",
    "type": "execution"
   },
   {
    "id": "54768a3dcd8b48c899dbb0e838743788",
    "time": "2021-01-30T21:40:32.357Z",
    "type": "completion"
   },
   {
    "code": "def round_complex_to_int(lst):\n    return [round(x.real) for x in lst]\n\ndef zero_pop(lst):\n    while lst[-1] == 0:\n        lst.pop()",
    "id": "f140994ab620469f820e9ea6921e1407",
    "idx": 20,
    "time": "2021-01-30T21:40:32.837Z",
    "type": "execution"
   },
   {
    "id": "f140994ab620469f820e9ea6921e1407",
    "time": "2021-01-30T21:40:33.000Z",
    "type": "completion"
   },
   {
    "code": "expected = [4, 13, 22, 15]\nactual = round_complex_to_int(poly_multiply([1, 2, 3], [4, 5]))\nprint(\"expected: {}\".format(expected))\nprint(\"actual:   {}\".format(actual))",
    "id": "ef95116576e149f88e8552bdea139fce",
    "idx": 22,
    "time": "2021-01-30T21:40:33.390Z",
    "type": "execution"
   },
   {
    "id": "ef95116576e149f88e8552bdea139fce",
    "time": "2021-01-30T21:40:33.638Z",
    "type": "completion"
   },
   {
    "code": "exit",
    "id": "0df637ef158048e988e0a224c902b8f8",
    "idx": null,
    "time": "2021-01-30T21:40:57.095Z",
    "type": "execution"
   },
   {
    "id": "0df637ef158048e988e0a224c902b8f8",
    "time": "2021-01-30T21:40:57.269Z",
    "type": "completion"
   },
   {
    "code": "import math\nimport cmath\nfrom numpy.random import randint\nfrom time import time\nimport matplotlib.pyplot as plt",
    "id": "b37da62e56824c9995fd675a95f386de",
    "idx": 1,
    "time": "2021-01-30T21:41:26.335Z",
    "type": "execution"
   },
   {
    "code": "def FFT(coeffs, roots):\n    ### YOUR SOLUTION HERE ###\n    if len(coeffs) == 0:\n        return [0]*len(roots)\n    elif len(roots) == 1:\n        return coeffs\n    evens = FFT(coeffs[::2], roots[::2])\n    odds = FFT(coeffs[1::2], roots[::2])\n    return [evens[i] + roots[i] * odds[i] for i in range(len(roots)//2)] + [evens[i] - roots[i] * odds[i] for i in range(len(roots)//2)]\n    \n    ",
    "id": "8ec76e2f0244489bab0c9e0ec0e2f200",
    "idx": 6,
    "time": "2021-01-30T21:41:26.343Z",
    "type": "execution"
   },
   {
    "code": "expected = [6, -2+2j, 2, -2-2j]\nactual = FFT([1, 2, 3], [1, 1j, -1, -1j])\nprint(\"expected: {}\".format(expected))\nprint(\"actual:   {}\".format(actual))",
    "id": "6cd5592d676b4c03a3b8ef5ce8e3072a",
    "idx": 9,
    "time": "2021-01-30T21:41:26.346Z",
    "type": "execution"
   },
   {
    "code": "not_expected = [6, 17, 34, 57]\nactual = FFT([1, 2, 3], [1, 2, 3, 4])\nprint(\"NOT expected: {}\".format(not_expected))\nprint(\"actual:       {}\".format(actual))",
    "id": "64e63aa80e15489db288833bf3eb8bff",
    "idx": 11,
    "time": "2021-01-30T21:41:26.349Z",
    "type": "execution"
   },
   {
    "code": "def next_power_of_2(k):\n    ret = 1\n    while ret < k:\n        ret *= 2\n    return ret\n\n# note that the sine function is math.sin(x) and the cosine function is math.cos(x)\ndef calc_nth_root(n):\n    theta_n = 2 * math.pi / n\n    a = math.sin(theta_n)\n    b = math.cos(theta_n)\n    return a + b * 1j\n\ndef calc_all_nth_roots(n):\n    root = calc_nth_root(n)\n    return [root**k for k in range(n)] \n",
    "id": "3778ba572d144362904abd00d0735229",
    "idx": 14,
    "time": "2021-01-30T21:41:26.352Z",
    "type": "execution"
   },
   {
    "code": "N = 8 # feel free to change this value and observe what happens\nroots = calc_all_nth_roots(N)\n\n# Plot\nf,ax = plt.subplots()\nf.set_figwidth(4)\nf.set_figheight(4)\nplt.scatter([r.real for r in roots], [r.imag for r in roots]) \nax.spines['left'].set_position('zero')\nax.spines['right'].set_color('none')\nax.yaxis.tick_left()\nax.spines['bottom'].set_position('zero')\nax.spines['top'].set_color('none')\nax.set_xlim([-1.2,1.2])\nax.set_ylim([-1.2,1.2])\nax.set_xticks([-1, -0.5, 0.5, 1])\nax.set_yticks([-1, -0.5, 0.5, 1])\nax.xaxis.tick_bottom()\nplt.show() ",
    "id": "6adb47981b704d5b86d28c97404ebb5d",
    "idx": 16,
    "time": "2021-01-30T21:41:26.354Z",
    "type": "execution"
   },
   {
    "id": "b37da62e56824c9995fd675a95f386de",
    "time": "2021-01-30T21:41:26.738Z",
    "type": "completion"
   },
   {
    "id": "8ec76e2f0244489bab0c9e0ec0e2f200",
    "time": "2021-01-30T21:41:26.871Z",
    "type": "completion"
   },
   {
    "id": "6cd5592d676b4c03a3b8ef5ce8e3072a",
    "time": "2021-01-30T21:41:26.874Z",
    "type": "completion"
   },
   {
    "id": "64e63aa80e15489db288833bf3eb8bff",
    "time": "2021-01-30T21:41:27.069Z",
    "type": "completion"
   },
   {
    "id": "3778ba572d144362904abd00d0735229",
    "time": "2021-01-30T21:41:27.097Z",
    "type": "completion"
   },
   {
    "id": "6adb47981b704d5b86d28c97404ebb5d",
    "time": "2021-01-30T21:41:27.100Z",
    "type": "completion"
   },
   {
    "code": "def poly_multiply(coeffs1, coeffs2):\n    n = next_power_of_2((len(coeffs1) - 1) * (len(coeffs2) - 1))\n    roots = calc_all_nth_roots(n)\n    f1 = FFT(coeffs1, roots)\n    f2 = FFT(coeffs2, roots)\n    res = [f1[i] * f2[i] for i in range(len(f1))]\n    return FFT(res, roots[::-1])",
    "id": "d3951d20f8ed4797a4ceaff63d4d9141",
    "idx": 18,
    "time": "2021-01-30T21:41:30.129Z",
    "type": "execution"
   },
   {
    "id": "d3951d20f8ed4797a4ceaff63d4d9141",
    "time": "2021-01-30T21:41:30.215Z",
    "type": "completion"
   },
   {
    "code": "def round_complex_to_int(lst):\n    return [round(x.real) for x in lst]\n\ndef zero_pop(lst):\n    while lst[-1] == 0:\n        lst.pop()",
    "id": "1574e6f11bed4a05842c592f70aaf324",
    "idx": 20,
    "time": "2021-01-30T21:41:31.049Z",
    "type": "execution"
   },
   {
    "id": "1574e6f11bed4a05842c592f70aaf324",
    "time": "2021-01-30T21:41:31.110Z",
    "type": "completion"
   },
   {
    "code": "expected = [4, 13, 22, 15]\nactual = round_complex_to_int(poly_multiply([1, 2, 3], [4, 5]))\nprint(\"expected: {}\".format(expected))\nprint(\"actual:   {}\".format(actual))",
    "id": "e77f4e708f4e4dcf8334ed34f03ee1fe",
    "idx": 22,
    "time": "2021-01-30T21:41:31.859Z",
    "type": "execution"
   },
   {
    "id": "e77f4e708f4e4dcf8334ed34f03ee1fe",
    "time": "2021-01-30T21:41:31.985Z",
    "type": "completion"
   },
   {
    "code": "def poly_multiply(coeffs1, coeffs2):\n    n = next_power_of_2((len(coeffs1) - 1) * (len(coeffs2) - 1)+1)\n    roots = calc_all_nth_roots(n)\n    f1 = FFT(coeffs1, roots)\n    f2 = FFT(coeffs2, roots)\n    res = [f1[i] * f2[i] for i in range(len(f1))]\n    return FFT(res, roots[::-1])",
    "id": "d3951d20f8ed4797a4ceaff63d4d9141",
    "idx": 18,
    "time": "2021-01-30T21:42:21.039Z",
    "type": "execution"
   },
   {
    "id": "d3951d20f8ed4797a4ceaff63d4d9141",
    "time": "2021-01-30T21:42:21.285Z",
    "type": "completion"
   },
   {
    "code": "def round_complex_to_int(lst):\n    return [round(x.real) for x in lst]\n\ndef zero_pop(lst):\n    while lst[-1] == 0:\n        lst.pop()",
    "id": "1574e6f11bed4a05842c592f70aaf324",
    "idx": 20,
    "time": "2021-01-30T21:42:21.867Z",
    "type": "execution"
   },
   {
    "id": "1574e6f11bed4a05842c592f70aaf324",
    "time": "2021-01-30T21:42:22.160Z",
    "type": "completion"
   },
   {
    "code": "expected = [4, 13, 22, 15]\nactual = round_complex_to_int(poly_multiply([1, 2, 3], [4, 5]))\nprint(\"expected: {}\".format(expected))\nprint(\"actual:   {}\".format(actual))",
    "id": "e77f4e708f4e4dcf8334ed34f03ee1fe",
    "idx": 22,
    "time": "2021-01-30T21:42:22.722Z",
    "type": "execution"
   },
   {
    "id": "e77f4e708f4e4dcf8334ed34f03ee1fe",
    "time": "2021-01-30T21:42:23.021Z",
    "type": "completion"
   },
   {
    "code": "expected = [4, 13, 28, 27, 18, 0, 0, 0]\nactual = round_complex_to_int(poly_multiply([1, 2, 3], [4, 5, 6]))\nprint(\"expected: {}\".format(expected))\nprint(\"actual:   {}\".format(actual))",
    "id": "a84b1f7f888c407c8cb90f816cd7a4fe",
    "idx": 23,
    "time": "2021-01-30T21:42:26.839Z",
    "type": "execution"
   },
   {
    "id": "a84b1f7f888c407c8cb90f816cd7a4fe",
    "time": "2021-01-30T21:42:27.029Z",
    "type": "completion"
   },
   {
    "code": "def poly_multiply(coeffs1, coeffs2):\n    n = next_power_of_2((len(coeffs1) - 1) * (len(coeffs2) - 1)+1)\n    roots = calc_all_nth_roots(n)\n    f1 = FFT(coeffs1, roots)\n    f2 = FFT(coeffs2, roots)\n    res = [f1[i] * f2[i] for i in range(len(f1))]\n    return [x//n for x in FFT(res, roots[::-1])]",
    "id": "d3951d20f8ed4797a4ceaff63d4d9141",
    "idx": 18,
    "time": "2021-01-30T21:43:38.304Z",
    "type": "execution"
   },
   {
    "id": "d3951d20f8ed4797a4ceaff63d4d9141",
    "time": "2021-01-30T21:43:38.381Z",
    "type": "completion"
   },
   {
    "code": "def round_complex_to_int(lst):\n    return [round(x.real) for x in lst]\n\ndef zero_pop(lst):\n    while lst[-1] == 0:\n        lst.pop()",
    "id": "1574e6f11bed4a05842c592f70aaf324",
    "idx": 20,
    "time": "2021-01-30T21:43:38.855Z",
    "type": "execution"
   },
   {
    "id": "1574e6f11bed4a05842c592f70aaf324",
    "time": "2021-01-30T21:43:38.947Z",
    "type": "completion"
   },
   {
    "code": "expected = [4, 13, 22, 15]\nactual = round_complex_to_int(poly_multiply([1, 2, 3], [4, 5]))\nprint(\"expected: {}\".format(expected))\nprint(\"actual:   {}\".format(actual))",
    "id": "e77f4e708f4e4dcf8334ed34f03ee1fe",
    "idx": 22,
    "time": "2021-01-30T21:43:39.540Z",
    "type": "execution"
   },
   {
    "id": "e77f4e708f4e4dcf8334ed34f03ee1fe",
    "time": "2021-01-30T21:43:39.698Z",
    "type": "completion"
   },
   {
    "code": "def poly_multiply(coeffs1, coeffs2):\n    n = next_power_of_2((len(coeffs1) - 1) * (len(coeffs2) - 1)+1)\n    roots = calc_all_nth_roots(n)\n    f1 = FFT(coeffs1, roots)\n    f2 = FFT(coeffs2, roots)\n    res = [f1[i] * f2[i] for i in range(len(f1))]\n    return [x for x in FFT(res, roots[::-1])]",
    "id": "d3951d20f8ed4797a4ceaff63d4d9141",
    "idx": 18,
    "time": "2021-01-30T21:43:50.197Z",
    "type": "execution"
   },
   {
    "id": "d3951d20f8ed4797a4ceaff63d4d9141",
    "time": "2021-01-30T21:43:50.261Z",
    "type": "completion"
   },
   {
    "code": "def round_complex_to_int(lst):\n    return [round(x.real) for x in lst]\n\ndef zero_pop(lst):\n    while lst[-1] == 0:\n        lst.pop()",
    "id": "1574e6f11bed4a05842c592f70aaf324",
    "idx": 20,
    "time": "2021-01-30T21:43:50.689Z",
    "type": "execution"
   },
   {
    "id": "1574e6f11bed4a05842c592f70aaf324",
    "time": "2021-01-30T21:43:50.750Z",
    "type": "completion"
   },
   {
    "code": "expected = [4, 13, 22, 15]\nactual = round_complex_to_int(poly_multiply([1, 2, 3], [4, 5]))\nprint(\"expected: {}\".format(expected))\nprint(\"actual:   {}\".format(actual))",
    "id": "e77f4e708f4e4dcf8334ed34f03ee1fe",
    "idx": 22,
    "time": "2021-01-30T21:43:51.264Z",
    "type": "execution"
   },
   {
    "id": "e77f4e708f4e4dcf8334ed34f03ee1fe",
    "time": "2021-01-30T21:43:51.327Z",
    "type": "completion"
   },
   {
    "code": "expected = [4, 13, 28, 27, 18, 0, 0, 0]\nactual = round_complex_to_int(poly_multiply([1, 2, 3], [4, 5, 6]))\nprint(\"expected: {}\".format(expected))\nprint(\"actual:   {}\".format(actual))",
    "id": "a84b1f7f888c407c8cb90f816cd7a4fe",
    "idx": 23,
    "time": "2021-01-30T21:43:52.061Z",
    "type": "execution"
   },
   {
    "id": "a84b1f7f888c407c8cb90f816cd7a4fe",
    "time": "2021-01-30T21:43:52.125Z",
    "type": "completion"
   },
   {
    "code": "def poly_multiply(coeffs1, coeffs2):\n    n = next_power_of_2((len(coeffs1) - 1) * (len(coeffs2) - 1)+1)\n    roots = calc_all_nth_roots(n)\n    f1 = FFT(coeffs1, roots)\n    f2 = FFT(coeffs2, roots)\n    res = [f1[i] * f2[i] for i in range(len(f1))]\n    return [x//2 for x in FFT(res, roots[::-1])]",
    "id": "d3951d20f8ed4797a4ceaff63d4d9141",
    "idx": 18,
    "time": "2021-01-30T21:43:59.780Z",
    "type": "execution"
   },
   {
    "id": "d3951d20f8ed4797a4ceaff63d4d9141",
    "time": "2021-01-30T21:43:59.845Z",
    "type": "completion"
   },
   {
    "code": "def round_complex_to_int(lst):\n    return [round(x.real) for x in lst]\n\ndef zero_pop(lst):\n    while lst[-1] == 0:\n        lst.pop()",
    "id": "1574e6f11bed4a05842c592f70aaf324",
    "idx": 20,
    "time": "2021-01-30T21:44:00.465Z",
    "type": "execution"
   },
   {
    "id": "1574e6f11bed4a05842c592f70aaf324",
    "time": "2021-01-30T21:44:00.527Z",
    "type": "completion"
   },
   {
    "code": "expected = [4, 13, 22, 15]\nactual = round_complex_to_int(poly_multiply([1, 2, 3], [4, 5]))\nprint(\"expected: {}\".format(expected))\nprint(\"actual:   {}\".format(actual))",
    "id": "e77f4e708f4e4dcf8334ed34f03ee1fe",
    "idx": 22,
    "time": "2021-01-30T21:44:01.084Z",
    "type": "execution"
   },
   {
    "id": "e77f4e708f4e4dcf8334ed34f03ee1fe",
    "time": "2021-01-30T21:44:01.197Z",
    "type": "completion"
   },
   {
    "code": "expected = [4, 13, 28, 27, 18, 0, 0, 0]\nactual = round_complex_to_int(poly_multiply([1, 2, 3], [4, 5, 6]))\nprint(\"expected: {}\".format(expected))\nprint(\"actual:   {}\".format(actual))",
    "id": "a84b1f7f888c407c8cb90f816cd7a4fe",
    "idx": 23,
    "time": "2021-01-30T21:44:01.500Z",
    "type": "execution"
   },
   {
    "id": "a84b1f7f888c407c8cb90f816cd7a4fe",
    "time": "2021-01-30T21:44:01.617Z",
    "type": "completion"
   },
   {
    "code": "def poly_multiply(coeffs1, coeffs2):\n    n = next_power_of_2((len(coeffs1) - 1) * (len(coeffs2) - 1)+1)\n    roots = calc_all_nth_roots(n)\n    f1 = FFT(coeffs1, roots)\n    f2 = FFT(coeffs2, roots)\n    res = [f1[i] * f2[i] for i in range(len(f1))]\n    return [x/2 for x in FFT(res, roots[::-1])]",
    "id": "d3951d20f8ed4797a4ceaff63d4d9141",
    "idx": 18,
    "time": "2021-01-30T21:44:05.731Z",
    "type": "execution"
   },
   {
    "id": "d3951d20f8ed4797a4ceaff63d4d9141",
    "time": "2021-01-30T21:44:05.793Z",
    "type": "completion"
   },
   {
    "code": "def round_complex_to_int(lst):\n    return [round(x.real) for x in lst]\n\ndef zero_pop(lst):\n    while lst[-1] == 0:\n        lst.pop()",
    "id": "1574e6f11bed4a05842c592f70aaf324",
    "idx": 20,
    "time": "2021-01-30T21:44:06.090Z",
    "type": "execution"
   },
   {
    "id": "1574e6f11bed4a05842c592f70aaf324",
    "time": "2021-01-30T21:44:06.152Z",
    "type": "completion"
   },
   {
    "code": "expected = [4, 13, 22, 15]\nactual = round_complex_to_int(poly_multiply([1, 2, 3], [4, 5]))\nprint(\"expected: {}\".format(expected))\nprint(\"actual:   {}\".format(actual))",
    "id": "e77f4e708f4e4dcf8334ed34f03ee1fe",
    "idx": 22,
    "time": "2021-01-30T21:44:06.553Z",
    "type": "execution"
   },
   {
    "id": "e77f4e708f4e4dcf8334ed34f03ee1fe",
    "time": "2021-01-30T21:44:06.617Z",
    "type": "completion"
   },
   {
    "code": "expected = [4, 13, 28, 27, 18, 0, 0, 0]\nactual = round_complex_to_int(poly_multiply([1, 2, 3], [4, 5, 6]))\nprint(\"expected: {}\".format(expected))\nprint(\"actual:   {}\".format(actual))",
    "id": "a84b1f7f888c407c8cb90f816cd7a4fe",
    "idx": 23,
    "time": "2021-01-30T21:44:07.250Z",
    "type": "execution"
   },
   {
    "id": "a84b1f7f888c407c8cb90f816cd7a4fe",
    "time": "2021-01-30T21:44:07.318Z",
    "type": "completion"
   },
   {
    "code": "def poly_multiply(coeffs1, coeffs2):\n    n = next_power_of_2((len(coeffs1) - 1) * (len(coeffs2) - 1)+1)\n    print(n)\n    roots = calc_all_nth_roots(n)\n    print(roots)\n    f1 = FFT(coeffs1, roots)\n    f2 = FFT(coeffs2, roots)\n    res = [f1[i] * f2[i] for i in range(len(f1))]\n    return [x/2 for x in FFT(res, roots[::-1])]",
    "id": "d3951d20f8ed4797a4ceaff63d4d9141",
    "idx": 18,
    "time": "2021-01-30T21:47:17.801Z",
    "type": "execution"
   },
   {
    "id": "d3951d20f8ed4797a4ceaff63d4d9141",
    "time": "2021-01-30T21:47:17.865Z",
    "type": "completion"
   },
   {
    "code": "def round_complex_to_int(lst):\n    return [round(x.real) for x in lst]\n\ndef zero_pop(lst):\n    while lst[-1] == 0:\n        lst.pop()",
    "id": "1574e6f11bed4a05842c592f70aaf324",
    "idx": 20,
    "time": "2021-01-30T21:47:18.517Z",
    "type": "execution"
   },
   {
    "id": "1574e6f11bed4a05842c592f70aaf324",
    "time": "2021-01-30T21:47:18.580Z",
    "type": "completion"
   },
   {
    "code": "expected = [4, 13, 22, 15]\nactual = round_complex_to_int(poly_multiply([1, 2, 3], [4, 5]))\nprint(\"expected: {}\".format(expected))\nprint(\"actual:   {}\".format(actual))",
    "id": "e77f4e708f4e4dcf8334ed34f03ee1fe",
    "idx": 22,
    "time": "2021-01-30T21:47:19.284Z",
    "type": "execution"
   },
   {
    "id": "e77f4e708f4e4dcf8334ed34f03ee1fe",
    "time": "2021-01-30T21:47:19.350Z",
    "type": "completion"
   },
   {
    "code": "N = 4 # feel free to change this value and observe what happens\nroots = calc_all_nth_roots(N)\n\n# Plot\nf,ax = plt.subplots()\nf.set_figwidth(4)\nf.set_figheight(4)\nplt.scatter([r.real for r in roots], [r.imag for r in roots]) \nax.spines['left'].set_position('zero')\nax.spines['right'].set_color('none')\nax.yaxis.tick_left()\nax.spines['bottom'].set_position('zero')\nax.spines['top'].set_color('none')\nax.set_xlim([-1.2,1.2])\nax.set_ylim([-1.2,1.2])\nax.set_xticks([-1, -0.5, 0.5, 1])\nax.set_yticks([-1, -0.5, 0.5, 1])\nax.xaxis.tick_bottom()\nplt.show() ",
    "id": "6adb47981b704d5b86d28c97404ebb5d",
    "idx": 16,
    "time": "2021-01-30T21:47:47.198Z",
    "type": "execution"
   },
   {
    "id": "6adb47981b704d5b86d28c97404ebb5d",
    "time": "2021-01-30T21:47:47.390Z",
    "type": "completion"
   },
   {
    "code": "N = 8 # feel free to change this value and observe what happens\nroots = calc_all_nth_roots(N)\n\n# Plot\nf,ax = plt.subplots()\nf.set_figwidth(4)\nf.set_figheight(4)\nplt.scatter([r.real for r in roots], [r.imag for r in roots]) \nax.spines['left'].set_position('zero')\nax.spines['right'].set_color('none')\nax.yaxis.tick_left()\nax.spines['bottom'].set_position('zero')\nax.spines['top'].set_color('none')\nax.set_xlim([-1.2,1.2])\nax.set_ylim([-1.2,1.2])\nax.set_xticks([-1, -0.5, 0.5, 1])\nax.set_yticks([-1, -0.5, 0.5, 1])\nax.xaxis.tick_bottom()\nplt.show() ",
    "id": "6adb47981b704d5b86d28c97404ebb5d",
    "idx": 16,
    "time": "2021-01-30T21:47:57.280Z",
    "type": "execution"
   },
   {
    "id": "6adb47981b704d5b86d28c97404ebb5d",
    "time": "2021-01-30T21:47:57.452Z",
    "type": "completion"
   },
   {
    "code": "N = 4 # feel free to change this value and observe what happens\nroots = calc_all_nth_roots(N)\n\n# Plot\nf,ax = plt.subplots()\nf.set_figwidth(4)\nf.set_figheight(4)\nplt.scatter([r.real for r in roots], [r.imag for r in roots]) \nax.spines['left'].set_position('zero')\nax.spines['right'].set_color('none')\nax.yaxis.tick_left()\nax.spines['bottom'].set_position('zero')\nax.spines['top'].set_color('none')\nax.set_xlim([-1.2,1.2])\nax.set_ylim([-1.2,1.2])\nax.set_xticks([-1, -0.5, 0.5, 1])\nax.set_yticks([-1, -0.5, 0.5, 1])\nax.xaxis.tick_bottom()\nplt.show() ",
    "id": "6adb47981b704d5b86d28c97404ebb5d",
    "idx": 16,
    "time": "2021-01-30T21:48:01.834Z",
    "type": "execution"
   },
   {
    "id": "6adb47981b704d5b86d28c97404ebb5d",
    "time": "2021-01-30T21:48:02.009Z",
    "type": "completion"
   },
   {
    "code": "calc_nth_root(4)",
    "id": "ad574582728c41babc8ba9432e0f0b63",
    "idx": 15,
    "time": "2021-01-30T21:48:19.566Z",
    "type": "execution"
   },
   {
    "id": "ad574582728c41babc8ba9432e0f0b63",
    "time": "2021-01-30T21:48:19.628Z",
    "type": "completion"
   },
   {
    "code": "calc_nth_root(8)",
    "id": "ad574582728c41babc8ba9432e0f0b63",
    "idx": 15,
    "time": "2021-01-30T21:48:23.246Z",
    "type": "execution"
   },
   {
    "id": "ad574582728c41babc8ba9432e0f0b63",
    "time": "2021-01-30T21:48:23.313Z",
    "type": "completion"
   },
   {
    "code": "calc_nth_root(2)",
    "id": "ad574582728c41babc8ba9432e0f0b63",
    "idx": 15,
    "time": "2021-01-30T21:48:32.831Z",
    "type": "execution"
   },
   {
    "id": "ad574582728c41babc8ba9432e0f0b63",
    "time": "2021-01-30T21:48:32.907Z",
    "type": "completion"
   },
   {
    "code": "def next_power_of_2(k):\n    ret = 1\n    while ret < k:\n        ret *= 2\n    return ret\n\n# note that the sine function is math.sin(x) and the cosine function is math.cos(x)\ndef calc_nth_root(n):\n    theta_n = 2 * math.pi / n\n    a = math.sin(theta_n)\n    b = math.cos(theta_n)\n    print(theta,a,b)\n    return a + b * 1j\n\ndef calc_all_nth_roots(n):\n    root = calc_nth_root(n)\n    return [root**k for k in range(n)] \n",
    "id": "3778ba572d144362904abd00d0735229",
    "idx": 14,
    "time": "2021-01-30T21:49:00.766Z",
    "type": "execution"
   },
   {
    "id": "3778ba572d144362904abd00d0735229",
    "time": "2021-01-30T21:49:00.828Z",
    "type": "completion"
   },
   {
    "code": "calc_nth_root(2)",
    "id": "ad574582728c41babc8ba9432e0f0b63",
    "idx": 15,
    "time": "2021-01-30T21:49:01.112Z",
    "type": "execution"
   },
   {
    "id": "ad574582728c41babc8ba9432e0f0b63",
    "time": "2021-01-30T21:49:01.181Z",
    "type": "completion"
   },
   {
    "code": "def next_power_of_2(k):\n    ret = 1\n    while ret < k:\n        ret *= 2\n    return ret\n\n# note that the sine function is math.sin(x) and the cosine function is math.cos(x)\ndef calc_nth_root(n):\n    theta_n = 2 * math.pi / n\n    a = math.sin(theta_n)\n    b = math.cos(theta_n)\n    print(theta_n,a,b)\n    return a + b * 1j\n\ndef calc_all_nth_roots(n):\n    root = calc_nth_root(n)\n    return [root**k for k in range(n)] \n",
    "id": "3778ba572d144362904abd00d0735229",
    "idx": 14,
    "time": "2021-01-30T21:49:05.039Z",
    "type": "execution"
   },
   {
    "id": "3778ba572d144362904abd00d0735229",
    "time": "2021-01-30T21:49:05.101Z",
    "type": "completion"
   },
   {
    "code": "calc_nth_root(2)",
    "id": "ad574582728c41babc8ba9432e0f0b63",
    "idx": 15,
    "time": "2021-01-30T21:49:05.389Z",
    "type": "execution"
   },
   {
    "id": "ad574582728c41babc8ba9432e0f0b63",
    "time": "2021-01-30T21:49:05.452Z",
    "type": "completion"
   },
   {
    "code": "def next_power_of_2(k):\n    ret = 1\n    while ret < k:\n        ret *= 2\n    return ret\n\n# note that the sine function is math.sin(x) and the cosine function is math.cos(x)\ndef calc_nth_root(n):\n    theta_n = 2 * math.pi / n\n    a = math.cos(theta_n)\n    b = math.sin(theta_n)\n    print(theta_n,a,b)\n    return a + b * 1j\n\ndef calc_all_nth_roots(n):\n    root = calc_nth_root(n)\n    return [root**k for k in range(n)] \n",
    "id": "3778ba572d144362904abd00d0735229",
    "idx": 14,
    "time": "2021-01-30T21:49:17.065Z",
    "type": "execution"
   },
   {
    "id": "3778ba572d144362904abd00d0735229",
    "time": "2021-01-30T21:49:17.128Z",
    "type": "completion"
   },
   {
    "code": "calc_nth_root(2)",
    "id": "ad574582728c41babc8ba9432e0f0b63",
    "idx": 15,
    "time": "2021-01-30T21:49:17.425Z",
    "type": "execution"
   },
   {
    "id": "ad574582728c41babc8ba9432e0f0b63",
    "time": "2021-01-30T21:49:17.501Z",
    "type": "completion"
   },
   {
    "code": "def next_power_of_2(k):\n    ret = 1\n    while ret < k:\n        ret *= 2\n    return ret\n\n# note that the sine function is math.sin(x) and the cosine function is math.cos(x)\ndef calc_nth_root(n):\n    theta_n = 2 * math.pi / n\n    a = math.cos(theta_n)\n    b = math.sin(theta_n)\n    return a + b * 1j\n\ndef calc_all_nth_roots(n):\n    root = calc_nth_root(n)\n    return [root**k for k in range(n)] \n",
    "id": "3778ba572d144362904abd00d0735229",
    "idx": 14,
    "time": "2021-01-30T21:49:23.949Z",
    "type": "execution"
   },
   {
    "id": "3778ba572d144362904abd00d0735229",
    "time": "2021-01-30T21:49:24.020Z",
    "type": "completion"
   },
   {
    "code": "calc_nth_root(2)",
    "id": "ad574582728c41babc8ba9432e0f0b63",
    "idx": 15,
    "time": "2021-01-30T21:49:24.389Z",
    "type": "execution"
   },
   {
    "id": "ad574582728c41babc8ba9432e0f0b63",
    "time": "2021-01-30T21:49:24.464Z",
    "type": "completion"
   },
   {
    "code": "N = 4 # feel free to change this value and observe what happens\nroots = calc_all_nth_roots(N)\n\n# Plot\nf,ax = plt.subplots()\nf.set_figwidth(4)\nf.set_figheight(4)\nplt.scatter([r.real for r in roots], [r.imag for r in roots]) \nax.spines['left'].set_position('zero')\nax.spines['right'].set_color('none')\nax.yaxis.tick_left()\nax.spines['bottom'].set_position('zero')\nax.spines['top'].set_color('none')\nax.set_xlim([-1.2,1.2])\nax.set_ylim([-1.2,1.2])\nax.set_xticks([-1, -0.5, 0.5, 1])\nax.set_yticks([-1, -0.5, 0.5, 1])\nax.xaxis.tick_bottom()\nplt.show() ",
    "id": "6adb47981b704d5b86d28c97404ebb5d",
    "idx": 17,
    "time": "2021-01-30T21:49:25.265Z",
    "type": "execution"
   },
   {
    "id": "6adb47981b704d5b86d28c97404ebb5d",
    "time": "2021-01-30T21:49:25.435Z",
    "type": "completion"
   },
   {
    "code": "N = 8 # feel free to change this value and observe what happens\nroots = calc_all_nth_roots(N)\n\n# Plot\nf,ax = plt.subplots()\nf.set_figwidth(4)\nf.set_figheight(4)\nplt.scatter([r.real for r in roots], [r.imag for r in roots]) \nax.spines['left'].set_position('zero')\nax.spines['right'].set_color('none')\nax.yaxis.tick_left()\nax.spines['bottom'].set_position('zero')\nax.spines['top'].set_color('none')\nax.set_xlim([-1.2,1.2])\nax.set_ylim([-1.2,1.2])\nax.set_xticks([-1, -0.5, 0.5, 1])\nax.set_yticks([-1, -0.5, 0.5, 1])\nax.xaxis.tick_bottom()\nplt.show() ",
    "id": "6adb47981b704d5b86d28c97404ebb5d",
    "idx": 17,
    "time": "2021-01-30T21:49:28.643Z",
    "type": "execution"
   },
   {
    "id": "6adb47981b704d5b86d28c97404ebb5d",
    "time": "2021-01-30T21:49:28.815Z",
    "type": "completion"
   },
   {
    "code": "N = 16 # feel free to change this value and observe what happens\nroots = calc_all_nth_roots(N)\n\n# Plot\nf,ax = plt.subplots()\nf.set_figwidth(4)\nf.set_figheight(4)\nplt.scatter([r.real for r in roots], [r.imag for r in roots]) \nax.spines['left'].set_position('zero')\nax.spines['right'].set_color('none')\nax.yaxis.tick_left()\nax.spines['bottom'].set_position('zero')\nax.spines['top'].set_color('none')\nax.set_xlim([-1.2,1.2])\nax.set_ylim([-1.2,1.2])\nax.set_xticks([-1, -0.5, 0.5, 1])\nax.set_yticks([-1, -0.5, 0.5, 1])\nax.xaxis.tick_bottom()\nplt.show() ",
    "id": "6adb47981b704d5b86d28c97404ebb5d",
    "idx": 17,
    "time": "2021-01-30T21:49:32.940Z",
    "type": "execution"
   },
   {
    "id": "6adb47981b704d5b86d28c97404ebb5d",
    "time": "2021-01-30T21:49:33.106Z",
    "type": "completion"
   },
   {
    "code": "def poly_multiply(coeffs1, coeffs2):\n    n = next_power_of_2((len(coeffs1) - 1) * (len(coeffs2) - 1)+1)\n    print(n)\n    roots = calc_all_nth_roots(n)\n    print(roots)\n    f1 = FFT(coeffs1, roots)\n    f2 = FFT(coeffs2, roots)\n    res = [f1[i] * f2[i] for i in range(len(f1))]\n    return [x/2 for x in FFT(res, roots[::-1])]",
    "id": "d3951d20f8ed4797a4ceaff63d4d9141",
    "idx": 18,
    "time": "2021-01-30T21:49:44.044Z",
    "type": "execution"
   },
   {
    "id": "d3951d20f8ed4797a4ceaff63d4d9141",
    "time": "2021-01-30T21:49:44.107Z",
    "type": "completion"
   },
   {
    "code": "def round_complex_to_int(lst):\n    return [round(x.real) for x in lst]\n\ndef zero_pop(lst):\n    while lst[-1] == 0:\n        lst.pop()",
    "id": "1574e6f11bed4a05842c592f70aaf324",
    "idx": 20,
    "time": "2021-01-30T21:49:44.574Z",
    "type": "execution"
   },
   {
    "id": "1574e6f11bed4a05842c592f70aaf324",
    "time": "2021-01-30T21:49:44.642Z",
    "type": "completion"
   },
   {
    "code": "expected = [4, 13, 22, 15]\nactual = round_complex_to_int(poly_multiply([1, 2, 3], [4, 5]))\nprint(\"expected: {}\".format(expected))\nprint(\"actual:   {}\".format(actual))",
    "id": "e77f4e708f4e4dcf8334ed34f03ee1fe",
    "idx": 22,
    "time": "2021-01-30T21:49:45.168Z",
    "type": "execution"
   },
   {
    "id": "e77f4e708f4e4dcf8334ed34f03ee1fe",
    "time": "2021-01-30T21:49:45.251Z",
    "type": "completion"
   },
   {
    "code": "def poly_multiply(coeffs1, coeffs2):\n    n = next_power_of_2((len(coeffs1) - 1) * (len(coeffs2) - 1)+1)\n    roots = calc_all_nth_roots(n)\n    f1 = FFT(coeffs1, roots)\n    print(f1)\n    f2 = FFT(coeffs2, roots)\n    res = [f1[i] * f2[i] for i in range(len(f1))]\n    return [x/2 for x in FFT(res, roots[::-1])]",
    "id": "d3951d20f8ed4797a4ceaff63d4d9141",
    "idx": 18,
    "time": "2021-01-30T21:50:34.882Z",
    "type": "execution"
   },
   {
    "id": "d3951d20f8ed4797a4ceaff63d4d9141",
    "time": "2021-01-30T21:50:34.944Z",
    "type": "completion"
   },
   {
    "code": "def round_complex_to_int(lst):\n    return [round(x.real) for x in lst]\n\ndef zero_pop(lst):\n    while lst[-1] == 0:\n        lst.pop()",
    "id": "1574e6f11bed4a05842c592f70aaf324",
    "idx": 20,
    "time": "2021-01-30T21:50:36.841Z",
    "type": "execution"
   },
   {
    "id": "1574e6f11bed4a05842c592f70aaf324",
    "time": "2021-01-30T21:50:36.901Z",
    "type": "completion"
   },
   {
    "code": "expected = [4, 13, 22, 15]\nactual = round_complex_to_int(poly_multiply([1, 2, 3], [4, 5]))\nprint(\"expected: {}\".format(expected))\nprint(\"actual:   {}\".format(actual))",
    "id": "e77f4e708f4e4dcf8334ed34f03ee1fe",
    "idx": 22,
    "time": "2021-01-30T21:50:37.538Z",
    "type": "execution"
   },
   {
    "id": "e77f4e708f4e4dcf8334ed34f03ee1fe",
    "time": "2021-01-30T21:50:37.604Z",
    "type": "completion"
   },
   {
    "code": "expected = [6, -2+2j, 2, -2-2j]\nactual = FFT([1, 2, 3], [1, 1j, -1, -1j])\nprint(\"expected: {}\".format(expected))\nprint(\"actual:   {}\".format(actual))",
    "id": "6cd5592d676b4c03a3b8ef5ce8e3072a",
    "idx": 9,
    "time": "2021-01-30T21:50:56.226Z",
    "type": "execution"
   },
   {
    "id": "6cd5592d676b4c03a3b8ef5ce8e3072a",
    "time": "2021-01-30T21:50:56.300Z",
    "type": "completion"
   },
   {
    "code": "not_expected = [6, 17, 34, 57]\nactual = FFT([1, 2, 3], [1, 2, 3, 4])\nprint(\"NOT expected: {}\".format(not_expected))\nprint(\"actual:       {}\".format(actual))",
    "id": "64e63aa80e15489db288833bf3eb8bff",
    "idx": 11,
    "time": "2021-01-30T21:50:57.321Z",
    "type": "execution"
   },
   {
    "id": "64e63aa80e15489db288833bf3eb8bff",
    "time": "2021-01-30T21:50:57.384Z",
    "type": "completion"
   },
   {
    "code": "def poly_multiply(coeffs1, coeffs2):\n    n = next_power_of_2((len(coeffs1) - 1) * (len(coeffs2) - 1)+1)\n    roots = calc_all_nth_roots(n)\n    f1 = FFT(coeffs1, roots)\n    f2 = FFT(coeffs2, roots)\n    print(f2)\n    res = [f1[i] * f2[i] for i in range(len(f1))]\n    return [x/2 for x in FFT(res, roots[::-1])]",
    "id": "d3951d20f8ed4797a4ceaff63d4d9141",
    "idx": 18,
    "time": "2021-01-30T21:51:44.074Z",
    "type": "execution"
   },
   {
    "id": "d3951d20f8ed4797a4ceaff63d4d9141",
    "time": "2021-01-30T21:51:44.138Z",
    "type": "completion"
   },
   {
    "code": "def round_complex_to_int(lst):\n    return [round(x.real) for x in lst]\n\ndef zero_pop(lst):\n    while lst[-1] == 0:\n        lst.pop()",
    "id": "1574e6f11bed4a05842c592f70aaf324",
    "idx": 20,
    "time": "2021-01-30T21:51:44.772Z",
    "type": "execution"
   },
   {
    "id": "1574e6f11bed4a05842c592f70aaf324",
    "time": "2021-01-30T21:51:44.852Z",
    "type": "completion"
   },
   {
    "code": "expected = [4, 13, 22, 15]\nactual = round_complex_to_int(poly_multiply([1, 2, 3], [4, 5]))\nprint(\"expected: {}\".format(expected))\nprint(\"actual:   {}\".format(actual))",
    "id": "e77f4e708f4e4dcf8334ed34f03ee1fe",
    "idx": 22,
    "time": "2021-01-30T21:51:45.560Z",
    "type": "execution"
   },
   {
    "id": "e77f4e708f4e4dcf8334ed34f03ee1fe",
    "time": "2021-01-30T21:51:45.620Z",
    "type": "completion"
   },
   {
    "code": "def poly_multiply(coeffs1, coeffs2):\n    n = next_power_of_2((len(coeffs1) - 1) * (len(coeffs2) - 1)+1)\n    roots = calc_all_nth_roots(n)\n    f1 = FFT(coeffs1, roots)\n    f2 = FFT(coeffs2, roots)\n    res = [f1[i] * f2[i] for i in range(len(f1))]\n    print(f1, f2, res)\n    return [x/2 for x in FFT(res, roots[::-1])]",
    "id": "d3951d20f8ed4797a4ceaff63d4d9141",
    "idx": 18,
    "time": "2021-01-30T21:52:14.911Z",
    "type": "execution"
   },
   {
    "id": "d3951d20f8ed4797a4ceaff63d4d9141",
    "time": "2021-01-30T21:52:15.019Z",
    "type": "completion"
   },
   {
    "code": "def round_complex_to_int(lst):\n    return [round(x.real) for x in lst]\n\ndef zero_pop(lst):\n    while lst[-1] == 0:\n        lst.pop()",
    "id": "1574e6f11bed4a05842c592f70aaf324",
    "idx": 20,
    "time": "2021-01-30T21:52:16.699Z",
    "type": "execution"
   },
   {
    "id": "1574e6f11bed4a05842c592f70aaf324",
    "time": "2021-01-30T21:52:16.759Z",
    "type": "completion"
   },
   {
    "code": "expected = [4, 13, 22, 15]\nactual = round_complex_to_int(poly_multiply([1, 2, 3], [4, 5]))\nprint(\"expected: {}\".format(expected))\nprint(\"actual:   {}\".format(actual))",
    "id": "e77f4e708f4e4dcf8334ed34f03ee1fe",
    "idx": 22,
    "time": "2021-01-30T21:52:17.397Z",
    "type": "execution"
   },
   {
    "id": "e77f4e708f4e4dcf8334ed34f03ee1fe",
    "time": "2021-01-30T21:52:17.459Z",
    "type": "completion"
   },
   {
    "code": "def poly_multiply(coeffs1, coeffs2):\n    n = next_power_of_2((len(coeffs1) - 1) * (len(coeffs2) - 1)+1)\n    roots = calc_all_nth_roots(n)\n    f1 = FFT(coeffs1, roots)\n    f2 = FFT(coeffs2, roots)\n    res = [f1[i] * f2[i] for i in range(len(f1))]\n    return [x/4 for x in FFT(res, roots[::-1])]",
    "id": "d3951d20f8ed4797a4ceaff63d4d9141",
    "idx": 18,
    "time": "2021-01-30T21:53:18.568Z",
    "type": "execution"
   },
   {
    "id": "d3951d20f8ed4797a4ceaff63d4d9141",
    "time": "2021-01-30T21:53:18.628Z",
    "type": "completion"
   },
   {
    "code": "def round_complex_to_int(lst):\n    return [round(x.real) for x in lst]\n\ndef zero_pop(lst):\n    while lst[-1] == 0:\n        lst.pop()",
    "id": "1574e6f11bed4a05842c592f70aaf324",
    "idx": 20,
    "time": "2021-01-30T21:53:19.107Z",
    "type": "execution"
   },
   {
    "id": "1574e6f11bed4a05842c592f70aaf324",
    "time": "2021-01-30T21:53:19.169Z",
    "type": "completion"
   },
   {
    "code": "expected = [4, 13, 22, 15]\nactual = round_complex_to_int(poly_multiply([1, 2, 3], [4, 5]))\nprint(\"expected: {}\".format(expected))\nprint(\"actual:   {}\".format(actual))",
    "id": "e77f4e708f4e4dcf8334ed34f03ee1fe",
    "idx": 22,
    "time": "2021-01-30T21:53:19.760Z",
    "type": "execution"
   },
   {
    "id": "e77f4e708f4e4dcf8334ed34f03ee1fe",
    "time": "2021-01-30T21:53:19.821Z",
    "type": "completion"
   },
   {
    "code": "def poly_multiply(coeffs1, coeffs2):\n    n = next_power_of_2((len(coeffs1) - 1) * (len(coeffs2) - 1)+1)\n    roots = calc_all_nth_roots(n)\n    f1 = FFT(coeffs1, roots)\n    f2 = FFT(coeffs2, roots)\n    res = [f1[i] * f2[i] for i in range(len(f1))]\n    return [x/n for x in FFT(res, roots[::-1])]",
    "id": "d3951d20f8ed4797a4ceaff63d4d9141",
    "idx": 18,
    "time": "2021-01-30T21:53:24.566Z",
    "type": "execution"
   },
   {
    "id": "d3951d20f8ed4797a4ceaff63d4d9141",
    "time": "2021-01-30T21:53:24.628Z",
    "type": "completion"
   },
   {
    "code": "def round_complex_to_int(lst):\n    return [round(x.real) for x in lst]\n\ndef zero_pop(lst):\n    while lst[-1] == 0:\n        lst.pop()",
    "id": "1574e6f11bed4a05842c592f70aaf324",
    "idx": 20,
    "time": "2021-01-30T21:53:25.093Z",
    "type": "execution"
   },
   {
    "id": "1574e6f11bed4a05842c592f70aaf324",
    "time": "2021-01-30T21:53:25.155Z",
    "type": "completion"
   },
   {
    "code": "expected = [4, 13, 22, 15]\nactual = round_complex_to_int(poly_multiply([1, 2, 3], [4, 5]))\nprint(\"expected: {}\".format(expected))\nprint(\"actual:   {}\".format(actual))",
    "id": "e77f4e708f4e4dcf8334ed34f03ee1fe",
    "idx": 22,
    "time": "2021-01-30T21:53:25.700Z",
    "type": "execution"
   },
   {
    "id": "e77f4e708f4e4dcf8334ed34f03ee1fe",
    "time": "2021-01-30T21:53:25.770Z",
    "type": "completion"
   },
   {
    "code": "expected = [4, 13, 28, 27, 18, 0, 0, 0]\nactual = round_complex_to_int(poly_multiply([1, 2, 3], [4, 5, 6]))\nprint(\"expected: {}\".format(expected))\nprint(\"actual:   {}\".format(actual))",
    "id": "a84b1f7f888c407c8cb90f816cd7a4fe",
    "idx": 23,
    "time": "2021-01-30T21:53:27.780Z",
    "type": "execution"
   },
   {
    "id": "a84b1f7f888c407c8cb90f816cd7a4fe",
    "time": "2021-01-30T21:53:27.845Z",
    "type": "completion"
   },
   {
    "code": "def poly_multiply(coeffs1, coeffs2):\n    n = next_power_of_2((len(coeffs1) - 1) * (len(coeffs2) - 1)+1)\n    roots = calc_all_nth_roots(n)\n    f1 = FFT(coeffs1, roots)\n    f2 = FFT(coeffs2, roots)\n    res = [f1[i] * f2[i] for i in range(len(f1))]\n    inverse_roots = roots[0] + roots[1::-1]\n    return [x/n for x in FFT(res, )]",
    "id": "d3951d20f8ed4797a4ceaff63d4d9141",
    "idx": 18,
    "time": "2021-01-30T21:54:15.636Z",
    "type": "execution"
   },
   {
    "id": "d3951d20f8ed4797a4ceaff63d4d9141",
    "time": "2021-01-30T21:54:15.705Z",
    "type": "completion"
   },
   {
    "code": "def round_complex_to_int(lst):\n    return [round(x.real) for x in lst]\n\ndef zero_pop(lst):\n    while lst[-1] == 0:\n        lst.pop()",
    "id": "1574e6f11bed4a05842c592f70aaf324",
    "idx": 20,
    "time": "2021-01-30T21:54:16.709Z",
    "type": "execution"
   },
   {
    "id": "1574e6f11bed4a05842c592f70aaf324",
    "time": "2021-01-30T21:54:16.777Z",
    "type": "completion"
   },
   {
    "code": "def poly_multiply(coeffs1, coeffs2):\n    n = next_power_of_2((len(coeffs1) - 1) * (len(coeffs2) - 1)+1)\n    roots = calc_all_nth_roots(n)\n    f1 = FFT(coeffs1, roots)\n    f2 = FFT(coeffs2, roots)\n    res = [f1[i] * f2[i] for i in range(len(f1))]\n    inverse_roots = roots[0] + roots[1::-1]\n    print(roots, inverse_roots)\n    return [x/n for x in FFT(res, inverse_roots)]",
    "id": "d3951d20f8ed4797a4ceaff63d4d9141",
    "idx": 18,
    "time": "2021-01-30T21:54:32.065Z",
    "type": "execution"
   },
   {
    "id": "d3951d20f8ed4797a4ceaff63d4d9141",
    "time": "2021-01-30T21:54:32.128Z",
    "type": "completion"
   },
   {
    "code": "def round_complex_to_int(lst):\n    return [round(x.real) for x in lst]\n\ndef zero_pop(lst):\n    while lst[-1] == 0:\n        lst.pop()",
    "id": "1574e6f11bed4a05842c592f70aaf324",
    "idx": 20,
    "time": "2021-01-30T21:54:32.503Z",
    "type": "execution"
   },
   {
    "id": "1574e6f11bed4a05842c592f70aaf324",
    "time": "2021-01-30T21:54:32.571Z",
    "type": "completion"
   },
   {
    "code": "expected = [4, 13, 22, 15]\nactual = round_complex_to_int(poly_multiply([1, 2, 3], [4, 5]))\nprint(\"expected: {}\".format(expected))\nprint(\"actual:   {}\".format(actual))",
    "id": "e77f4e708f4e4dcf8334ed34f03ee1fe",
    "idx": 22,
    "time": "2021-01-30T21:54:33.167Z",
    "type": "execution"
   },
   {
    "id": "e77f4e708f4e4dcf8334ed34f03ee1fe",
    "time": "2021-01-30T21:54:33.286Z",
    "type": "completion"
   },
   {
    "code": "def poly_multiply(coeffs1, coeffs2):\n    n = next_power_of_2((len(coeffs1) - 1) * (len(coeffs2) - 1)+1)\n    roots = calc_all_nth_roots(n)\n    f1 = FFT(coeffs1, roots)\n    f2 = FFT(coeffs2, roots)\n    res = [f1[i] * f2[i] for i in range(len(f1))]\n    inverse_roots = [roots[0]] + roots[1::-1]\n    print(roots, inverse_roots)\n    return [x/n for x in FFT(res, inverse_roots)]",
    "id": "d3951d20f8ed4797a4ceaff63d4d9141",
    "idx": 18,
    "time": "2021-01-30T21:54:40.720Z",
    "type": "execution"
   },
   {
    "id": "d3951d20f8ed4797a4ceaff63d4d9141",
    "time": "2021-01-30T21:54:40.786Z",
    "type": "completion"
   },
   {
    "code": "def round_complex_to_int(lst):\n    return [round(x.real) for x in lst]\n\ndef zero_pop(lst):\n    while lst[-1] == 0:\n        lst.pop()",
    "id": "1574e6f11bed4a05842c592f70aaf324",
    "idx": 20,
    "time": "2021-01-30T21:54:41.076Z",
    "type": "execution"
   },
   {
    "id": "1574e6f11bed4a05842c592f70aaf324",
    "time": "2021-01-30T21:54:41.147Z",
    "type": "completion"
   },
   {
    "code": "expected = [4, 13, 22, 15]\nactual = round_complex_to_int(poly_multiply([1, 2, 3], [4, 5]))\nprint(\"expected: {}\".format(expected))\nprint(\"actual:   {}\".format(actual))",
    "id": "e77f4e708f4e4dcf8334ed34f03ee1fe",
    "idx": 22,
    "time": "2021-01-30T21:54:41.774Z",
    "type": "execution"
   },
   {
    "id": "e77f4e708f4e4dcf8334ed34f03ee1fe",
    "time": "2021-01-30T21:54:41.838Z",
    "type": "completion"
   },
   {
    "code": "def poly_multiply(coeffs1, coeffs2):\n    n = next_power_of_2((len(coeffs1) - 1) * (len(coeffs2) - 1)+1)\n    roots = calc_all_nth_roots(n)\n    f1 = FFT(coeffs1, roots)\n    f2 = FFT(coeffs2, roots)\n    res = [f1[i] * f2[i] for i in range(len(f1))]\n    inverse_roots = roots[n//2:] + roots[:n//2]\n    return [x/n for x in FFT(res, inverse_roots)]",
    "id": "d3951d20f8ed4797a4ceaff63d4d9141",
    "idx": 18,
    "time": "2021-01-30T21:57:09.562Z",
    "type": "execution"
   },
   {
    "id": "d3951d20f8ed4797a4ceaff63d4d9141",
    "time": "2021-01-30T21:57:09.629Z",
    "type": "completion"
   },
   {
    "code": "def round_complex_to_int(lst):\n    return [round(x.real) for x in lst]\n\ndef zero_pop(lst):\n    while lst[-1] == 0:\n        lst.pop()",
    "id": "1574e6f11bed4a05842c592f70aaf324",
    "idx": 20,
    "time": "2021-01-30T21:57:10.156Z",
    "type": "execution"
   },
   {
    "id": "1574e6f11bed4a05842c592f70aaf324",
    "time": "2021-01-30T21:57:10.217Z",
    "type": "completion"
   },
   {
    "code": "expected = [4, 13, 22, 15]\nactual = round_complex_to_int(poly_multiply([1, 2, 3], [4, 5]))\nprint(\"expected: {}\".format(expected))\nprint(\"actual:   {}\".format(actual))",
    "id": "e77f4e708f4e4dcf8334ed34f03ee1fe",
    "idx": 22,
    "time": "2021-01-30T21:57:10.854Z",
    "type": "execution"
   },
   {
    "id": "e77f4e708f4e4dcf8334ed34f03ee1fe",
    "time": "2021-01-30T21:57:10.916Z",
    "type": "completion"
   },
   {
    "code": "def poly_multiply(coeffs1, coeffs2):\n    n = next_power_of_2((len(coeffs1) - 1) * (len(coeffs2) - 1)+1)\n    roots = calc_all_nth_roots(n)\n    f1 = FFT(coeffs1, roots)\n    f2 = FFT(coeffs2, roots)\n    res = [f1[i] * f2[i] for i in range(len(f1))]\n    inverse_roots = roots[n//2:] + roots[:n//2]\n    print(roots)\n    print(inverse_roots)\n    return [x/n for x in FFT(res, inverse_roots)]",
    "id": "d3951d20f8ed4797a4ceaff63d4d9141",
    "idx": 18,
    "time": "2021-01-30T21:57:25.809Z",
    "type": "execution"
   },
   {
    "id": "d3951d20f8ed4797a4ceaff63d4d9141",
    "time": "2021-01-30T21:57:25.871Z",
    "type": "completion"
   },
   {
    "code": "def round_complex_to_int(lst):\n    return [round(x.real) for x in lst]\n\ndef zero_pop(lst):\n    while lst[-1] == 0:\n        lst.pop()",
    "id": "1574e6f11bed4a05842c592f70aaf324",
    "idx": 20,
    "time": "2021-01-30T21:57:26.262Z",
    "type": "execution"
   },
   {
    "id": "1574e6f11bed4a05842c592f70aaf324",
    "time": "2021-01-30T21:57:26.335Z",
    "type": "completion"
   },
   {
    "code": "expected = [4, 13, 22, 15]\nactual = round_complex_to_int(poly_multiply([1, 2, 3], [4, 5]))\nprint(\"expected: {}\".format(expected))\nprint(\"actual:   {}\".format(actual))",
    "id": "e77f4e708f4e4dcf8334ed34f03ee1fe",
    "idx": 22,
    "time": "2021-01-30T21:57:26.784Z",
    "type": "execution"
   },
   {
    "id": "e77f4e708f4e4dcf8334ed34f03ee1fe",
    "time": "2021-01-30T21:57:26.848Z",
    "type": "completion"
   },
   {
    "code": "def poly_multiply(coeffs1, coeffs2):\n    n = next_power_of_2((len(coeffs1) - 1) * (len(coeffs2) - 1)+1)\n    roots = calc_all_nth_roots(n)\n    f1 = FFT(coeffs1, roots)\n    f2 = FFT(coeffs2, roots)\n    res = [f1[i] * f2[i] for i in range(len(f1))]\n    inverse_roots = roots[::-1]\n    print(roots)\n    print(inverse_roots)\n    return [x/n for x in FFT(res, inverse_roots)]",
    "id": "d3951d20f8ed4797a4ceaff63d4d9141",
    "idx": 18,
    "time": "2021-01-30T21:57:52.416Z",
    "type": "execution"
   },
   {
    "id": "d3951d20f8ed4797a4ceaff63d4d9141",
    "time": "2021-01-30T21:57:52.477Z",
    "type": "completion"
   },
   {
    "code": "def round_complex_to_int(lst):\n    return [round(x.real) for x in lst]\n\ndef zero_pop(lst):\n    while lst[-1] == 0:\n        lst.pop()",
    "id": "1574e6f11bed4a05842c592f70aaf324",
    "idx": 20,
    "time": "2021-01-30T21:57:52.963Z",
    "type": "execution"
   },
   {
    "id": "1574e6f11bed4a05842c592f70aaf324",
    "time": "2021-01-30T21:57:53.030Z",
    "type": "completion"
   },
   {
    "code": "expected = [4, 13, 22, 15]\nactual = round_complex_to_int(poly_multiply([1, 2, 3], [4, 5]))\nprint(\"expected: {}\".format(expected))\nprint(\"actual:   {}\".format(actual))",
    "id": "e77f4e708f4e4dcf8334ed34f03ee1fe",
    "idx": 22,
    "time": "2021-01-30T21:57:53.493Z",
    "type": "execution"
   },
   {
    "id": "e77f4e708f4e4dcf8334ed34f03ee1fe",
    "time": "2021-01-30T21:57:53.558Z",
    "type": "completion"
   },
   {
    "code": "def poly_multiply(coeffs1, coeffs2):\n    n = next_power_of_2((len(coeffs1) - 1) * (len(coeffs2) - 1)+1)\n    roots = calc_all_nth_roots(n)\n    f1 = FFT(coeffs1, roots)\n    f2 = FFT(coeffs2, roots)\n    res = [f1[i] * f2[i] for i in range(len(f1))]\n    inverse_roots = roots[::-1]\n    inverse_roots = roots[1:] + [roots[0]]\n    print(roots)\n    print(inverse_roots)\n    return [x/n for x in FFT(res, inverse_roots)]",
    "id": "d3951d20f8ed4797a4ceaff63d4d9141",
    "idx": 18,
    "time": "2021-01-30T21:58:34.465Z",
    "type": "execution"
   },
   {
    "id": "d3951d20f8ed4797a4ceaff63d4d9141",
    "time": "2021-01-30T21:58:34.543Z",
    "type": "completion"
   },
   {
    "code": "def round_complex_to_int(lst):\n    return [round(x.real) for x in lst]\n\ndef zero_pop(lst):\n    while lst[-1] == 0:\n        lst.pop()",
    "id": "1574e6f11bed4a05842c592f70aaf324",
    "idx": 20,
    "time": "2021-01-30T21:58:34.950Z",
    "type": "execution"
   },
   {
    "id": "1574e6f11bed4a05842c592f70aaf324",
    "time": "2021-01-30T21:58:35.017Z",
    "type": "completion"
   },
   {
    "code": "expected = [4, 13, 22, 15]\nactual = round_complex_to_int(poly_multiply([1, 2, 3], [4, 5]))\nprint(\"expected: {}\".format(expected))\nprint(\"actual:   {}\".format(actual))",
    "id": "e77f4e708f4e4dcf8334ed34f03ee1fe",
    "idx": 22,
    "time": "2021-01-30T21:58:35.569Z",
    "type": "execution"
   },
   {
    "id": "e77f4e708f4e4dcf8334ed34f03ee1fe",
    "time": "2021-01-30T21:58:35.631Z",
    "type": "completion"
   },
   {
    "code": "def poly_multiply(coeffs1, coeffs2):\n    n = next_power_of_2((len(coeffs1) - 1) * (len(coeffs2) - 1)+1)\n    roots = calc_all_nth_roots(n)\n    f1 = FFT(coeffs1, roots)\n    f2 = FFT(coeffs2, roots)\n    res = [f1[i] * f2[i] for i in range(len(f1))]\n    inverse_roots = roots[::-1]\n    inverse_roots = inverse_roots[1:] + [inverse_roots[0]]\n    print(roots)\n    print(inverse_roots)\n    return [x/n for x in FFT(res, inverse_roots)]",
    "id": "d3951d20f8ed4797a4ceaff63d4d9141",
    "idx": 18,
    "time": "2021-01-30T21:58:50.577Z",
    "type": "execution"
   },
   {
    "id": "d3951d20f8ed4797a4ceaff63d4d9141",
    "time": "2021-01-30T21:58:50.642Z",
    "type": "completion"
   },
   {
    "code": "def round_complex_to_int(lst):\n    return [round(x.real) for x in lst]\n\ndef zero_pop(lst):\n    while lst[-1] == 0:\n        lst.pop()",
    "id": "1574e6f11bed4a05842c592f70aaf324",
    "idx": 20,
    "time": "2021-01-30T21:58:50.947Z",
    "type": "execution"
   },
   {
    "id": "1574e6f11bed4a05842c592f70aaf324",
    "time": "2021-01-30T21:58:51.009Z",
    "type": "completion"
   },
   {
    "code": "expected = [4, 13, 22, 15]\nactual = round_complex_to_int(poly_multiply([1, 2, 3], [4, 5]))\nprint(\"expected: {}\".format(expected))\nprint(\"actual:   {}\".format(actual))",
    "id": "e77f4e708f4e4dcf8334ed34f03ee1fe",
    "idx": 22,
    "time": "2021-01-30T21:58:51.522Z",
    "type": "execution"
   },
   {
    "id": "e77f4e708f4e4dcf8334ed34f03ee1fe",
    "time": "2021-01-30T21:58:51.585Z",
    "type": "completion"
   },
   {
    "code": "def poly_multiply(coeffs1, coeffs2):\n    n = next_power_of_2((len(coeffs1) - 1) * (len(coeffs2) - 1)+1)\n    roots = calc_all_nth_roots(n)\n    f1 = FFT(coeffs1, roots)\n    f2 = FFT(coeffs2, roots)\n    res = [f1[i] * f2[i] for i in range(len(f1))]\n    inverse_roots = roots[::-1]\n    inverse_roots = inverse_roots[:-1] + [inverse_roots[-1]]\n    print(roots)\n    print(inverse_roots)\n    return [x/n for x in FFT(res, inverse_roots)]",
    "id": "d3951d20f8ed4797a4ceaff63d4d9141",
    "idx": 18,
    "time": "2021-01-30T21:59:03.784Z",
    "type": "execution"
   },
   {
    "id": "d3951d20f8ed4797a4ceaff63d4d9141",
    "time": "2021-01-30T21:59:03.855Z",
    "type": "completion"
   },
   {
    "code": "def round_complex_to_int(lst):\n    return [round(x.real) for x in lst]\n\ndef zero_pop(lst):\n    while lst[-1] == 0:\n        lst.pop()",
    "id": "1574e6f11bed4a05842c592f70aaf324",
    "idx": 20,
    "time": "2021-01-30T21:59:04.460Z",
    "type": "execution"
   },
   {
    "id": "1574e6f11bed4a05842c592f70aaf324",
    "time": "2021-01-30T21:59:04.523Z",
    "type": "completion"
   },
   {
    "code": "expected = [4, 13, 22, 15]\nactual = round_complex_to_int(poly_multiply([1, 2, 3], [4, 5]))\nprint(\"expected: {}\".format(expected))\nprint(\"actual:   {}\".format(actual))",
    "id": "e77f4e708f4e4dcf8334ed34f03ee1fe",
    "idx": 22,
    "time": "2021-01-30T21:59:04.898Z",
    "type": "execution"
   },
   {
    "id": "e77f4e708f4e4dcf8334ed34f03ee1fe",
    "time": "2021-01-30T21:59:04.957Z",
    "type": "completion"
   },
   {
    "code": "def poly_multiply(coeffs1, coeffs2):\n    n = next_power_of_2((len(coeffs1) - 1) * (len(coeffs2) - 1)+1)\n    roots = calc_all_nth_roots(n)\n    f1 = FFT(coeffs1, roots)\n    f2 = FFT(coeffs2, roots)\n    res = [f1[i] * f2[i] for i in range(len(f1))]\n    inverse_roots = roots[::-1]\n    inverse_roots = [inverse_roots[-1]] + inverse_roots[:-1]\n    print(roots)\n    print(inverse_roots)\n    return [x/n for x in FFT(res, inverse_roots)]",
    "id": "d3951d20f8ed4797a4ceaff63d4d9141",
    "idx": 18,
    "time": "2021-01-30T21:59:19.521Z",
    "type": "execution"
   },
   {
    "id": "d3951d20f8ed4797a4ceaff63d4d9141",
    "time": "2021-01-30T21:59:19.586Z",
    "type": "completion"
   },
   {
    "code": "def round_complex_to_int(lst):\n    return [round(x.real) for x in lst]\n\ndef zero_pop(lst):\n    while lst[-1] == 0:\n        lst.pop()",
    "id": "1574e6f11bed4a05842c592f70aaf324",
    "idx": 20,
    "time": "2021-01-30T21:59:20.047Z",
    "type": "execution"
   },
   {
    "id": "1574e6f11bed4a05842c592f70aaf324",
    "time": "2021-01-30T21:59:20.108Z",
    "type": "completion"
   },
   {
    "code": "expected = [4, 13, 22, 15]\nactual = round_complex_to_int(poly_multiply([1, 2, 3], [4, 5]))\nprint(\"expected: {}\".format(expected))\nprint(\"actual:   {}\".format(actual))",
    "id": "e77f4e708f4e4dcf8334ed34f03ee1fe",
    "idx": 22,
    "time": "2021-01-30T21:59:20.624Z",
    "type": "execution"
   },
   {
    "id": "e77f4e708f4e4dcf8334ed34f03ee1fe",
    "time": "2021-01-30T21:59:20.691Z",
    "type": "completion"
   },
   {
    "code": "def poly_multiply(coeffs1, coeffs2):\n    n = next_power_of_2((len(coeffs1) - 1) * (len(coeffs2) - 1)+1)\n    roots = calc_all_nth_roots(n)\n    f1 = FFT(coeffs1, roots)\n    f2 = FFT(coeffs2, roots)\n    res = [f1[i] * f2[i] for i in range(len(f1))]\n    inverse_roots = roots[::-1]\n    inverse_roots = [inverse_roots[-1]] + inverse_roots[:-1]\n    inverse_roots = [x**(-1) for x in roots]\n    print(roots)\n    print(inverse_roots)\n    return [x/n for x in FFT(res, inverse_roots)]",
    "id": "d3951d20f8ed4797a4ceaff63d4d9141",
    "idx": 18,
    "time": "2021-01-30T22:00:16.385Z",
    "type": "execution"
   },
   {
    "id": "d3951d20f8ed4797a4ceaff63d4d9141",
    "time": "2021-01-30T22:00:16.449Z",
    "type": "completion"
   },
   {
    "code": "def round_complex_to_int(lst):\n    return [round(x.real) for x in lst]\n\ndef zero_pop(lst):\n    while lst[-1] == 0:\n        lst.pop()",
    "id": "1574e6f11bed4a05842c592f70aaf324",
    "idx": 20,
    "time": "2021-01-30T22:00:16.946Z",
    "type": "execution"
   },
   {
    "id": "1574e6f11bed4a05842c592f70aaf324",
    "time": "2021-01-30T22:00:17.012Z",
    "type": "completion"
   },
   {
    "code": "expected = [4, 13, 22, 15]\nactual = round_complex_to_int(poly_multiply([1, 2, 3], [4, 5]))\nprint(\"expected: {}\".format(expected))\nprint(\"actual:   {}\".format(actual))",
    "id": "e77f4e708f4e4dcf8334ed34f03ee1fe",
    "idx": 22,
    "time": "2021-01-30T22:00:17.464Z",
    "type": "execution"
   },
   {
    "id": "e77f4e708f4e4dcf8334ed34f03ee1fe",
    "time": "2021-01-30T22:00:17.527Z",
    "type": "completion"
   },
   {
    "code": "def poly_multiply(coeffs1, coeffs2):\n    n = next_power_of_2((len(coeffs1) - 1) * (len(coeffs2) - 1)+1)\n    roots = calc_all_nth_roots(n)\n    f1 = FFT(coeffs1, roots)\n    f2 = FFT(coeffs2, roots)\n    res = [f1[i] * f2[i] for i in range(len(f1))]\n    inverse_roots = [x**(-1) for x in roots]\n    return [x/n for x in FFT(res, inverse_roots)]",
    "id": "d3951d20f8ed4797a4ceaff63d4d9141",
    "idx": 18,
    "time": "2021-01-30T22:00:30.898Z",
    "type": "execution"
   },
   {
    "id": "d3951d20f8ed4797a4ceaff63d4d9141",
    "time": "2021-01-30T22:00:30.960Z",
    "type": "completion"
   },
   {
    "code": "def round_complex_to_int(lst):\n    return [round(x.real) for x in lst]\n\ndef zero_pop(lst):\n    while lst[-1] == 0:\n        lst.pop()",
    "id": "1574e6f11bed4a05842c592f70aaf324",
    "idx": 20,
    "time": "2021-01-30T22:00:31.345Z",
    "type": "execution"
   },
   {
    "id": "1574e6f11bed4a05842c592f70aaf324",
    "time": "2021-01-30T22:00:31.415Z",
    "type": "completion"
   },
   {
    "code": "expected = [4, 13, 22, 15]\nactual = round_complex_to_int(poly_multiply([1, 2, 3], [4, 5]))\nprint(\"expected: {}\".format(expected))\nprint(\"actual:   {}\".format(actual))",
    "id": "e77f4e708f4e4dcf8334ed34f03ee1fe",
    "idx": 22,
    "time": "2021-01-30T22:00:31.976Z",
    "type": "execution"
   },
   {
    "id": "e77f4e708f4e4dcf8334ed34f03ee1fe",
    "time": "2021-01-30T22:00:32.037Z",
    "type": "completion"
   },
   {
    "code": "expected = [4, 13, 28, 27, 18, 0, 0, 0]\nactual = round_complex_to_int(poly_multiply([1, 2, 3], [4, 5, 6]))\nprint(\"expected: {}\".format(expected))\nprint(\"actual:   {}\".format(actual))",
    "id": "a84b1f7f888c407c8cb90f816cd7a4fe",
    "idx": 23,
    "time": "2021-01-30T22:00:32.414Z",
    "type": "execution"
   },
   {
    "id": "a84b1f7f888c407c8cb90f816cd7a4fe",
    "time": "2021-01-30T22:00:32.483Z",
    "type": "completion"
   },
   {
    "code": "result = poly_multiply([1, 2, 3], [4, 5, 6])\nresult",
    "id": "d8ec346e7c00470a885f48b0016e3157",
    "idx": 25,
    "time": "2021-01-30T22:02:47.847Z",
    "type": "execution"
   },
   {
    "id": "d8ec346e7c00470a885f48b0016e3157",
    "time": "2021-01-30T22:02:47.912Z",
    "type": "completion"
   },
   {
    "code": "result = round_complex_to_int(result)\nresult",
    "id": "9dd131071eee448ab7dfaf76693e8461",
    "idx": 27,
    "time": "2021-01-30T22:02:49.004Z",
    "type": "execution"
   },
   {
    "id": "9dd131071eee448ab7dfaf76693e8461",
    "time": "2021-01-30T22:02:49.066Z",
    "type": "completion"
   },
   {
    "code": "zero_pop(result)\nresult",
    "id": "7790e087670240878b40a9a1948f3cca",
    "idx": 29,
    "time": "2021-01-30T22:02:49.825Z",
    "type": "execution"
   },
   {
    "id": "7790e087670240878b40a9a1948f3cca",
    "time": "2021-01-30T22:02:49.886Z",
    "type": "completion"
   },
   {
    "code": "def poly_multiply_naive(coeffs1, coeffs2):\n    n1, n2 = len(coeffs1), len(coeffs2)\n    n = n1 + n2 - 1\n    prod_coeffs = [0] * n\n    for deg in range(n):\n        for i in range(max(0, deg + 1 - n2), min(n1, deg + 1)):\n            prod_coeffs[deg] += coeffs1[i] * coeffs2[deg - i]\n    return prod_coeffs",
    "id": "4373f173cf784f85802661c60df753d8",
    "idx": 33,
    "time": "2021-01-30T22:02:57.363Z",
    "type": "execution"
   },
   {
    "id": "4373f173cf784f85802661c60df753d8",
    "time": "2021-01-30T22:02:57.428Z",
    "type": "completion"
   },
   {
    "code": "def rand_ints(lo, hi, length):\n    ints = list(randint(lo, hi, length))\n    ints = [int(x) for x in ints]\n    return ints\n\ndef record(array, value, name):\n    array.append(value)\n    print(\"%s%f\" % (name, value))\n\nfft_times = []\nnaive_times = []\nspeed_ups = []\n\nfor i in range(5):\n    n = 10 ** i\n    print(\"\\nsize: %d\" % n)\n    poly1 = rand_ints(1, 100, n)\n    poly2 = rand_ints(1, 100, n)\n    time1 = time()\n    fft_res = poly_multiply(poly1, poly2)\n    fft_res = round_complex_to_int(fft_res)\n    zero_pop(fft_res)\n    time2 = time()\n    fft_time = time2 - time1\n    record(fft_times, fft_time, \"FFT time:   \")\n    naive_res = poly_multiply_naive(poly1, poly2)\n    time3 = time()\n    naive_time = time3 - time2\n    record(naive_times, naive_time, \"naive time: \")\n    assert fft_res == naive_res\n    speed_up = naive_time / fft_time\n    record(speed_ups, speed_up, \"speed up: \")\n\nplt.plot(fft_times, label=\"FFT\")\nplt.plot(naive_times, label=\"Naive\")\nplt.xlabel(\"Log Input Size\")\nplt.ylabel(\"Run Time (seconds)\")\nplt.legend(loc=\"upper left\")\nplt.title(\"Polynomial Multiplication Runtime\")\n\nplt.figure()\nplt.plot(speed_ups)\nplt.xlabel(\"Log Input Size\")\nplt.ylabel(\"Speedup\")\nplt.title(\"FFT Polynomial Multiplication Speedup\")",
    "id": "361d635bb180480fbca50927ae7a99c5",
    "idx": 35,
    "time": "2021-01-30T22:02:58.510Z",
    "type": "execution"
   },
   {
    "code": "def rand_ints(lo, hi, length):\n    ints = list(randint(lo, hi, length))\n    ints = [int(x) for x in ints]\n    return ints\n\ndef record(array, value, name):\n    array.append(value)\n    print(\"%s%f\" % (name, value))\n\nfft_times = []\nnaive_times = []\nspeed_ups = []\n\nfor i in range(5):\n    n = 10 ** i\n    print(\"\\nsize: %d\" % n)\n    poly1 = rand_ints(1, 100, n)\n    poly2 = rand_ints(1, 100, n)\n    time1 = time()\n    fft_res = poly_multiply(poly1, poly2)\n    fft_res = round_complex_to_int(fft_res)\n    zero_pop(fft_res)\n    time2 = time()\n    fft_time = time2 - time1\n    record(fft_times, fft_time, \"FFT time:   \")\n    naive_res = poly_multiply_naive(poly1, poly2)\n    time3 = time()\n    naive_time = time3 - time2\n    record(naive_times, naive_time, \"naive time: \")\n    assert fft_res == naive_res\n    speed_up = naive_time / fft_time\n    record(speed_ups, speed_up, \"speed up: \")\n\nplt.plot(fft_times, label=\"FFT\")\nplt.plot(naive_times, label=\"Naive\")\nplt.xlabel(\"Log Input Size\")\nplt.ylabel(\"Run Time (seconds)\")\nplt.legend(loc=\"upper left\")\nplt.title(\"Polynomial Multiplication Runtime\")\n\nplt.figure()\nplt.plot(speed_ups)\nplt.xlabel(\"Log Input Size\")\nplt.ylabel(\"Speedup\")\nplt.title(\"FFT Polynomial Multiplication Speedup\")",
    "id": "361d635bb180480fbca50927ae7a99c5",
    "idx": 35,
    "time": "2021-01-30T22:03:29.266Z",
    "type": "execution"
   },
   {
    "id": "361d635bb180480fbca50927ae7a99c5",
    "time": "2021-01-30T22:03:29.424Z",
    "type": "completion"
   },
   {
    "id": "361d635bb180480fbca50927ae7a99c5",
    "time": "2021-01-30T22:03:29.424Z",
    "type": "completion"
   },
   {
    "code": "import math\nimport cmath\nfrom numpy.random import randint\nfrom time import time\nimport matplotlib.pyplot as plt",
    "id": "b37da62e56824c9995fd675a95f386de",
    "idx": 1,
    "time": "2021-01-30T22:03:36.884Z",
    "type": "execution"
   },
   {
    "code": "def FFT(coeffs, roots):\n    ### YOUR SOLUTION HERE ###\n    if len(coeffs) == 0:\n        return [0]*len(roots)\n    elif len(roots) == 1:\n        return coeffs\n    evens = FFT(coeffs[::2], roots[::2])\n    odds = FFT(coeffs[1::2], roots[::2])\n    return [evens[i] + roots[i] * odds[i] for i in range(len(roots)//2)] + [evens[i] - roots[i] * odds[i] for i in range(len(roots)//2)]\n    \n    ",
    "id": "8ec76e2f0244489bab0c9e0ec0e2f200",
    "idx": 6,
    "time": "2021-01-30T22:03:36.888Z",
    "type": "execution"
   },
   {
    "code": "expected = [6, -2+2j, 2, -2-2j]\nactual = FFT([1, 2, 3], [1, 1j, -1, -1j])\nprint(\"expected: {}\".format(expected))\nprint(\"actual:   {}\".format(actual))",
    "id": "6cd5592d676b4c03a3b8ef5ce8e3072a",
    "idx": 9,
    "time": "2021-01-30T22:03:36.892Z",
    "type": "execution"
   },
   {
    "code": "not_expected = [6, 17, 34, 57]\nactual = FFT([1, 2, 3], [1, 2, 3, 4])\nprint(\"NOT expected: {}\".format(not_expected))\nprint(\"actual:       {}\".format(actual))",
    "id": "64e63aa80e15489db288833bf3eb8bff",
    "idx": 11,
    "time": "2021-01-30T22:03:36.894Z",
    "type": "execution"
   },
   {
    "code": "def next_power_of_2(k):\n    ret = 1\n    while ret < k:\n        ret *= 2\n    return ret\n\n# note that the sine function is math.sin(x) and the cosine function is math.cos(x)\ndef calc_nth_root(n):\n    theta_n = 2 * math.pi / n\n    a = math.cos(theta_n)\n    b = math.sin(theta_n)\n    return a + b * 1j\n\ndef calc_all_nth_roots(n):\n    root = calc_nth_root(n)\n    return [root**k for k in range(n)] \n",
    "id": "3778ba572d144362904abd00d0735229",
    "idx": 14,
    "time": "2021-01-30T22:03:36.898Z",
    "type": "execution"
   },
   {
    "code": "N = 16 # feel free to change this value and observe what happens\nroots = calc_all_nth_roots(N)\n\n# Plot\nf,ax = plt.subplots()\nf.set_figwidth(4)\nf.set_figheight(4)\nplt.scatter([r.real for r in roots], [r.imag for r in roots]) \nax.spines['left'].set_position('zero')\nax.spines['right'].set_color('none')\nax.yaxis.tick_left()\nax.spines['bottom'].set_position('zero')\nax.spines['top'].set_color('none')\nax.set_xlim([-1.2,1.2])\nax.set_ylim([-1.2,1.2])\nax.set_xticks([-1, -0.5, 0.5, 1])\nax.set_yticks([-1, -0.5, 0.5, 1])\nax.xaxis.tick_bottom()\nplt.show() ",
    "id": "6adb47981b704d5b86d28c97404ebb5d",
    "idx": 16,
    "time": "2021-01-30T22:03:36.900Z",
    "type": "execution"
   },
   {
    "code": "def poly_multiply(coeffs1, coeffs2):\n    n = next_power_of_2((len(coeffs1) - 1) * (len(coeffs2) - 1)+1)\n    roots = calc_all_nth_roots(n)\n    f1 = FFT(coeffs1, roots)\n    f2 = FFT(coeffs2, roots)\n    res = [f1[i] * f2[i] for i in range(len(f1))]\n    inverse_roots = [x**(-1) for x in roots]\n    return [x/n for x in FFT(res, inverse_roots)]",
    "id": "d3951d20f8ed4797a4ceaff63d4d9141",
    "idx": 18,
    "time": "2021-01-30T22:03:36.902Z",
    "type": "execution"
   },
   {
    "code": "def round_complex_to_int(lst):\n    return [round(x.real) for x in lst]\n\ndef zero_pop(lst):\n    while lst[-1] == 0:\n        lst.pop()",
    "id": "1574e6f11bed4a05842c592f70aaf324",
    "idx": 20,
    "time": "2021-01-30T22:03:36.904Z",
    "type": "execution"
   },
   {
    "code": "expected = [4, 13, 22, 15]\nactual = round_complex_to_int(poly_multiply([1, 2, 3], [4, 5]))\nprint(\"expected: {}\".format(expected))\nprint(\"actual:   {}\".format(actual))",
    "id": "e77f4e708f4e4dcf8334ed34f03ee1fe",
    "idx": 22,
    "time": "2021-01-30T22:03:36.906Z",
    "type": "execution"
   },
   {
    "code": "expected = [4, 13, 28, 27, 18, 0, 0, 0]\nactual = round_complex_to_int(poly_multiply([1, 2, 3], [4, 5, 6]))\nprint(\"expected: {}\".format(expected))\nprint(\"actual:   {}\".format(actual))",
    "id": "a84b1f7f888c407c8cb90f816cd7a4fe",
    "idx": 23,
    "time": "2021-01-30T22:03:36.907Z",
    "type": "execution"
   },
   {
    "code": "result = poly_multiply([1, 2, 3], [4, 5, 6])\nresult",
    "id": "d8ec346e7c00470a885f48b0016e3157",
    "idx": 25,
    "time": "2021-01-30T22:03:36.909Z",
    "type": "execution"
   },
   {
    "code": "result = round_complex_to_int(result)\nresult",
    "id": "9dd131071eee448ab7dfaf76693e8461",
    "idx": 27,
    "time": "2021-01-30T22:03:36.911Z",
    "type": "execution"
   },
   {
    "code": "zero_pop(result)\nresult",
    "id": "7790e087670240878b40a9a1948f3cca",
    "idx": 29,
    "time": "2021-01-30T22:03:36.913Z",
    "type": "execution"
   },
   {
    "code": "def poly_multiply_naive(coeffs1, coeffs2):\n    n1, n2 = len(coeffs1), len(coeffs2)\n    n = n1 + n2 - 1\n    prod_coeffs = [0] * n\n    for deg in range(n):\n        for i in range(max(0, deg + 1 - n2), min(n1, deg + 1)):\n            prod_coeffs[deg] += coeffs1[i] * coeffs2[deg - i]\n    return prod_coeffs",
    "id": "4373f173cf784f85802661c60df753d8",
    "idx": 33,
    "time": "2021-01-30T22:03:36.915Z",
    "type": "execution"
   },
   {
    "id": "b37da62e56824c9995fd675a95f386de",
    "time": "2021-01-30T22:03:37.309Z",
    "type": "completion"
   },
   {
    "id": "8ec76e2f0244489bab0c9e0ec0e2f200",
    "time": "2021-01-30T22:03:37.314Z",
    "type": "completion"
   },
   {
    "id": "6cd5592d676b4c03a3b8ef5ce8e3072a",
    "time": "2021-01-30T22:03:37.320Z",
    "type": "completion"
   },
   {
    "id": "64e63aa80e15489db288833bf3eb8bff",
    "time": "2021-01-30T22:03:37.367Z",
    "type": "completion"
   },
   {
    "id": "3778ba572d144362904abd00d0735229",
    "time": "2021-01-30T22:03:37.370Z",
    "type": "completion"
   },
   {
    "id": "6adb47981b704d5b86d28c97404ebb5d",
    "time": "2021-01-30T22:03:37.487Z",
    "type": "completion"
   },
   {
    "id": "d3951d20f8ed4797a4ceaff63d4d9141",
    "time": "2021-01-30T22:03:37.489Z",
    "type": "completion"
   },
   {
    "id": "1574e6f11bed4a05842c592f70aaf324",
    "time": "2021-01-30T22:03:37.513Z",
    "type": "completion"
   },
   {
    "id": "e77f4e708f4e4dcf8334ed34f03ee1fe",
    "time": "2021-01-30T22:03:37.515Z",
    "type": "completion"
   },
   {
    "id": "a84b1f7f888c407c8cb90f816cd7a4fe",
    "time": "2021-01-30T22:03:37.516Z",
    "type": "completion"
   },
   {
    "id": "d8ec346e7c00470a885f48b0016e3157",
    "time": "2021-01-30T22:03:37.518Z",
    "type": "completion"
   },
   {
    "id": "9dd131071eee448ab7dfaf76693e8461",
    "time": "2021-01-30T22:03:37.522Z",
    "type": "completion"
   },
   {
    "id": "7790e087670240878b40a9a1948f3cca",
    "time": "2021-01-30T22:03:37.559Z",
    "type": "completion"
   },
   {
    "id": "4373f173cf784f85802661c60df753d8",
    "time": "2021-01-30T22:03:37.560Z",
    "type": "completion"
   },
   {
    "code": "def rand_ints(lo, hi, length):\n    ints = list(randint(lo, hi, length))\n    ints = [int(x) for x in ints]\n    return ints\n\ndef record(array, value, name):\n    array.append(value)\n    print(\"%s%f\" % (name, value))\n\nfft_times = []\nnaive_times = []\nspeed_ups = []\n\nfor i in range(5):\n    n = 10 ** i\n    print(\"\\nsize: %d\" % n)\n    poly1 = rand_ints(1, 100, n)\n    poly2 = rand_ints(1, 100, n)\n    time1 = time()\n    fft_res = poly_multiply(poly1, poly2)\n    fft_res = round_complex_to_int(fft_res)\n    zero_pop(fft_res)\n    time2 = time()\n    fft_time = time2 - time1\n    record(fft_times, fft_time, \"FFT time:   \")\n    naive_res = poly_multiply_naive(poly1, poly2)\n    time3 = time()\n    naive_time = time3 - time2\n    record(naive_times, naive_time, \"naive time: \")\n    assert fft_res == naive_res\n    speed_up = naive_time / fft_time\n    record(speed_ups, speed_up, \"speed up: \")\n\nplt.plot(fft_times, label=\"FFT\")\nplt.plot(naive_times, label=\"Naive\")\nplt.xlabel(\"Log Input Size\")\nplt.ylabel(\"Run Time (seconds)\")\nplt.legend(loc=\"upper left\")\nplt.title(\"Polynomial Multiplication Runtime\")\n\nplt.figure()\nplt.plot(speed_ups)\nplt.xlabel(\"Log Input Size\")\nplt.ylabel(\"Speedup\")\nplt.title(\"FFT Polynomial Multiplication Speedup\")",
    "id": "361d635bb180480fbca50927ae7a99c5",
    "idx": 35,
    "time": "2021-01-30T22:03:41.391Z",
    "type": "execution"
   },
   {
    "code": "import math\nimport cmath\nfrom numpy.random import randint\nfrom time import time\nimport matplotlib.pyplot as plt",
    "id": "b37da62e56824c9995fd675a95f386de",
    "idx": 1,
    "time": "2021-01-30T22:05:25.437Z",
    "type": "execution"
   },
   {
    "code": "def FFT(coeffs, roots):\n    ### YOUR SOLUTION HERE ###\n    if len(coeffs) == 0:\n        return [0]*len(roots)\n    elif len(roots) == 1:\n        return coeffs\n    evens = FFT(coeffs[::2], roots[::2])\n    odds = FFT(coeffs[1::2], roots[::2])\n    return [evens[i] + roots[i] * odds[i] for i in range(len(roots)//2)] + [evens[i] - roots[i] * odds[i] for i in range(len(roots)//2)]\n    \n    ",
    "id": "8ec76e2f0244489bab0c9e0ec0e2f200",
    "idx": 6,
    "time": "2021-01-30T22:05:25.443Z",
    "type": "execution"
   },
   {
    "code": "expected = [6, -2+2j, 2, -2-2j]\nactual = FFT([1, 2, 3], [1, 1j, -1, -1j])\nprint(\"expected: {}\".format(expected))\nprint(\"actual:   {}\".format(actual))",
    "id": "6cd5592d676b4c03a3b8ef5ce8e3072a",
    "idx": 9,
    "time": "2021-01-30T22:05:25.446Z",
    "type": "execution"
   },
   {
    "code": "not_expected = [6, 17, 34, 57]\nactual = FFT([1, 2, 3], [1, 2, 3, 4])\nprint(\"NOT expected: {}\".format(not_expected))\nprint(\"actual:       {}\".format(actual))",
    "id": "64e63aa80e15489db288833bf3eb8bff",
    "idx": 11,
    "time": "2021-01-30T22:05:25.448Z",
    "type": "execution"
   },
   {
    "code": "def next_power_of_2(k):\n    ret = 1\n    while ret < k:\n        ret *= 2\n    return ret\n\n# note that the sine function is math.sin(x) and the cosine function is math.cos(x)\ndef calc_nth_root(n):\n    theta_n = 2 * math.pi / n\n    a = math.cos(theta_n)\n    b = math.sin(theta_n)\n    return a + b * 1j\n\ndef calc_all_nth_roots(n):\n    root = calc_nth_root(n)\n    return [root**k for k in range(n)] \n",
    "id": "3778ba572d144362904abd00d0735229",
    "idx": 14,
    "time": "2021-01-30T22:05:25.450Z",
    "type": "execution"
   },
   {
    "code": "N = 16 # feel free to change this value and observe what happens\nroots = calc_all_nth_roots(N)\n\n# Plot\nf,ax = plt.subplots()\nf.set_figwidth(4)\nf.set_figheight(4)\nplt.scatter([r.real for r in roots], [r.imag for r in roots]) \nax.spines['left'].set_position('zero')\nax.spines['right'].set_color('none')\nax.yaxis.tick_left()\nax.spines['bottom'].set_position('zero')\nax.spines['top'].set_color('none')\nax.set_xlim([-1.2,1.2])\nax.set_ylim([-1.2,1.2])\nax.set_xticks([-1, -0.5, 0.5, 1])\nax.set_yticks([-1, -0.5, 0.5, 1])\nax.xaxis.tick_bottom()\nplt.show() ",
    "id": "6adb47981b704d5b86d28c97404ebb5d",
    "idx": 16,
    "time": "2021-01-30T22:05:25.452Z",
    "type": "execution"
   },
   {
    "code": "def poly_multiply(coeffs1, coeffs2):\n    n = next_power_of_2((len(coeffs1) - 1) * (len(coeffs2) - 1)+1)\n    roots = calc_all_nth_roots(n)\n    f1 = FFT(coeffs1, roots)\n    f2 = FFT(coeffs2, roots)\n    res = [f1[i] * f2[i] for i in range(len(f1))]\n    inverse_roots = [x**(-1) for x in roots]\n    return [x/n for x in FFT(res, inverse_roots)]",
    "id": "d3951d20f8ed4797a4ceaff63d4d9141",
    "idx": 18,
    "time": "2021-01-30T22:05:25.454Z",
    "type": "execution"
   },
   {
    "code": "def round_complex_to_int(lst):\n    return [round(x.real) for x in lst]\n\ndef zero_pop(lst):\n    while lst[-1] == 0:\n        lst.pop()",
    "id": "1574e6f11bed4a05842c592f70aaf324",
    "idx": 20,
    "time": "2021-01-30T22:05:25.455Z",
    "type": "execution"
   },
   {
    "code": "expected = [4, 13, 22, 15]\nactual = round_complex_to_int(poly_multiply([1, 2, 3], [4, 5]))\nprint(\"expected: {}\".format(expected))\nprint(\"actual:   {}\".format(actual))",
    "id": "e77f4e708f4e4dcf8334ed34f03ee1fe",
    "idx": 22,
    "time": "2021-01-30T22:05:25.457Z",
    "type": "execution"
   },
   {
    "code": "expected = [4, 13, 28, 27, 18, 0, 0, 0]\nactual = round_complex_to_int(poly_multiply([1, 2, 3], [4, 5, 6]))\nprint(\"expected: {}\".format(expected))\nprint(\"actual:   {}\".format(actual))",
    "id": "a84b1f7f888c407c8cb90f816cd7a4fe",
    "idx": 23,
    "time": "2021-01-30T22:05:25.459Z",
    "type": "execution"
   },
   {
    "code": "result = poly_multiply([1, 2, 3], [4, 5, 6])\nresult",
    "id": "d8ec346e7c00470a885f48b0016e3157",
    "idx": 25,
    "time": "2021-01-30T22:05:25.461Z",
    "type": "execution"
   },
   {
    "code": "result = round_complex_to_int(result)\nresult",
    "id": "9dd131071eee448ab7dfaf76693e8461",
    "idx": 27,
    "time": "2021-01-30T22:05:25.463Z",
    "type": "execution"
   },
   {
    "code": "zero_pop(result)\nresult",
    "id": "7790e087670240878b40a9a1948f3cca",
    "idx": 29,
    "time": "2021-01-30T22:05:25.465Z",
    "type": "execution"
   },
   {
    "code": "def poly_multiply_naive(coeffs1, coeffs2):\n    n1, n2 = len(coeffs1), len(coeffs2)\n    n = n1 + n2 - 1\n    prod_coeffs = [0] * n\n    for deg in range(n):\n        for i in range(max(0, deg + 1 - n2), min(n1, deg + 1)):\n            prod_coeffs[deg] += coeffs1[i] * coeffs2[deg - i]\n    return prod_coeffs",
    "id": "4373f173cf784f85802661c60df753d8",
    "idx": 33,
    "time": "2021-01-30T22:05:25.468Z",
    "type": "execution"
   },
   {
    "code": "def rand_ints(lo, hi, length):\n    ints = list(randint(lo, hi, length))\n    ints = [int(x) for x in ints]\n    return ints\n\ndef record(array, value, name):\n    array.append(value)\n    print(\"%s%f\" % (name, value))\n\nfft_times = []\nnaive_times = []\nspeed_ups = []\n\nfor i in range(5):\n    n = 10 ** i\n    print(\"\\nsize: %d\" % n)\n    poly1 = rand_ints(1, 100, n)\n    poly2 = rand_ints(1, 100, n)\n    time1 = time()\n    fft_res = poly_multiply(poly1, poly2)\n    fft_res = round_complex_to_int(fft_res)\n    zero_pop(fft_res)\n    time2 = time()\n    fft_time = time2 - time1\n    record(fft_times, fft_time, \"FFT time:   \")\n    naive_res = poly_multiply_naive(poly1, poly2)\n    time3 = time()\n    naive_time = time3 - time2\n    record(naive_times, naive_time, \"naive time: \")\n    assert fft_res == naive_res\n    speed_up = naive_time / fft_time\n    record(speed_ups, speed_up, \"speed up: \")\n\nplt.plot(fft_times, label=\"FFT\")\nplt.plot(naive_times, label=\"Naive\")\nplt.xlabel(\"Log Input Size\")\nplt.ylabel(\"Run Time (seconds)\")\nplt.legend(loc=\"upper left\")\nplt.title(\"Polynomial Multiplication Runtime\")\n\nplt.figure()\nplt.plot(speed_ups)\nplt.xlabel(\"Log Input Size\")\nplt.ylabel(\"Speedup\")\nplt.title(\"FFT Polynomial Multiplication Speedup\")",
    "id": "361d635bb180480fbca50927ae7a99c5",
    "idx": 35,
    "time": "2021-01-30T22:05:25.469Z",
    "type": "execution"
   },
   {
    "id": "b37da62e56824c9995fd675a95f386de",
    "time": "2021-01-30T22:05:25.877Z",
    "type": "completion"
   },
   {
    "id": "8ec76e2f0244489bab0c9e0ec0e2f200",
    "time": "2021-01-30T22:05:25.894Z",
    "type": "completion"
   },
   {
    "id": "6cd5592d676b4c03a3b8ef5ce8e3072a",
    "time": "2021-01-30T22:05:25.897Z",
    "type": "completion"
   },
   {
    "id": "64e63aa80e15489db288833bf3eb8bff",
    "time": "2021-01-30T22:05:25.930Z",
    "type": "completion"
   },
   {
    "id": "3778ba572d144362904abd00d0735229",
    "time": "2021-01-30T22:05:25.931Z",
    "type": "completion"
   },
   {
    "id": "6adb47981b704d5b86d28c97404ebb5d",
    "time": "2021-01-30T22:05:26.031Z",
    "type": "completion"
   },
   {
    "id": "d3951d20f8ed4797a4ceaff63d4d9141",
    "time": "2021-01-30T22:05:26.032Z",
    "type": "completion"
   },
   {
    "id": "1574e6f11bed4a05842c592f70aaf324",
    "time": "2021-01-30T22:05:26.034Z",
    "type": "completion"
   },
   {
    "id": "e77f4e708f4e4dcf8334ed34f03ee1fe",
    "time": "2021-01-30T22:05:26.066Z",
    "type": "completion"
   },
   {
    "id": "a84b1f7f888c407c8cb90f816cd7a4fe",
    "time": "2021-01-30T22:05:26.067Z",
    "type": "completion"
   },
   {
    "id": "d8ec346e7c00470a885f48b0016e3157",
    "time": "2021-01-30T22:05:26.072Z",
    "type": "completion"
   },
   {
    "id": "9dd131071eee448ab7dfaf76693e8461",
    "time": "2021-01-30T22:05:26.074Z",
    "type": "completion"
   },
   {
    "id": "7790e087670240878b40a9a1948f3cca",
    "time": "2021-01-30T22:05:26.082Z",
    "type": "completion"
   },
   {
    "id": "4373f173cf784f85802661c60df753d8",
    "time": "2021-01-30T22:05:26.120Z",
    "type": "completion"
   },
   {
    "code": "import math\nimport cmath\nfrom numpy.random import randint\nfrom time import time\nimport matplotlib.pyplot as plt",
    "id": "b37da62e56824c9995fd675a95f386de",
    "idx": 1,
    "time": "2021-01-30T22:06:01.765Z",
    "type": "execution"
   },
   {
    "code": "def FFT(coeffs, roots):\n    ### YOUR SOLUTION HERE ###\n    if len(coeffs) == 0:\n        return [0]*len(roots)\n    elif len(roots) == 1:\n        return coeffs\n    evens = FFT(coeffs[::2], roots[::2])\n    odds = FFT(coeffs[1::2], roots[::2])\n    return [evens[i] + roots[i] * odds[i] for i in range(len(roots)//2)] + [evens[i] - roots[i] * odds[i] for i in range(len(roots)//2)]\n    \n    ",
    "id": "8ec76e2f0244489bab0c9e0ec0e2f200",
    "idx": 6,
    "time": "2021-01-30T22:06:01.769Z",
    "type": "execution"
   },
   {
    "code": "expected = [6, -2+2j, 2, -2-2j]\nactual = FFT([1, 2, 3], [1, 1j, -1, -1j])\nprint(\"expected: {}\".format(expected))\nprint(\"actual:   {}\".format(actual))",
    "id": "6cd5592d676b4c03a3b8ef5ce8e3072a",
    "idx": 9,
    "time": "2021-01-30T22:06:01.772Z",
    "type": "execution"
   },
   {
    "code": "not_expected = [6, 17, 34, 57]\nactual = FFT([1, 2, 3], [1, 2, 3, 4])\nprint(\"NOT expected: {}\".format(not_expected))\nprint(\"actual:       {}\".format(actual))",
    "id": "64e63aa80e15489db288833bf3eb8bff",
    "idx": 11,
    "time": "2021-01-30T22:06:01.774Z",
    "type": "execution"
   },
   {
    "code": "def next_power_of_2(k):\n    ret = 1\n    while ret < k:\n        ret *= 2\n    return ret\n\n# note that the sine function is math.sin(x) and the cosine function is math.cos(x)\ndef calc_nth_root(n):\n    theta_n = 2 * math.pi / n\n    a = math.cos(theta_n)\n    b = math.sin(theta_n)\n    return a + b * 1j\n\ndef calc_all_nth_roots(n):\n    root = calc_nth_root(n)\n    return [root**k for k in range(n)] \n",
    "id": "3778ba572d144362904abd00d0735229",
    "idx": 14,
    "time": "2021-01-30T22:06:01.776Z",
    "type": "execution"
   },
   {
    "code": "N = 16 # feel free to change this value and observe what happens\nroots = calc_all_nth_roots(N)\n\n# Plot\nf,ax = plt.subplots()\nf.set_figwidth(4)\nf.set_figheight(4)\nplt.scatter([r.real for r in roots], [r.imag for r in roots]) \nax.spines['left'].set_position('zero')\nax.spines['right'].set_color('none')\nax.yaxis.tick_left()\nax.spines['bottom'].set_position('zero')\nax.spines['top'].set_color('none')\nax.set_xlim([-1.2,1.2])\nax.set_ylim([-1.2,1.2])\nax.set_xticks([-1, -0.5, 0.5, 1])\nax.set_yticks([-1, -0.5, 0.5, 1])\nax.xaxis.tick_bottom()\nplt.show() ",
    "id": "6adb47981b704d5b86d28c97404ebb5d",
    "idx": 16,
    "time": "2021-01-30T22:06:01.778Z",
    "type": "execution"
   },
   {
    "code": "def poly_multiply(coeffs1, coeffs2):\n    n = next_power_of_2((len(coeffs1) - 1) * (len(coeffs2) - 1)+1)\n    roots = calc_all_nth_roots(n)\n    f1 = FFT(coeffs1, roots)\n    f2 = FFT(coeffs2, roots)\n    res = [f1[i] * f2[i] for i in range(len(f1))]\n    inverse_roots = [x**(-1) for x in roots]\n    return [x/n for x in FFT(res, inverse_roots)]",
    "id": "d3951d20f8ed4797a4ceaff63d4d9141",
    "idx": 18,
    "time": "2021-01-30T22:06:01.779Z",
    "type": "execution"
   },
   {
    "code": "def round_complex_to_int(lst):\n    return [round(x.real) for x in lst]\n\ndef zero_pop(lst):\n    while lst[-1] == 0:\n        lst.pop()",
    "id": "1574e6f11bed4a05842c592f70aaf324",
    "idx": 20,
    "time": "2021-01-30T22:06:01.780Z",
    "type": "execution"
   },
   {
    "code": "expected = [4, 13, 22, 15]\nactual = round_complex_to_int(poly_multiply([1, 2, 3], [4, 5]))\nprint(\"expected: {}\".format(expected))\nprint(\"actual:   {}\".format(actual))",
    "id": "e77f4e708f4e4dcf8334ed34f03ee1fe",
    "idx": 22,
    "time": "2021-01-30T22:06:01.782Z",
    "type": "execution"
   },
   {
    "code": "expected = [4, 13, 28, 27, 18, 0, 0, 0]\nactual = round_complex_to_int(poly_multiply([1, 2, 3], [4, 5, 6]))\nprint(\"expected: {}\".format(expected))\nprint(\"actual:   {}\".format(actual))",
    "id": "a84b1f7f888c407c8cb90f816cd7a4fe",
    "idx": 23,
    "time": "2021-01-30T22:06:01.783Z",
    "type": "execution"
   },
   {
    "code": "result = poly_multiply([1, 2, 3], [4, 5, 6])\nresult",
    "id": "d8ec346e7c00470a885f48b0016e3157",
    "idx": 25,
    "time": "2021-01-30T22:06:01.785Z",
    "type": "execution"
   },
   {
    "code": "result = round_complex_to_int(result)\nresult",
    "id": "9dd131071eee448ab7dfaf76693e8461",
    "idx": 27,
    "time": "2021-01-30T22:06:01.787Z",
    "type": "execution"
   },
   {
    "code": "zero_pop(result)\nresult",
    "id": "7790e087670240878b40a9a1948f3cca",
    "idx": 29,
    "time": "2021-01-30T22:06:01.788Z",
    "type": "execution"
   },
   {
    "code": "def poly_multiply_naive(coeffs1, coeffs2):\n    n1, n2 = len(coeffs1), len(coeffs2)\n    n = n1 + n2 - 1\n    prod_coeffs = [0] * n\n    for deg in range(n):\n        for i in range(max(0, deg + 1 - n2), min(n1, deg + 1)):\n            prod_coeffs[deg] += coeffs1[i] * coeffs2[deg - i]\n    return prod_coeffs",
    "id": "4373f173cf784f85802661c60df753d8",
    "idx": 33,
    "time": "2021-01-30T22:06:01.790Z",
    "type": "execution"
   },
   {
    "code": "def rand_ints(lo, hi, length):\n    ints = list(randint(lo, hi, length))\n    ints = [int(x) for x in ints]\n    return ints\n\ndef record(array, value, name):\n    array.append(value)\n    print(\"%s%f\" % (name, value))\n\nfft_times = []\nnaive_times = []\nspeed_ups = []\n\nfor i in range(4):\n    n = 10 ** i\n    print(\"\\nsize: %d\" % n)\n    poly1 = rand_ints(1, 100, n)\n    poly2 = rand_ints(1, 100, n)\n    time1 = time()\n    fft_res = poly_multiply(poly1, poly2)\n    fft_res = round_complex_to_int(fft_res)\n    zero_pop(fft_res)\n    time2 = time()\n    fft_time = time2 - time1\n    record(fft_times, fft_time, \"FFT time:   \")\n    naive_res = poly_multiply_naive(poly1, poly2)\n    time3 = time()\n    naive_time = time3 - time2\n    record(naive_times, naive_time, \"naive time: \")\n    assert fft_res == naive_res\n    speed_up = naive_time / fft_time\n    record(speed_ups, speed_up, \"speed up: \")\n\nplt.plot(fft_times, label=\"FFT\")\nplt.plot(naive_times, label=\"Naive\")\nplt.xlabel(\"Log Input Size\")\nplt.ylabel(\"Run Time (seconds)\")\nplt.legend(loc=\"upper left\")\nplt.title(\"Polynomial Multiplication Runtime\")\n\nplt.figure()\nplt.plot(speed_ups)\nplt.xlabel(\"Log Input Size\")\nplt.ylabel(\"Speedup\")\nplt.title(\"FFT Polynomial Multiplication Speedup\")",
    "id": "361d635bb180480fbca50927ae7a99c5",
    "idx": 35,
    "time": "2021-01-30T22:06:01.791Z",
    "type": "execution"
   },
   {
    "id": "b37da62e56824c9995fd675a95f386de",
    "time": "2021-01-30T22:06:02.198Z",
    "type": "completion"
   },
   {
    "id": "8ec76e2f0244489bab0c9e0ec0e2f200",
    "time": "2021-01-30T22:06:02.201Z",
    "type": "completion"
   },
   {
    "id": "6cd5592d676b4c03a3b8ef5ce8e3072a",
    "time": "2021-01-30T22:06:02.250Z",
    "type": "completion"
   },
   {
    "id": "64e63aa80e15489db288833bf3eb8bff",
    "time": "2021-01-30T22:06:02.254Z",
    "type": "completion"
   },
   {
    "id": "3778ba572d144362904abd00d0735229",
    "time": "2021-01-30T22:06:02.255Z",
    "type": "completion"
   },
   {
    "id": "6adb47981b704d5b86d28c97404ebb5d",
    "time": "2021-01-30T22:06:02.355Z",
    "type": "completion"
   },
   {
    "id": "d3951d20f8ed4797a4ceaff63d4d9141",
    "time": "2021-01-30T22:06:02.356Z",
    "type": "completion"
   },
   {
    "id": "1574e6f11bed4a05842c592f70aaf324",
    "time": "2021-01-30T22:06:02.357Z",
    "type": "completion"
   },
   {
    "id": "e77f4e708f4e4dcf8334ed34f03ee1fe",
    "time": "2021-01-30T22:06:02.391Z",
    "type": "completion"
   },
   {
    "id": "a84b1f7f888c407c8cb90f816cd7a4fe",
    "time": "2021-01-30T22:06:02.393Z",
    "type": "completion"
   },
   {
    "id": "d8ec346e7c00470a885f48b0016e3157",
    "time": "2021-01-30T22:06:02.396Z",
    "type": "completion"
   },
   {
    "id": "9dd131071eee448ab7dfaf76693e8461",
    "time": "2021-01-30T22:06:02.397Z",
    "type": "completion"
   },
   {
    "id": "7790e087670240878b40a9a1948f3cca",
    "time": "2021-01-30T22:06:02.402Z",
    "type": "completion"
   },
   {
    "id": "4373f173cf784f85802661c60df753d8",
    "time": "2021-01-30T22:06:02.412Z",
    "type": "completion"
   },
   {
    "id": "361d635bb180480fbca50927ae7a99c5",
    "time": "2021-01-30T22:06:16.254Z",
    "type": "completion"
   },
   {
    "id": "361d635bb180480fbca50927ae7a99c5",
    "time": "2021-01-30T22:06:16.254Z",
    "type": "completion"
   },
   {
    "id": "361d635bb180480fbca50927ae7a99c5",
    "time": "2021-01-30T22:06:16.255Z",
    "type": "completion"
   },
   {
    "code": "def poly_multiply(coeffs1, coeffs2):\n    n = next_power_of_2((len(coeffs1) - 1) * (len(coeffs2) - 1)+1)\n    roots = calc_all_nth_roots(n)\n    f1 = FFT(coeffs1, roots)\n    f2 = FFT(coeffs2, roots)\n    return f1\n    res = [f1[i] * f2[i] for i in range(len(f1))]\n    inverse_roots = [x**(-1) for x in roots]\n    return [x/n for x in FFT(res, inverse_roots)]",
    "id": "d3951d20f8ed4797a4ceaff63d4d9141",
    "idx": 18,
    "time": "2021-01-30T22:07:34.907Z",
    "type": "execution"
   },
   {
    "id": "d3951d20f8ed4797a4ceaff63d4d9141",
    "time": "2021-01-30T22:07:34.974Z",
    "type": "completion"
   },
   {
    "code": "def rand_ints(lo, hi, length):\n    ints = list(randint(lo, hi, length))\n    ints = [int(x) for x in ints]\n    return ints\n\ndef record(array, value, name):\n    array.append(value)\n    print(\"%s%f\" % (name, value))\n\nfft_times = []\nnaive_times = []\nspeed_ups = []\n\nfor i in range(4):\n    n = 10 ** i\n    print(\"\\nsize: %d\" % n)\n    poly1 = rand_ints(1, 100, n)\n    poly2 = rand_ints(1, 100, n)\n    time1 = time()\n    fft_res = poly_multiply(poly1, poly2)\n    fft_res = round_complex_to_int(fft_res)\n    zero_pop(fft_res)\n    time2 = time()\n    fft_time = time2 - time1\n    record(fft_times, fft_time, \"FFT time:   \")\n    naive_res = poly_multiply_naive(poly1, poly2)\n    time3 = time()\n    naive_time = time3 - time2\n    record(naive_times, naive_time, \"naive time: \")\n    #assert fft_res == naive_res\n    speed_up = naive_time / fft_time\n    record(speed_ups, speed_up, \"speed up: \")\n\nplt.plot(fft_times, label=\"FFT\")\nplt.plot(naive_times, label=\"Naive\")\nplt.xlabel(\"Log Input Size\")\nplt.ylabel(\"Run Time (seconds)\")\nplt.legend(loc=\"upper left\")\nplt.title(\"Polynomial Multiplication Runtime\")\n\nplt.figure()\nplt.plot(speed_ups)\nplt.xlabel(\"Log Input Size\")\nplt.ylabel(\"Speedup\")\nplt.title(\"FFT Polynomial Multiplication Speedup\")",
    "id": "361d635bb180480fbca50927ae7a99c5",
    "idx": 35,
    "time": "2021-01-30T22:07:42.634Z",
    "type": "execution"
   },
   {
    "id": "361d635bb180480fbca50927ae7a99c5",
    "time": "2021-01-30T22:07:49.025Z",
    "type": "completion"
   },
   {
    "code": "def next_power_of_2(k):\n    ret = 1\n    while ret < k:\n        ret *= 2\n    return ret\n\n# note that the sine function is math.sin(x) and the cosine function is math.cos(x)\ndef calc_nth_root(n):\n    theta_n = 2 * math.pi / n\n    a = math.cos(theta_n)\n    b = math.sin(theta_n)\n    return a + b * 1j\n\ndef calc_all_nth_roots(n):\n    theta_n = 2 * math.pi / n\n    return [cmath.rect(1, theta_n * k) for k in range(n)]\n    root = calc_nth_root(n)\n    return [root**k for k in range(n)] \n",
    "id": "3778ba572d144362904abd00d0735229",
    "idx": 14,
    "time": "2021-01-30T22:09:15.766Z",
    "type": "execution"
   },
   {
    "id": "3778ba572d144362904abd00d0735229",
    "time": "2021-01-30T22:09:15.831Z",
    "type": "completion"
   },
   {
    "code": "def rand_ints(lo, hi, length):\n    ints = list(randint(lo, hi, length))\n    ints = [int(x) for x in ints]\n    return ints\n\ndef record(array, value, name):\n    array.append(value)\n    print(\"%s%f\" % (name, value))\n\nfft_times = []\nnaive_times = []\nspeed_ups = []\n\nfor i in range(4):\n    n = 10 ** i\n    print(\"\\nsize: %d\" % n)\n    poly1 = rand_ints(1, 100, n)\n    poly2 = rand_ints(1, 100, n)\n    time1 = time()\n    fft_res = poly_multiply(poly1, poly2)\n    fft_res = round_complex_to_int(fft_res)\n    zero_pop(fft_res)\n    time2 = time()\n    fft_time = time2 - time1\n    record(fft_times, fft_time, \"FFT time:   \")\n    naive_res = poly_multiply_naive(poly1, poly2)\n    time3 = time()\n    naive_time = time3 - time2\n    record(naive_times, naive_time, \"naive time: \")\n    assert fft_res == naive_res\n    speed_up = naive_time / fft_time\n    record(speed_ups, speed_up, \"speed up: \")\n\nplt.plot(fft_times, label=\"FFT\")\nplt.plot(naive_times, label=\"Naive\")\nplt.xlabel(\"Log Input Size\")\nplt.ylabel(\"Run Time (seconds)\")\nplt.legend(loc=\"upper left\")\nplt.title(\"Polynomial Multiplication Runtime\")\n\nplt.figure()\nplt.plot(speed_ups)\nplt.xlabel(\"Log Input Size\")\nplt.ylabel(\"Speedup\")\nplt.title(\"FFT Polynomial Multiplication Speedup\")",
    "id": "361d635bb180480fbca50927ae7a99c5",
    "idx": 35,
    "time": "2021-01-30T22:09:19.749Z",
    "type": "execution"
   },
   {
    "id": "361d635bb180480fbca50927ae7a99c5",
    "time": "2021-01-30T22:09:19.917Z",
    "type": "completion"
   },
   {
    "code": "def poly_multiply(coeffs1, coeffs2):\n    n = next_power_of_2((len(coeffs1) - 1) * (len(coeffs2) - 1)+1)\n    roots = calc_all_nth_roots(n)\n    f1 = FFT(coeffs1, roots)\n    f2 = FFT(coeffs2, roots)\n    res = [f1[i] * f2[i] for i in range(len(f1))]\n    inverse_roots = [x**(-1) for x in roots]\n    return [x/n for x in FFT(res, inverse_roots)]",
    "id": "d3951d20f8ed4797a4ceaff63d4d9141",
    "idx": 18,
    "time": "2021-01-30T22:09:27.006Z",
    "type": "execution"
   },
   {
    "id": "d3951d20f8ed4797a4ceaff63d4d9141",
    "time": "2021-01-30T22:09:27.069Z",
    "type": "completion"
   },
   {
    "code": "def round_complex_to_int(lst):\n    return [round(x.real) for x in lst]\n\ndef zero_pop(lst):\n    while lst[-1] == 0:\n        lst.pop()",
    "id": "1574e6f11bed4a05842c592f70aaf324",
    "idx": 20,
    "time": "2021-01-30T22:09:27.487Z",
    "type": "execution"
   },
   {
    "id": "1574e6f11bed4a05842c592f70aaf324",
    "time": "2021-01-30T22:09:27.548Z",
    "type": "completion"
   },
   {
    "code": "expected = [4, 13, 22, 15]\nactual = round_complex_to_int(poly_multiply([1, 2, 3], [4, 5]))\nprint(\"expected: {}\".format(expected))\nprint(\"actual:   {}\".format(actual))",
    "id": "e77f4e708f4e4dcf8334ed34f03ee1fe",
    "idx": 22,
    "time": "2021-01-30T22:09:28.152Z",
    "type": "execution"
   },
   {
    "id": "e77f4e708f4e4dcf8334ed34f03ee1fe",
    "time": "2021-01-30T22:09:28.215Z",
    "type": "completion"
   },
   {
    "code": "expected = [4, 13, 28, 27, 18, 0, 0, 0]\nactual = round_complex_to_int(poly_multiply([1, 2, 3], [4, 5, 6]))\nprint(\"expected: {}\".format(expected))\nprint(\"actual:   {}\".format(actual))",
    "id": "a84b1f7f888c407c8cb90f816cd7a4fe",
    "idx": 23,
    "time": "2021-01-30T22:09:28.690Z",
    "type": "execution"
   },
   {
    "id": "a84b1f7f888c407c8cb90f816cd7a4fe",
    "time": "2021-01-30T22:09:28.755Z",
    "type": "completion"
   },
   {
    "code": "result = poly_multiply([1, 2, 3], [4, 5, 6])\nresult",
    "id": "d8ec346e7c00470a885f48b0016e3157",
    "idx": 25,
    "time": "2021-01-30T22:09:29.310Z",
    "type": "execution"
   },
   {
    "id": "d8ec346e7c00470a885f48b0016e3157",
    "time": "2021-01-30T22:09:29.371Z",
    "type": "completion"
   },
   {
    "code": "result = round_complex_to_int(result)\nresult",
    "id": "9dd131071eee448ab7dfaf76693e8461",
    "idx": 27,
    "time": "2021-01-30T22:09:29.782Z",
    "type": "execution"
   },
   {
    "id": "9dd131071eee448ab7dfaf76693e8461",
    "time": "2021-01-30T22:09:29.846Z",
    "type": "completion"
   },
   {
    "code": "zero_pop(result)\nresult",
    "id": "7790e087670240878b40a9a1948f3cca",
    "idx": 29,
    "time": "2021-01-30T22:09:30.480Z",
    "type": "execution"
   },
   {
    "id": "7790e087670240878b40a9a1948f3cca",
    "time": "2021-01-30T22:09:30.544Z",
    "type": "completion"
   },
   {
    "code": "def poly_multiply_naive(coeffs1, coeffs2):\n    n1, n2 = len(coeffs1), len(coeffs2)\n    n = n1 + n2 - 1\n    prod_coeffs = [0] * n\n    for deg in range(n):\n        for i in range(max(0, deg + 1 - n2), min(n1, deg + 1)):\n            prod_coeffs[deg] += coeffs1[i] * coeffs2[deg - i]\n    return prod_coeffs",
    "id": "4373f173cf784f85802661c60df753d8",
    "idx": 33,
    "time": "2021-01-30T22:09:31.605Z",
    "type": "execution"
   },
   {
    "id": "4373f173cf784f85802661c60df753d8",
    "time": "2021-01-30T22:09:31.668Z",
    "type": "completion"
   },
   {
    "code": "def rand_ints(lo, hi, length):\n    ints = list(randint(lo, hi, length))\n    ints = [int(x) for x in ints]\n    return ints\n\ndef record(array, value, name):\n    array.append(value)\n    print(\"%s%f\" % (name, value))\n\nfft_times = []\nnaive_times = []\nspeed_ups = []\n\nfor i in range(4):\n    n = 10 ** i\n    print(\"\\nsize: %d\" % n)\n    poly1 = rand_ints(1, 100, n)\n    poly2 = rand_ints(1, 100, n)\n    time1 = time()\n    fft_res = poly_multiply(poly1, poly2)\n    fft_res = round_complex_to_int(fft_res)\n    zero_pop(fft_res)\n    time2 = time()\n    fft_time = time2 - time1\n    record(fft_times, fft_time, \"FFT time:   \")\n    naive_res = poly_multiply_naive(poly1, poly2)\n    time3 = time()\n    naive_time = time3 - time2\n    record(naive_times, naive_time, \"naive time: \")\n    assert fft_res == naive_res\n    speed_up = naive_time / fft_time\n    record(speed_ups, speed_up, \"speed up: \")\n\nplt.plot(fft_times, label=\"FFT\")\nplt.plot(naive_times, label=\"Naive\")\nplt.xlabel(\"Log Input Size\")\nplt.ylabel(\"Run Time (seconds)\")\nplt.legend(loc=\"upper left\")\nplt.title(\"Polynomial Multiplication Runtime\")\n\nplt.figure()\nplt.plot(speed_ups)\nplt.xlabel(\"Log Input Size\")\nplt.ylabel(\"Speedup\")\nplt.title(\"FFT Polynomial Multiplication Speedup\")",
    "id": "361d635bb180480fbca50927ae7a99c5",
    "idx": 35,
    "time": "2021-01-30T22:09:32.425Z",
    "type": "execution"
   },
   {
    "id": "361d635bb180480fbca50927ae7a99c5",
    "time": "2021-01-30T22:09:46.356Z",
    "type": "completion"
   },
   {
    "code": "import math\nimport cmath\nfrom numpy.random import randint\nfrom time import time\nimport matplotlib.pyplot as plt",
    "id": "a175b92a274d4b998e5aa7c7ae51b38c",
    "idx": 1,
    "time": "2021-01-31T15:53:56.223Z",
    "type": "execution"
   },
   {
    "id": "a175b92a274d4b998e5aa7c7ae51b38c",
    "time": "2021-01-31T15:53:59.505Z",
    "type": "completion"
   },
   {
    "code": "import math\nimport cmath\nimport numpy as np\nfrom numpy.random import randint\nfrom time import time\nimport matplotlib.pyplot as plt",
    "id": "a175b92a274d4b998e5aa7c7ae51b38c",
    "idx": 1,
    "time": "2021-01-31T16:08:03.770Z",
    "type": "execution"
   },
   {
    "id": "a175b92a274d4b998e5aa7c7ae51b38c",
    "time": "2021-01-31T16:08:04.035Z",
    "type": "completion"
   },
   {
    "code": "def FFT(coeffs, roots):\n    ### YOUR SOLUTION HERE ###\n    n = len(coeffs)\n    if n == 1:\n        return coeffs[0] * roots[0]\n    E = coeffs[0::1]\n    O = coeffs[1::1]\n    EFFT = FFT(E, np.roots([1] + [0]*(n/2-1) + [-1]))\n    OFFT = FFT(O, np.roots([1] + [0]*(n/2-1) + [-1])) \n    print(coeffs)\n    print(roots)\n    ",
    "id": "80a712ce19bc48958f0022abf855db94",
    "idx": 6,
    "time": "2021-01-31T16:13:34.383Z",
    "type": "execution"
   },
   {
    "id": "80a712ce19bc48958f0022abf855db94",
    "time": "2021-01-31T16:13:34.987Z",
    "type": "completion"
   },
   {
    "code": "expected = [6, -2+2j, 2, -2-2j]\nactual = FFT([1, 2, 3], [1, 1j, -1, -1j])\nprint(\"expected: {}\".format(expected))\nprint(\"actual:   {}\".format(actual))",
    "id": "9091ce0273094b0990ffa3549b53dcc9",
    "idx": 9,
    "time": "2021-01-31T16:13:36.922Z",
    "type": "execution"
   },
   {
    "id": "9091ce0273094b0990ffa3549b53dcc9",
    "time": "2021-01-31T16:13:37.504Z",
    "type": "completion"
   },
   {
    "code": "def FFT(coeffs, roots):\n    ### YOUR SOLUTION HERE ###\n    n = len(coeffs)\n    if n == 1:\n        return coeffs[0] * roots[0]\n    E = coeffs[0::1]\n    O = coeffs[1::1]\n    EFFT = FFT(E, np.roots([1] + [0]*int(n/2-1) + [-1]))\n    OFFT = FFT(O, np.roots([1] + [0]*int(n/2-1) + [-1])) \n    print(coeffs)\n    print(roots)\n    ",
    "id": "80a712ce19bc48958f0022abf855db94",
    "idx": 6,
    "time": "2021-01-31T16:13:56.926Z",
    "type": "execution"
   },
   {
    "id": "80a712ce19bc48958f0022abf855db94",
    "time": "2021-01-31T16:13:57.207Z",
    "type": "completion"
   },
   {
    "code": "expected = [6, -2+2j, 2, -2-2j]\nactual = FFT([1, 2, 3], [1, 1j, -1, -1j])\nprint(\"expected: {}\".format(expected))\nprint(\"actual:   {}\".format(actual))",
    "id": "9091ce0273094b0990ffa3549b53dcc9",
    "idx": 9,
    "time": "2021-01-31T16:13:57.748Z",
    "type": "execution"
   },
   {
    "id": "9091ce0273094b0990ffa3549b53dcc9",
    "time": "2021-01-31T16:14:01.845Z",
    "type": "completion"
   },
   {
    "code": "def FFT(coeffs, roots):\n    ### YOUR SOLUTION HERE ###\n    n = len(coeffs)\n    if n == 1:\n        return coeffs[0] * roots[0]\n    E = coeffs[0::2]\n    O = coeffs[1::2]\n    EFFT = FFT(E, np.roots([1] + [0]*int(n/2-1) + [-1]))\n    OFFT = FFT(O, np.roots([1] + [0]*int(n/2-1) + [-1])) \n    print(coeffs)\n    print(roots)\n    ",
    "id": "80a712ce19bc48958f0022abf855db94",
    "idx": 6,
    "time": "2021-01-31T16:14:51.509Z",
    "type": "execution"
   },
   {
    "id": "80a712ce19bc48958f0022abf855db94",
    "time": "2021-01-31T16:14:51.819Z",
    "type": "completion"
   },
   {
    "code": "expected = [6, -2+2j, 2, -2-2j]\nactual = FFT([1, 2, 3], [1, 1j, -1, -1j])\nprint(\"expected: {}\".format(expected))\nprint(\"actual:   {}\".format(actual))",
    "id": "9091ce0273094b0990ffa3549b53dcc9",
    "idx": 9,
    "time": "2021-01-31T16:14:52.640Z",
    "type": "execution"
   },
   {
    "id": "9091ce0273094b0990ffa3549b53dcc9",
    "time": "2021-01-31T16:14:52.951Z",
    "type": "completion"
   },
   {
    "code": "def FFT(coeffs, roots):\n    ### YOUR SOLUTION HERE ###\n    print(\"coeffs\", coeffs)\n    print(\"roots\", roots)\n    n = len(coeffs)\n    if n == 1:\n        return coeffs[0] * roots[0]\n    E = coeffs[0::2]\n    O = coeffs[1::2]\n    EFFT = FFT(E, np.roots([1] + [0]*int(n/2-1) + [-1]))\n    OFFT = FFT(O, np.roots([1] + [0]*int(n/2-1) + [-1])) \n    ",
    "id": "80a712ce19bc48958f0022abf855db94",
    "idx": 6,
    "time": "2021-01-31T16:15:46.883Z",
    "type": "execution"
   },
   {
    "id": "80a712ce19bc48958f0022abf855db94",
    "time": "2021-01-31T16:15:47.163Z",
    "type": "completion"
   },
   {
    "code": "expected = [6, -2+2j, 2, -2-2j]\nactual = FFT([1, 2, 3], [1, 1j, -1, -1j])\nprint(\"expected: {}\".format(expected))\nprint(\"actual:   {}\".format(actual))",
    "id": "9091ce0273094b0990ffa3549b53dcc9",
    "idx": 9,
    "time": "2021-01-31T16:15:47.948Z",
    "type": "execution"
   },
   {
    "id": "9091ce0273094b0990ffa3549b53dcc9",
    "time": "2021-01-31T16:15:48.233Z",
    "type": "completion"
   },
   {
    "code": "def FFT(coeffs, roots):\n    ### YOUR SOLUTION HERE ###\n    print(\"coeffs\", coeffs)\n    print(\"roots\", roots)\n    n = len(coeffs)\n    if n == 1:\n        return coeffs[0] * roots[0]\n    E = coeffs[0::2]\n    O = coeffs[1::2]\n    rootstoevaluate = roots[0::2]\n    EFFT = FFT(E, np.roots([1] + [0]*int(n/2-1) + [-1]))\n    OFFT = FFT(O, np.roots([1] + [0]*int(n/2-1) + [-1])) \n    ",
    "id": "80a712ce19bc48958f0022abf855db94",
    "idx": 6,
    "time": "2021-01-31T16:18:25.559Z",
    "type": "execution"
   },
   {
    "id": "80a712ce19bc48958f0022abf855db94",
    "time": "2021-01-31T16:18:25.854Z",
    "type": "completion"
   },
   {
    "code": "def FFT(coeffs, roots):\n    ### YOUR SOLUTION HERE ###\n    print(\"coeffs\", coeffs)\n    print(\"roots\", roots)\n    n = len(coeffs)\n    if n == 1:\n        return coeffs[0] * roots[0]\n    E = coeffs[0::2]\n    O = coeffs[1::2]\n    rootstoevaluate = roots[0::2]\n    EFFT = FFT(E, rootstoevaluate)\n    OFFT = FFT(O, rootstoevaluare) \n    ",
    "id": "80a712ce19bc48958f0022abf855db94",
    "idx": 6,
    "time": "2021-01-31T16:18:48.833Z",
    "type": "execution"
   },
   {
    "id": "80a712ce19bc48958f0022abf855db94",
    "time": "2021-01-31T16:18:49.101Z",
    "type": "completion"
   },
   {
    "code": "expected = [6, -2+2j, 2, -2-2j]\nactual = FFT([1, 2, 3], [1, 1j, -1, -1j])\nprint(\"expected: {}\".format(expected))\nprint(\"actual:   {}\".format(actual))",
    "id": "9091ce0273094b0990ffa3549b53dcc9",
    "idx": 9,
    "time": "2021-01-31T16:18:49.683Z",
    "type": "execution"
   },
   {
    "id": "9091ce0273094b0990ffa3549b53dcc9",
    "time": "2021-01-31T16:18:50.216Z",
    "type": "completion"
   },
   {
    "code": "def FFT(coeffs, roots):\n    ### YOUR SOLUTION HERE ###\n    print(\"coeffs\", coeffs)\n    print(\"roots\", roots)\n    n = len(coeffs)\n    if n == 1:\n        return coeffs[0] * roots[0]\n    E = coeffs[0::2]\n    O = coeffs[1::2]\n    rootstoevaluate = roots[0::2]\n    EFFT = FFT(E, rootstoevaluate)\n    OFFT = FFT(O, rootstoevaluate)\n    ",
    "id": "80a712ce19bc48958f0022abf855db94",
    "idx": 6,
    "time": "2021-01-31T16:18:58.154Z",
    "type": "execution"
   },
   {
    "id": "80a712ce19bc48958f0022abf855db94",
    "time": "2021-01-31T16:18:58.423Z",
    "type": "completion"
   },
   {
    "code": "expected = [6, -2+2j, 2, -2-2j]\nactual = FFT([1, 2, 3], [1, 1j, -1, -1j])\nprint(\"expected: {}\".format(expected))\nprint(\"actual:   {}\".format(actual))",
    "id": "9091ce0273094b0990ffa3549b53dcc9",
    "idx": 9,
    "time": "2021-01-31T16:18:59.068Z",
    "type": "execution"
   },
   {
    "id": "9091ce0273094b0990ffa3549b53dcc9",
    "time": "2021-01-31T16:18:59.337Z",
    "type": "completion"
   },
   {
    "code": "def FFT(coeffs, roots):\n    ### YOUR SOLUTION HERE ###\n    print(\"coeffs\", coeffs)\n    print(\"roots\", roots)\n    n = len(coeffs)\n    if n == 1:\n        return [coeffs[0] * w for w in roots]\n    E = coeffs[0::2]\n    O = coeffs[1::2]\n    rootstoevaluate = roots[0::2]\n    EFFT = FFT(E, rootstoevaluate)\n    OFFT = FFT(O, rootstoevaluate)\n    P = [EFFT[x] + roots[2*x + 1]*OFFT[x] for x in range(0, len(roots), step = 2)]\n            \n    ",
    "id": "80a712ce19bc48958f0022abf855db94",
    "idx": 6,
    "time": "2021-01-31T16:40:19.207Z",
    "type": "execution"
   },
   {
    "id": "80a712ce19bc48958f0022abf855db94",
    "time": "2021-01-31T16:40:19.473Z",
    "type": "completion"
   },
   {
    "code": "expected = [6, -2+2j, 2, -2-2j]\nactual = FFT([1, 2, 3], [1, 1j, -1, -1j])\nprint(\"expected: {}\".format(expected))\nprint(\"actual:   {}\".format(actual))",
    "id": "9091ce0273094b0990ffa3549b53dcc9",
    "idx": 9,
    "time": "2021-01-31T16:40:20.103Z",
    "type": "execution"
   },
   {
    "id": "9091ce0273094b0990ffa3549b53dcc9",
    "time": "2021-01-31T16:40:20.762Z",
    "type": "completion"
   },
   {
    "code": "def FFT(coeffs, roots):\n    ### YOUR SOLUTION HERE ###\n    print(\"coeffs\", coeffs)\n    print(\"roots\", roots)\n    n = len(coeffs)\n    if n == 1:\n        return [coeffs[0] * w for w in roots]\n    E = coeffs[0::2]\n    O = coeffs[1::2]\n    rootstoevaluate = roots[0::2]\n    EFFT = FFT(E, rootstoevaluate)\n    OFFT = FFT(O, rootstoevaluate)\n    P = [EFFT[x] + roots[2*x + 1]*OFFT[x] for x in range(0, len(roots)/x)]\n            \n    ",
    "id": "80a712ce19bc48958f0022abf855db94",
    "idx": 6,
    "time": "2021-01-31T16:40:55.570Z",
    "type": "execution"
   },
   {
    "id": "80a712ce19bc48958f0022abf855db94",
    "time": "2021-01-31T16:40:55.853Z",
    "type": "completion"
   },
   {
    "code": "def FFT(coeffs, roots):\n    ### YOUR SOLUTION HERE ###\n    print(\"coeffs\", coeffs)\n    print(\"roots\", roots)\n    n = len(coeffs)\n    if n == 1:\n        return [coeffs[0] * w for w in roots]\n    E = coeffs[0::2]\n    O = coeffs[1::2]\n    rootstoevaluate = roots[0::2]\n    EFFT = FFT(E, rootstoevaluate)\n    OFFT = FFT(O, rootstoevaluate)\n    P = [EFFT[x] + roots[2*x + 1]*OFFT[x] for x in range(len(roots)/2)]\n            \n    ",
    "id": "80a712ce19bc48958f0022abf855db94",
    "idx": 6,
    "time": "2021-01-31T16:41:01.779Z",
    "type": "execution"
   },
   {
    "id": "80a712ce19bc48958f0022abf855db94",
    "time": "2021-01-31T16:41:02.040Z",
    "type": "completion"
   },
   {
    "code": "expected = [6, -2+2j, 2, -2-2j]\nactual = FFT([1, 2, 3], [1, 1j, -1, -1j])\nprint(\"expected: {}\".format(expected))\nprint(\"actual:   {}\".format(actual))",
    "id": "9091ce0273094b0990ffa3549b53dcc9",
    "idx": 9,
    "time": "2021-01-31T16:41:02.326Z",
    "type": "execution"
   },
   {
    "id": "9091ce0273094b0990ffa3549b53dcc9",
    "time": "2021-01-31T16:41:02.863Z",
    "type": "completion"
   },
   {
    "code": "def FFT(coeffs, roots):\n    ### YOUR SOLUTION HERE ###\n    print(\"coeffs\", coeffs)\n    print(\"roots\", roots)\n    n = len(coeffs)\n    if n == 1:\n        return [coeffs[0] * w for w in roots]\n    E = coeffs[0::2]\n    O = coeffs[1::2]\n    rootstoevaluate = roots[0::2]\n    EFFT = FFT(E, rootstoevaluate)\n    OFFT = FFT(O, rootstoevaluate)\n    P = [EFFT[x] + roots[2*x + 1]*OFFT[x] for x in range(int(len(roots)/2))]\n            \n    ",
    "id": "80a712ce19bc48958f0022abf855db94",
    "idx": 6,
    "time": "2021-01-31T16:41:41.182Z",
    "type": "execution"
   },
   {
    "id": "80a712ce19bc48958f0022abf855db94",
    "time": "2021-01-31T16:41:41.447Z",
    "type": "completion"
   },
   {
    "code": "expected = [6, -2+2j, 2, -2-2j]\nactual = FFT([1, 2, 3], [1, 1j, -1, -1j])\nprint(\"expected: {}\".format(expected))\nprint(\"actual:   {}\".format(actual))",
    "id": "9091ce0273094b0990ffa3549b53dcc9",
    "idx": 9,
    "time": "2021-01-31T16:41:42.142Z",
    "type": "execution"
   },
   {
    "id": "9091ce0273094b0990ffa3549b53dcc9",
    "time": "2021-01-31T16:41:42.677Z",
    "type": "completion"
   },
   {
    "code": "def FFT(coeffs, roots):\n    ### YOUR SOLUTION HERE ###\n    print(\"coeffs\", coeffs)\n    print(\"roots\", roots)\n    n = len(coeffs)\n    if n == 1 and roots:\n        return [coeffs[0] * w for w in roots]\n    E = coeffs[0::2]\n    O = coeffs[1::2]\n    rootstoevaluate = roots[0::2]\n    EFFT = FFT(E, rootstoevaluate)\n    OFFT = FFT(O, rootstoevaluate)\n    P = [EFFT[x] + roots[2*x + 1]*OFFT[x] for x in range(int(len(roots)/2))]\n            \n    ",
    "id": "80a712ce19bc48958f0022abf855db94",
    "idx": 6,
    "time": "2021-01-31T16:54:10.039Z",
    "type": "execution"
   },
   {
    "id": "80a712ce19bc48958f0022abf855db94",
    "time": "2021-01-31T16:54:10.313Z",
    "type": "completion"
   },
   {
    "code": "expected = [6, -2+2j, 2, -2-2j]\nactual = FFT([1, 2, 3], [1, 1j, -1, -1j])\nprint(\"expected: {}\".format(expected))\nprint(\"actual:   {}\".format(actual))",
    "id": "9091ce0273094b0990ffa3549b53dcc9",
    "idx": 9,
    "time": "2021-01-31T16:54:10.825Z",
    "type": "execution"
   },
   {
    "id": "9091ce0273094b0990ffa3549b53dcc9",
    "time": "2021-01-31T16:54:11.349Z",
    "type": "completion"
   },
   {
    "code": "def FFT(coeffs, roots):\n    ### YOUR SOLUTION HERE ###\n    print(\"coeffs\", coeffs)\n    print(\"roots\", roots)\n    n = len(coeffs)\n    if n == 1 and roots:\n        return [coeffs[0] * w for w in roots]\n    E = coeffs[0::2]\n    O = coeffs[1::2]\n    rootstoevaluate = roots[0::2]\n    EFFT = FFT(E, rootstoevaluate)\n    OFFT = FFT(O, rootstoevaluate)\n    print(\"EFFT\", EFFT)\n    print(\"OFFT\", OFFT)\n    P = [EFFT[x] + roots[2*x + 1]*OFFT[x] for x in range(int(len(roots)/2))]\n            \n    ",
    "id": "80a712ce19bc48958f0022abf855db94",
    "idx": 6,
    "time": "2021-01-31T16:55:06.755Z",
    "type": "execution"
   },
   {
    "id": "80a712ce19bc48958f0022abf855db94",
    "time": "2021-01-31T16:55:07.029Z",
    "type": "completion"
   },
   {
    "code": "expected = [6, -2+2j, 2, -2-2j]\nactual = FFT([1, 2, 3], [1, 1j, -1, -1j])\nprint(\"expected: {}\".format(expected))\nprint(\"actual:   {}\".format(actual))",
    "id": "9091ce0273094b0990ffa3549b53dcc9",
    "idx": 9,
    "time": "2021-01-31T16:55:07.670Z",
    "type": "execution"
   },
   {
    "id": "9091ce0273094b0990ffa3549b53dcc9",
    "time": "2021-01-31T16:55:08.186Z",
    "type": "completion"
   },
   {
    "code": "def FFT(coeffs, roots):\n    ### YOUR SOLUTION HERE ###\n    print(\"coeffs\", coeffs)\n    print(\"roots\", roots)\n    n = len(coeffs)\n    if n == 1 and roots:\n        retval = [coeffs[0] * w for w in roots]\n        print(\"returning\", )\n        return retval\n    E = coeffs[0::2]\n    O = coeffs[1::2]\n    rootstoevaluate = roots[0::2]\n    EFFT = FFT(E, rootstoevaluate)\n    OFFT = FFT(O, rootstoevaluate)\n    print(\"EFFT\", EFFT)\n    print(\"OFFT\", OFFT)\n    P = [EFFT[x] + roots[2*x + 1]*OFFT[x] for x in range(int(len(roots)/2))]\n            \n    ",
    "id": "80a712ce19bc48958f0022abf855db94",
    "idx": 6,
    "time": "2021-01-31T16:59:08.653Z",
    "type": "execution"
   },
   {
    "id": "80a712ce19bc48958f0022abf855db94",
    "time": "2021-01-31T16:59:08.919Z",
    "type": "completion"
   },
   {
    "code": "expected = [6, -2+2j, 2, -2-2j]\nactual = FFT([1, 2, 3], [1, 1j, -1, -1j])\nprint(\"expected: {}\".format(expected))\nprint(\"actual:   {}\".format(actual))",
    "id": "9091ce0273094b0990ffa3549b53dcc9",
    "idx": 9,
    "time": "2021-01-31T16:59:10.747Z",
    "type": "execution"
   },
   {
    "id": "9091ce0273094b0990ffa3549b53dcc9",
    "time": "2021-01-31T16:59:11.275Z",
    "type": "completion"
   },
   {
    "code": "def FFT(coeffs, roots):\n    ### YOUR SOLUTION HERE ###\n    print(\"coeffs\", coeffs)\n    print(\"roots\", roots)\n    n = len(coeffs)\n    if n == 1 and roots:\n        retval = [coeffs[0] * w for w in roots]\n        print(\"returning\", retval)\n        return retval\n    E = coeffs[0::2]\n    O = coeffs[1::2]\n    rootstoevaluate = roots[0::2]\n    EFFT = FFT(E, rootstoevaluate)\n    OFFT = FFT(O, rootstoevaluate)\n    print(\"EFFT\", EFFT)\n    print(\"OFFT\", OFFT)\n    P = [EFFT[x] + roots[2*x + 1]*OFFT[x] for x in range(int(len(roots)/2))]\n            \n    ",
    "id": "80a712ce19bc48958f0022abf855db94",
    "idx": 6,
    "time": "2021-01-31T16:59:18.940Z",
    "type": "execution"
   },
   {
    "id": "80a712ce19bc48958f0022abf855db94",
    "time": "2021-01-31T16:59:19.210Z",
    "type": "completion"
   },
   {
    "code": "expected = [6, -2+2j, 2, -2-2j]\nactual = FFT([1, 2, 3], [1, 1j, -1, -1j])\nprint(\"expected: {}\".format(expected))\nprint(\"actual:   {}\".format(actual))",
    "id": "9091ce0273094b0990ffa3549b53dcc9",
    "idx": 9,
    "time": "2021-01-31T16:59:19.928Z",
    "type": "execution"
   },
   {
    "id": "9091ce0273094b0990ffa3549b53dcc9",
    "time": "2021-01-31T16:59:20.446Z",
    "type": "completion"
   },
   {
    "code": "def FFT(coeffs, roots):\n    ### YOUR SOLUTION HERE ###\n    print(\"coeffs\", coeffs)\n    print(\"roots\", roots)\n    n = len(coeffs)\n    if n == 1 and roots or len(roots) == 1:\n        retval = [coeffs[0] * w for w in roots]\n        print(\"returning\", retval)\n        return retval\n    E = coeffs[0::2]\n    O = coeffs[1::2]\n    rootstoevaluate = roots[0::2]\n    EFFT = FFT(E, rootstoevaluate)\n    OFFT = FFT(O, rootstoevaluate)\n    print(\"EFFT\", EFFT)\n    print(\"OFFT\", OFFT)\n    P = [EFFT[x] + roots[2*x + 1]*OFFT[x] for x in range(int(len(roots)/2))]\n            \n    ",
    "id": "80a712ce19bc48958f0022abf855db94",
    "idx": 6,
    "time": "2021-01-31T17:00:19.647Z",
    "type": "execution"
   },
   {
    "id": "80a712ce19bc48958f0022abf855db94",
    "time": "2021-01-31T17:00:19.910Z",
    "type": "completion"
   },
   {
    "code": "expected = [6, -2+2j, 2, -2-2j]\nactual = FFT([1, 2, 3], [1, 1j, -1, -1j])\nprint(\"expected: {}\".format(expected))\nprint(\"actual:   {}\".format(actual))",
    "id": "9091ce0273094b0990ffa3549b53dcc9",
    "idx": 9,
    "time": "2021-01-31T17:00:20.358Z",
    "type": "execution"
   },
   {
    "id": "9091ce0273094b0990ffa3549b53dcc9",
    "time": "2021-01-31T17:00:20.876Z",
    "type": "completion"
   }
  ],
  "kernelspec": {
   "display_name": "Python 3",
   "language": "python",
   "name": "python3"
  },
  "language_info": {
   "codemirror_mode": {
    "name": "ipython",
    "version": 3
   },
   "file_extension": ".py",
   "mimetype": "text/x-python",
   "name": "python",
   "nbconvert_exporter": "python",
   "pygments_lexer": "ipython3",
   "version": "3.8.18"
  },
  "otter": {
   "OK_FORMAT": false,
   "assignment_name": "hw07",
   "tests": {
    "edit_distance": "from otter.test_files import test_case\n\nOK_FORMAT = False\n\nname = \"edit_distance\"\npoints = 6\n\n@test_case(points=None, hidden=False)\ndef test_edit_distance(edit_distance,tqdm,random,string, time, pylev):\n    start = time.time()\n    def check_word(original, aligned):\n        ''' checks that the string `aligned` is obtained by only adding gaps to the string `original`'''\n        \n        assert len(aligned) >= len(original), \"your function returned a string which is shorter than the input string!\"\n        i,j = 0,0\n        while i < len(original) and j < len(aligned):\n            while aligned[j] == '-' and j < len(aligned):\n                j += 1\n            assert original[i] == aligned[j], \"your function returned a string which cannot be produced by only adding gaps!\"\n            i += 1\n            j += 1\n        while j < len(aligned):\n            assert aligned[j] == '-', \"your function returned a string which cannot be produced by only adding gaps!\"\n            j += 1\n            \n    NUM_TRIALS = 200\n    LETTERS = string.ascii_lowercase\n    MIN_WORD_SIZE = 250\n    MAX_WORD_SIZE = 500\n    \n    letters = string.ascii_lowercase\n    for i in tqdm.tqdm(range(NUM_TRIALS)):\n        word1_size = random.randint(MIN_WORD_SIZE, MAX_WORD_SIZE)\n        word2_size = random.randint(MIN_WORD_SIZE, MAX_WORD_SIZE)\n        word1 = ''.join(random.choice(letters) for i in range(word1_size))\n        word2 = ''.join(random.choice(letters) for i in range(word2_size))\n        align1,align2 = edit_distance(word1, word2)\n        \n        assert len(align1) == len(align2), f\"\"\"a global alignment requires the two strings to be the same \n            length, your functions returns two strings of length {len(align1)} and {len(align2)}!\"\"\"\n        \n        check_word(word1, align1)\n        check_word(word2, align2)\n        \n        dist = 0\n        for a,b in zip(align1,align2):\n            if a != b:\n                dist += 1\n        staff_distance = pylev.levenshtein(word1, word2)\n        assert staff_distance == dist, f\"\"\"the inputs have an edit distance of {staff_distance}, but your\n            strings have a distance of {dist}.\"\"\"\n    finish = time.time()\n    assert finish - start < 60, \"your solution timed out\"\n\n",
    "s1": "from otter.test_files import test_case\n\nOK_FORMAT = False\n\nname = \"s1\"\npoints = 0\n\n@test_case(points=None, hidden=False)\ndef test_s1(node):\n    sol = (5,6)\n    assert node == sol, f\"try again, {node} is not the correct node\"\n\n",
    "s2": "from otter.test_files import test_case\n\nOK_FORMAT = False\n\nname = \"s2\"\npoints = 0\n\n@test_case(points=None, hidden=False)\ndef test_s2(ans):\n    sol = [2,3]\n    assert sorted(ans) == sol, f\"Try again, {ans} is not the correct answer.\"\n    print(\"Correct, an edge (i-1,j)->(i,j) corresponds to deleting a character from x in our original edit distance. In terms of global alignment, this is equivalent to adding a gap to y and having that gap correspond to the next character in x which is x[i-1]\")\n\n",
    "s3": "from otter.test_files import test_case\n\nOK_FORMAT = False\n\nname = \"s3\"\npoints = 0\n\n@test_case(points=None, hidden=False)\ndef test_s3(ans):\n    sol = [1,4]\n    assert sorted(ans) == sol, f\"Try again, {ans} is not the correct answer.\"\n    print(\"Correct, an edge (i,j-1)->(i,j) corresponds to inserting a character int x in our original edit distance. In terms of global alignment, this is equivalent to adding a gap to x and having that gap correspond to the next character in y which is y[j-1]\")\n\n",
    "s4": "from otter.test_files import test_case\n\nOK_FORMAT = False\n\nname = \"s4\"\npoints = 0\n\n@test_case(points=None, hidden=False)\ndef test_s4(ans):\n    sol = [3,4]\n    assert sorted(ans) == sol, f\"Try again, {ans} is not the correct answer.\"\n    print(\"Correct, an edge (i-1,j-1)->(i,j) corresponds to substituting a character int x in our original edit distance. In terms of global alignment, this is equivalent to adding the next characters of both x and y.\")\n\n",
    "s5": "from otter.test_files import test_case\n\nOK_FORMAT = False\n\nname = \"s5\"\npoints = 0\n\n@test_case(points=None, hidden=False)\ndef test_s5(ans):\n    assert sorted(ans) == [1,3], f\"Try again, {ans} is not the correct answer.\"\n    print(\"Correct, since dp[i][j] = dp[i-1][j] + 1 and dp[i][j] = dp[i-1][j-1] + diff(i,j)\")\n\n",
    "s6": "from otter.test_files import test_case\n\nOK_FORMAT = False\n\nname = \"s6\"\npoints = 0\n\n@test_case(points=None, hidden=False)\ndef test_s6(ans):\n    assert sorted(ans) == [2], f\"Try again, {ans} is not the correct answer.\"\n    print(\"Correct, since dp[i][j] = dp[i][j-1] + 1\")\n\n"
   }
  }
 },
 "nbformat": 4,
 "nbformat_minor": 4
}
